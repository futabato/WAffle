{
  "nbformat": 4,
  "nbformat_minor": 0,
  "metadata": {
    "colab": {
      "name": "1D-conv",
      "provenance": [],
      "collapsed_sections": []
    },
    "kernelspec": {
      "name": "python3",
      "display_name": "Python 3"
    },
    "accelerator": "GPU"
  },
  "cells": [
    {
      "cell_type": "markdown",
      "metadata": {
        "id": "gvmTLbfe0xlX"
      },
      "source": [
        "# 概要\r\n",
        "\r\n",
        "Character-LevelのCNNでWAFを作る。  \r\n",
        "論文の内容をKerasで実装してみる。  \r\n",
        "原著論文はこちら http://iyatomi-lab.info/sites/default/files/user/CSPA2018%20Proceedings_ito.pdf \r\n"
      ]
    },
    {
      "cell_type": "code",
      "metadata": {
        "colab": {
          "base_uri": "https://localhost:8080/"
        },
        "id": "YRWbsERuQC-m",
        "outputId": "2d70c48b-9598-4c04-e5ee-f970e25a2205"
      },
      "source": [
        "!apt install neofetch\r\n",
        "!neofetch"
      ],
      "execution_count": null,
      "outputs": [
        {
          "output_type": "stream",
          "text": [
            "Reading package lists... Done\n",
            "Building dependency tree       \n",
            "Reading state information... Done\n",
            "The following NEW packages will be installed:\n",
            "  neofetch\n",
            "0 upgraded, 1 newly installed, 0 to remove and 13 not upgraded.\n",
            "Need to get 74.8 kB of archives.\n",
            "After this operation, 365 kB of additional disk space will be used.\n",
            "Get:1 http://archive.ubuntu.com/ubuntu bionic/universe amd64 neofetch all 3.4.0-1 [74.8 kB]\n",
            "Fetched 74.8 kB in 1s (103 kB/s)\n",
            "Selecting previously unselected package neofetch.\n",
            "(Reading database ... 146374 files and directories currently installed.)\n",
            "Preparing to unpack .../neofetch_3.4.0-1_all.deb ...\n",
            "Unpacking neofetch (3.4.0-1) ...\n",
            "Setting up neofetch (3.4.0-1) ...\n",
            "Processing triggers for man-db (2.8.3-2ubuntu0.1) ...\n",
            "\u001b[?25l\u001b[?7l\u001b[0m\u001b[31m\u001b[1m            .-/+oossssoo+/-. \n",
            "        `:+ssssssssssssssssss+:` \n",
            "      -+ssssssssssssssssssyyssss+- \n",
            "    .ossssssssssssssssss\u001b[37m\u001b[0m\u001b[1mdMMMNy\u001b[0m\u001b[31m\u001b[1msssso. \n",
            "   /sssssssssss\u001b[37m\u001b[0m\u001b[1mhdmmNNmmyNMMMMh\u001b[0m\u001b[31m\u001b[1mssssss/ \n",
            "  +sssssssss\u001b[37m\u001b[0m\u001b[1mhm\u001b[0m\u001b[31m\u001b[1myd\u001b[37m\u001b[0m\u001b[1mMMMMMMMNddddy\u001b[0m\u001b[31m\u001b[1mssssssss+ \n",
            " /ssssssss\u001b[37m\u001b[0m\u001b[1mhNMMM\u001b[0m\u001b[31m\u001b[1myh\u001b[37m\u001b[0m\u001b[1mhyyyyhmNMMMNh\u001b[0m\u001b[31m\u001b[1mssssssss/ \n",
            ".ssssssss\u001b[37m\u001b[0m\u001b[1mdMMMNh\u001b[0m\u001b[31m\u001b[1mssssssssss\u001b[37m\u001b[0m\u001b[1mhNMMMd\u001b[0m\u001b[31m\u001b[1mssssssss. \n",
            "+ssss\u001b[37m\u001b[0m\u001b[1mhhhyNMMNy\u001b[0m\u001b[31m\u001b[1mssssssssssss\u001b[37m\u001b[0m\u001b[1myNMMMy\u001b[0m\u001b[31m\u001b[1msssssss+ \n",
            "oss\u001b[37m\u001b[0m\u001b[1myNMMMNyMMh\u001b[0m\u001b[31m\u001b[1mssssssssssssss\u001b[37m\u001b[0m\u001b[1mhmmmh\u001b[0m\u001b[31m\u001b[1mssssssso \n",
            "oss\u001b[37m\u001b[0m\u001b[1myNMMMNyMMh\u001b[0m\u001b[31m\u001b[1msssssssssssssshmmmh\u001b[0m\u001b[31m\u001b[1mssssssso \n",
            "+ssss\u001b[37m\u001b[0m\u001b[1mhhhyNMMNy\u001b[0m\u001b[31m\u001b[1mssssssssssss\u001b[37m\u001b[0m\u001b[1myNMMMy\u001b[0m\u001b[31m\u001b[1msssssss+ \n",
            ".ssssssss\u001b[37m\u001b[0m\u001b[1mdMMMNh\u001b[0m\u001b[31m\u001b[1mssssssssss\u001b[37m\u001b[0m\u001b[1mhNMMMd\u001b[0m\u001b[31m\u001b[1mssssssss. \n",
            " /ssssssss\u001b[37m\u001b[0m\u001b[1mhNMMM\u001b[0m\u001b[31m\u001b[1myh\u001b[37m\u001b[0m\u001b[1mhyyyyhdNMMMNh\u001b[0m\u001b[31m\u001b[1mssssssss/ \n",
            "  +sssssssss\u001b[37m\u001b[0m\u001b[1mdm\u001b[0m\u001b[31m\u001b[1myd\u001b[37m\u001b[0m\u001b[1mMMMMMMMMddddy\u001b[0m\u001b[31m\u001b[1mssssssss+ \n",
            "   /sssssssssss\u001b[37m\u001b[0m\u001b[1mhdmNNNNmyNMMMMh\u001b[0m\u001b[31m\u001b[1mssssss/ \n",
            "    .ossssssssssssssssss\u001b[37m\u001b[0m\u001b[1mdMMMNy\u001b[0m\u001b[31m\u001b[1msssso. \n",
            "      -+sssssssssssssssss\u001b[37m\u001b[0m\u001b[1myyy\u001b[0m\u001b[31m\u001b[1mssss+- \n",
            "        `:+ssssssssssssssssss+:` \n",
            "            .-/+oossssoo+/-. \n",
            "\u001b[20A\u001b[9999999D\u001b[43C\u001b[0m\u001b[1m\u001b[0m\u001b[31m\u001b[1mroot@\u001b[0m\u001b[31m\u001b[1m14b909972f48\u001b[0m \n",
            "\u001b[43C\u001b[0m-----------------\u001b[0m \n",
            "\u001b[43C\u001b[0m\u001b[31m\u001b[1mOS\u001b[0m\u001b[0m:\u001b[0m Ubuntu 18.04.5 LTS x86_64\u001b[0m \n",
            "\u001b[43C\u001b[0m\u001b[31m\u001b[1mHost\u001b[0m\u001b[0m:\u001b[0m Google Compute Engine\u001b[0m \n",
            "\u001b[43C\u001b[0m\u001b[31m\u001b[1mKernel\u001b[0m\u001b[0m:\u001b[0m 4.19.112+\u001b[0m \n",
            "\u001b[43C\u001b[0m\u001b[31m\u001b[1mUptime\u001b[0m\u001b[0m:\u001b[0m 4 mins\u001b[0m \n",
            "\u001b[43C\u001b[0m\u001b[31m\u001b[1mPackages\u001b[0m\u001b[0m:\u001b[0m 1254\u001b[0m \n",
            "\u001b[43C\u001b[0m\u001b[31m\u001b[1mShell\u001b[0m\u001b[0m:\u001b[0m bash 4.4.20\u001b[0m \n",
            "\u001b[43C\u001b[0m\u001b[31m\u001b[1mTerminal\u001b[0m\u001b[0m:\u001b[0m jupyter-noteboo\u001b[0m \n",
            "\u001b[43C\u001b[0m\u001b[31m\u001b[1mCPU\u001b[0m\u001b[0m:\u001b[0m Intel Xeon (2) @ 2.199GHz\u001b[0m \n",
            "\u001b[43C\u001b[0m\u001b[31m\u001b[1mMemory\u001b[0m\u001b[0m:\u001b[0m 552MiB / 13021MiB\u001b[0m \n",
            "\n",
            "\u001b[43C\u001b[0m\u001b[30m\u001b[40m   \u001b[0m\u001b[31m\u001b[41m   \u001b[0m\u001b[32m\u001b[42m   \u001b[0m\u001b[33m\u001b[43m   \u001b[0m\u001b[34m\u001b[44m   \u001b[0m\u001b[35m\u001b[45m   \u001b[0m\u001b[36m\u001b[46m   \u001b[0m\u001b[37m\u001b[47m   \u001b[0m\n",
            "\n",
            "\n",
            "\u001b[6B\u001b[?25h\u001b[?7h"
          ],
          "name": "stdout"
        }
      ]
    },
    {
      "cell_type": "markdown",
      "metadata": {
        "id": "B1dsexYs1IqJ"
      },
      "source": [
        "## データの準備\r\n",
        "\r\n",
        "inputはURL decode -> Unicode encodeしたもの"
      ]
    },
    {
      "cell_type": "code",
      "metadata": {
        "id": "-s-l1JL-3hJp"
      },
      "source": [
        "import numpy as np\r\n",
        "import pandas as pd\r\n",
        "import matplotlib.pyplot as plt\r\n",
        "from sklearn.model_selection import train_test_split\r\n",
        "\r\n",
        "import tensorflow as tf\r\n",
        "import keras\r\n",
        "from keras.models import Model, load_model\r\n",
        "from keras.layers import Input, Embedding, Dense, Dropout, Flatten, Conv1D, MaxPool1D, Add, Reshape, normalization, Concatenate, merge, GlobalMaxPooling1D\r\n",
        "from keras.utils import plot_model, to_categorical, np_utils\r\n",
        "from keras.preprocessing import sequence\r\n",
        "from keras.preprocessing.text import Tokenizer\r\n",
        "from keras import optimizers"
      ],
      "execution_count": null,
      "outputs": []
    },
    {
      "cell_type": "code",
      "metadata": {
        "id": "-NzRURP9uQ9T"
      },
      "source": [
        "pd.set_option(\"display.max_colwidth\", 1024)"
      ],
      "execution_count": null,
      "outputs": []
    },
    {
      "cell_type": "code",
      "metadata": {
        "colab": {
          "base_uri": "https://localhost:8080/"
        },
        "id": "yIJK0lixnQNM",
        "outputId": "f64eb729-ff6d-4fef-e6ba-e8a49c72703b"
      },
      "source": [
        "%cd /content/drive/MyDrive/WAffle/\r\n",
        "!ls -al"
      ],
      "execution_count": null,
      "outputs": [
        {
          "output_type": "stream",
          "text": [
            "/content/drive/MyDrive/WAffle\n",
            "total 155409\n",
            "-rw------- 1 root root    287003 Jan 24 19:22 1D-conv\n",
            "-rw------- 1 root root     82093 Jan 24 11:39 2D-conv\n",
            "-rw------- 1 root root    253482 Jan 15 20:15 CharacterLevel-CNN\n",
            "drwx------ 2 root root      4096 Dec 27 18:45 Dataset\n",
            "-rw------- 1 root root     23042 Jan 24 12:39 example\n",
            "drwx------ 2 root root      4096 Jan 16 02:19 images\n",
            "drwx------ 2 root root      4096 Dec 27 13:42 KerasPractice\n",
            "drwx------ 2 root root      4096 Jan  9 05:29 log\n",
            "drwx------ 2 root root      4096 Dec 30 12:35 model_dir\n",
            "-rw------- 1 root root 104236608 Jan 20 18:29 model.h5\n",
            "-rw------- 1 root root  26683198 Jan  9 05:29 ngrok\n",
            "-rw------- 1 root root  13773305 Jan  9 05:27 ngrok-stable-linux-amd64.zip\n",
            "-rw------- 1 root root  13773305 Jan  9 05:28 ngrok-stable-linux-amd64.zip.1\n",
            "drwx------ 2 root root      4096 Jan 16 02:19 slides\n"
          ],
          "name": "stdout"
        }
      ]
    },
    {
      "cell_type": "code",
      "metadata": {
        "id": "XZqaE3AznsXR"
      },
      "source": [
        "df = pd.read_csv('Dataset/cisc_database/csic_database.csv')"
      ],
      "execution_count": null,
      "outputs": []
    },
    {
      "cell_type": "code",
      "metadata": {
        "id": "KKg3lQiIXNiE"
      },
      "source": [
        "df = df.rename(columns={'Unnamed: 0':'Target'})"
      ],
      "execution_count": null,
      "outputs": []
    },
    {
      "cell_type": "code",
      "metadata": {
        "colab": {
          "base_uri": "https://localhost:8080/",
          "height": 661
        },
        "id": "aoztO_ZdrpiQ",
        "outputId": "e0e23d00-a9bd-4269-cbe7-6bcd90b6e8d8"
      },
      "source": [
        "df.head()"
      ],
      "execution_count": null,
      "outputs": [
        {
          "output_type": "execute_result",
          "data": {
            "text/html": [
              "<div>\n",
              "<style scoped>\n",
              "    .dataframe tbody tr th:only-of-type {\n",
              "        vertical-align: middle;\n",
              "    }\n",
              "\n",
              "    .dataframe tbody tr th {\n",
              "        vertical-align: top;\n",
              "    }\n",
              "\n",
              "    .dataframe thead th {\n",
              "        text-align: right;\n",
              "    }\n",
              "</style>\n",
              "<table border=\"1\" class=\"dataframe\">\n",
              "  <thead>\n",
              "    <tr style=\"text-align: right;\">\n",
              "      <th></th>\n",
              "      <th>Target</th>\n",
              "      <th>Method</th>\n",
              "      <th>User-Agent</th>\n",
              "      <th>Pragma</th>\n",
              "      <th>Cache-Control</th>\n",
              "      <th>Accept</th>\n",
              "      <th>Accept-encoding</th>\n",
              "      <th>Accept-charset</th>\n",
              "      <th>language</th>\n",
              "      <th>host</th>\n",
              "      <th>cookie</th>\n",
              "      <th>content-type</th>\n",
              "      <th>connection</th>\n",
              "      <th>lenght</th>\n",
              "      <th>content</th>\n",
              "      <th>classification</th>\n",
              "      <th>URL</th>\n",
              "    </tr>\n",
              "  </thead>\n",
              "  <tbody>\n",
              "    <tr>\n",
              "      <th>0</th>\n",
              "      <td>Normal</td>\n",
              "      <td>GET</td>\n",
              "      <td>Mozilla/5.0 (compatible; Konqueror/3.5; Linux) KHTML/3.5.8 (like Gecko)</td>\n",
              "      <td>no-cache</td>\n",
              "      <td>no-cache</td>\n",
              "      <td>text/xml,application/xml,application/xhtml+xml,text/html;q=0.9,text/plain;q=0.8,image/png,*/*;q=0.5</td>\n",
              "      <td>x-gzip, x-deflate, gzip, deflate</td>\n",
              "      <td>utf-8, utf-8;q=0.5, *;q=0.5</td>\n",
              "      <td>en</td>\n",
              "      <td>localhost:8080</td>\n",
              "      <td>JSESSIONID=1F767F17239C9B670A39E9B10C3825F4</td>\n",
              "      <td>NaN</td>\n",
              "      <td>close</td>\n",
              "      <td>NaN</td>\n",
              "      <td>NaN</td>\n",
              "      <td>0</td>\n",
              "      <td>http://localhost:8080/tienda1/index.jsp HTTP/1.1</td>\n",
              "    </tr>\n",
              "    <tr>\n",
              "      <th>1</th>\n",
              "      <td>Normal</td>\n",
              "      <td>GET</td>\n",
              "      <td>Mozilla/5.0 (compatible; Konqueror/3.5; Linux) KHTML/3.5.8 (like Gecko)</td>\n",
              "      <td>no-cache</td>\n",
              "      <td>no-cache</td>\n",
              "      <td>text/xml,application/xml,application/xhtml+xml,text/html;q=0.9,text/plain;q=0.8,image/png,*/*;q=0.5</td>\n",
              "      <td>x-gzip, x-deflate, gzip, deflate</td>\n",
              "      <td>utf-8, utf-8;q=0.5, *;q=0.5</td>\n",
              "      <td>en</td>\n",
              "      <td>localhost:8080</td>\n",
              "      <td>JSESSIONID=81761ACA043B0E6014CA42A4BCD06AB5</td>\n",
              "      <td>NaN</td>\n",
              "      <td>close</td>\n",
              "      <td>NaN</td>\n",
              "      <td>NaN</td>\n",
              "      <td>0</td>\n",
              "      <td>http://localhost:8080/tienda1/publico/anadir.jsp?id=3&amp;nombre=Vino+Rioja&amp;precio=100&amp;cantidad=55&amp;B1=A%F1adir+al+carrito HTTP/1.1</td>\n",
              "    </tr>\n",
              "    <tr>\n",
              "      <th>2</th>\n",
              "      <td>Normal</td>\n",
              "      <td>POST</td>\n",
              "      <td>Mozilla/5.0 (compatible; Konqueror/3.5; Linux) KHTML/3.5.8 (like Gecko)</td>\n",
              "      <td>no-cache</td>\n",
              "      <td>no-cache</td>\n",
              "      <td>text/xml,application/xml,application/xhtml+xml,text/html;q=0.9,text/plain;q=0.8,image/png,*/*;q=0.5</td>\n",
              "      <td>x-gzip, x-deflate, gzip, deflate</td>\n",
              "      <td>utf-8, utf-8;q=0.5, *;q=0.5</td>\n",
              "      <td>en</td>\n",
              "      <td>localhost:8080</td>\n",
              "      <td>JSESSIONID=933185092E0B668B90676E0A2B0767AF</td>\n",
              "      <td>application/x-www-form-urlencoded</td>\n",
              "      <td>Connection: close</td>\n",
              "      <td>Content-Length: 68</td>\n",
              "      <td>id=3&amp;nombre=Vino+Rioja&amp;precio=100&amp;cantidad=55&amp;B1=A%F1adir+al+carrito</td>\n",
              "      <td>0</td>\n",
              "      <td>http://localhost:8080/tienda1/publico/anadir.jsp HTTP/1.1</td>\n",
              "    </tr>\n",
              "    <tr>\n",
              "      <th>3</th>\n",
              "      <td>Normal</td>\n",
              "      <td>GET</td>\n",
              "      <td>Mozilla/5.0 (compatible; Konqueror/3.5; Linux) KHTML/3.5.8 (like Gecko)</td>\n",
              "      <td>no-cache</td>\n",
              "      <td>no-cache</td>\n",
              "      <td>text/xml,application/xml,application/xhtml+xml,text/html;q=0.9,text/plain;q=0.8,image/png,*/*;q=0.5</td>\n",
              "      <td>x-gzip, x-deflate, gzip, deflate</td>\n",
              "      <td>utf-8, utf-8;q=0.5, *;q=0.5</td>\n",
              "      <td>en</td>\n",
              "      <td>localhost:8080</td>\n",
              "      <td>JSESSIONID=8FA18BA82C5336D03D3A8AFA3E68CBB0</td>\n",
              "      <td>NaN</td>\n",
              "      <td>close</td>\n",
              "      <td>NaN</td>\n",
              "      <td>NaN</td>\n",
              "      <td>0</td>\n",
              "      <td>http://localhost:8080/tienda1/publico/autenticar.jsp?modo=entrar&amp;login=choong&amp;pwd=d1se3ci%F3n&amp;remember=off&amp;B1=Entrar HTTP/1.1</td>\n",
              "    </tr>\n",
              "    <tr>\n",
              "      <th>4</th>\n",
              "      <td>Normal</td>\n",
              "      <td>POST</td>\n",
              "      <td>Mozilla/5.0 (compatible; Konqueror/3.5; Linux) KHTML/3.5.8 (like Gecko)</td>\n",
              "      <td>no-cache</td>\n",
              "      <td>no-cache</td>\n",
              "      <td>text/xml,application/xml,application/xhtml+xml,text/html;q=0.9,text/plain;q=0.8,image/png,*/*;q=0.5</td>\n",
              "      <td>x-gzip, x-deflate, gzip, deflate</td>\n",
              "      <td>utf-8, utf-8;q=0.5, *;q=0.5</td>\n",
              "      <td>en</td>\n",
              "      <td>localhost:8080</td>\n",
              "      <td>JSESSIONID=7104E6C68A6BCF1423DAE990CE49FEE2</td>\n",
              "      <td>application/x-www-form-urlencoded</td>\n",
              "      <td>Connection: close</td>\n",
              "      <td>Content-Length: 63</td>\n",
              "      <td>modo=entrar&amp;login=choong&amp;pwd=d1se3ci%F3n&amp;remember=off&amp;B1=Entrar</td>\n",
              "      <td>0</td>\n",
              "      <td>http://localhost:8080/tienda1/publico/autenticar.jsp HTTP/1.1</td>\n",
              "    </tr>\n",
              "  </tbody>\n",
              "</table>\n",
              "</div>"
            ],
            "text/plain": [
              "   Target  ...                                                                                                                             URL\n",
              "0  Normal  ...                                                                                http://localhost:8080/tienda1/index.jsp HTTP/1.1\n",
              "1  Normal  ...  http://localhost:8080/tienda1/publico/anadir.jsp?id=3&nombre=Vino+Rioja&precio=100&cantidad=55&B1=A%F1adir+al+carrito HTTP/1.1\n",
              "2  Normal  ...                                                                       http://localhost:8080/tienda1/publico/anadir.jsp HTTP/1.1\n",
              "3  Normal  ...   http://localhost:8080/tienda1/publico/autenticar.jsp?modo=entrar&login=choong&pwd=d1se3ci%F3n&remember=off&B1=Entrar HTTP/1.1\n",
              "4  Normal  ...                                                                   http://localhost:8080/tienda1/publico/autenticar.jsp HTTP/1.1\n",
              "\n",
              "[5 rows x 17 columns]"
            ]
          },
          "metadata": {
            "tags": []
          },
          "execution_count": 7
        }
      ]
    },
    {
      "cell_type": "markdown",
      "metadata": {
        "id": "mRoU-S2whGo-"
      },
      "source": [
        "### 前処理\r\n",
        "\r\n",
        "目標: 'Target', 'URL'のみのDataFrameにする。\r\n",
        "DataFrameをtrain, testに8:2で分割し、URLをInput、Targetをlabelとなるようにしていく。"
      ]
    },
    {
      "cell_type": "code",
      "metadata": {
        "colab": {
          "base_uri": "https://localhost:8080/",
          "height": 251
        },
        "id": "yaEXeyoNp-SE",
        "outputId": "2f7d996c-c1ae-473d-b03a-8cdc6958e954"
      },
      "source": [
        "df = df[['Target', 'URL']]\r\n",
        "df.tail()"
      ],
      "execution_count": null,
      "outputs": [
        {
          "output_type": "execute_result",
          "data": {
            "text/html": [
              "<div>\n",
              "<style scoped>\n",
              "    .dataframe tbody tr th:only-of-type {\n",
              "        vertical-align: middle;\n",
              "    }\n",
              "\n",
              "    .dataframe tbody tr th {\n",
              "        vertical-align: top;\n",
              "    }\n",
              "\n",
              "    .dataframe thead th {\n",
              "        text-align: right;\n",
              "    }\n",
              "</style>\n",
              "<table border=\"1\" class=\"dataframe\">\n",
              "  <thead>\n",
              "    <tr style=\"text-align: right;\">\n",
              "      <th></th>\n",
              "      <th>Target</th>\n",
              "      <th>URL</th>\n",
              "    </tr>\n",
              "  </thead>\n",
              "  <tbody>\n",
              "    <tr>\n",
              "      <th>61060</th>\n",
              "      <td>Anomalous</td>\n",
              "      <td>http://localhost:8080/tienda1/miembros/editar.jsp?modo=registro&amp;login=beaumont&amp;password=quEratItiS&amp;nombre=Odilia&amp;apellidos=Stumptner&amp;email=henried%40cbgerindote.asia&amp;dniA=66631393W&amp;direccion=C%2F+Xoana+Nogueira%2C+25+5%3FC&amp;ciudad=Barrios%2C+Los&amp;cp=46135&amp;provincia=%C1vila&amp;ntc=2498947451884473&amp;B1=Registrar HTTP/1.1</td>\n",
              "    </tr>\n",
              "    <tr>\n",
              "      <th>61061</th>\n",
              "      <td>Anomalous</td>\n",
              "      <td>http://localhost:8080/tienda1/miembros/editar.jsp HTTP/1.1</td>\n",
              "    </tr>\n",
              "    <tr>\n",
              "      <th>61062</th>\n",
              "      <td>Anomalous</td>\n",
              "      <td>http://localhost:8080/tienda1/miembros/editar.jsp.bak HTTP/1.1</td>\n",
              "    </tr>\n",
              "    <tr>\n",
              "      <th>61063</th>\n",
              "      <td>Anomalous</td>\n",
              "      <td>http://localhost:8080/tienda1/imagenes/3.gif/ HTTP/1.1</td>\n",
              "    </tr>\n",
              "    <tr>\n",
              "      <th>61064</th>\n",
              "      <td>Anomalous</td>\n",
              "      <td>http://localhost:8080/tienda1/imagenes/nuestratierra.jpg.BAK HTTP/1.1</td>\n",
              "    </tr>\n",
              "  </tbody>\n",
              "</table>\n",
              "</div>"
            ],
            "text/plain": [
              "          Target                                                                                                                                                                                                                                                                                                                         URL\n",
              "61060  Anomalous  http://localhost:8080/tienda1/miembros/editar.jsp?modo=registro&login=beaumont&password=quEratItiS&nombre=Odilia&apellidos=Stumptner&email=henried%40cbgerindote.asia&dniA=66631393W&direccion=C%2F+Xoana+Nogueira%2C+25+5%3FC&ciudad=Barrios%2C+Los&cp=46135&provincia=%C1vila&ntc=2498947451884473&B1=Registrar HTTP/1.1\n",
              "61061  Anomalous                                                                                                                                                                                                                                                                  http://localhost:8080/tienda1/miembros/editar.jsp HTTP/1.1\n",
              "61062  Anomalous                                                                                                                                                                                                                                                              http://localhost:8080/tienda1/miembros/editar.jsp.bak HTTP/1.1\n",
              "61063  Anomalous                                                                                                                                                                                                                                                                      http://localhost:8080/tienda1/imagenes/3.gif/ HTTP/1.1\n",
              "61064  Anomalous                                                                                                                                                                                                                                                       http://localhost:8080/tienda1/imagenes/nuestratierra.jpg.BAK HTTP/1.1"
            ]
          },
          "metadata": {
            "tags": []
          },
          "execution_count": 8
        }
      ]
    },
    {
      "cell_type": "code",
      "metadata": {
        "colab": {
          "base_uri": "https://localhost:8080/",
          "height": 197
        },
        "id": "0eveT8z_hP3Q",
        "outputId": "90688307-a414-4ba3-d953-950142a7c514"
      },
      "source": [
        "# Targetカラムの変更。\r\n",
        "# if (df['Target'] == Normal){0} else {1}\r\n",
        "\r\n",
        "# Normalを0, それ以外は1に置換。lossにはbinary_crossentropyを使う。\r\n",
        "df['Target'] = df['Target'].apply(lambda x:0 if str(x) == 'Normal' else 1)\r\n",
        "df.head()"
      ],
      "execution_count": null,
      "outputs": [
        {
          "output_type": "execute_result",
          "data": {
            "text/html": [
              "<div>\n",
              "<style scoped>\n",
              "    .dataframe tbody tr th:only-of-type {\n",
              "        vertical-align: middle;\n",
              "    }\n",
              "\n",
              "    .dataframe tbody tr th {\n",
              "        vertical-align: top;\n",
              "    }\n",
              "\n",
              "    .dataframe thead th {\n",
              "        text-align: right;\n",
              "    }\n",
              "</style>\n",
              "<table border=\"1\" class=\"dataframe\">\n",
              "  <thead>\n",
              "    <tr style=\"text-align: right;\">\n",
              "      <th></th>\n",
              "      <th>Target</th>\n",
              "      <th>URL</th>\n",
              "    </tr>\n",
              "  </thead>\n",
              "  <tbody>\n",
              "    <tr>\n",
              "      <th>0</th>\n",
              "      <td>0</td>\n",
              "      <td>http://localhost:8080/tienda1/index.jsp HTTP/1.1</td>\n",
              "    </tr>\n",
              "    <tr>\n",
              "      <th>1</th>\n",
              "      <td>0</td>\n",
              "      <td>http://localhost:8080/tienda1/publico/anadir.jsp?id=3&amp;nombre=Vino+Rioja&amp;precio=100&amp;cantidad=55&amp;B1=A%F1adir+al+carrito HTTP/1.1</td>\n",
              "    </tr>\n",
              "    <tr>\n",
              "      <th>2</th>\n",
              "      <td>0</td>\n",
              "      <td>http://localhost:8080/tienda1/publico/anadir.jsp HTTP/1.1</td>\n",
              "    </tr>\n",
              "    <tr>\n",
              "      <th>3</th>\n",
              "      <td>0</td>\n",
              "      <td>http://localhost:8080/tienda1/publico/autenticar.jsp?modo=entrar&amp;login=choong&amp;pwd=d1se3ci%F3n&amp;remember=off&amp;B1=Entrar HTTP/1.1</td>\n",
              "    </tr>\n",
              "    <tr>\n",
              "      <th>4</th>\n",
              "      <td>0</td>\n",
              "      <td>http://localhost:8080/tienda1/publico/autenticar.jsp HTTP/1.1</td>\n",
              "    </tr>\n",
              "  </tbody>\n",
              "</table>\n",
              "</div>"
            ],
            "text/plain": [
              "   Target                                                                                                                             URL\n",
              "0       0                                                                                http://localhost:8080/tienda1/index.jsp HTTP/1.1\n",
              "1       0  http://localhost:8080/tienda1/publico/anadir.jsp?id=3&nombre=Vino+Rioja&precio=100&cantidad=55&B1=A%F1adir+al+carrito HTTP/1.1\n",
              "2       0                                                                       http://localhost:8080/tienda1/publico/anadir.jsp HTTP/1.1\n",
              "3       0   http://localhost:8080/tienda1/publico/autenticar.jsp?modo=entrar&login=choong&pwd=d1se3ci%F3n&remember=off&B1=Entrar HTTP/1.1\n",
              "4       0                                                                   http://localhost:8080/tienda1/publico/autenticar.jsp HTTP/1.1"
            ]
          },
          "metadata": {
            "tags": []
          },
          "execution_count": 9
        }
      ]
    },
    {
      "cell_type": "code",
      "metadata": {
        "colab": {
          "base_uri": "https://localhost:8080/",
          "height": 197
        },
        "id": "Pbg0-M1TZKQe",
        "outputId": "bc3d464a-390b-4f2d-f3ec-abb2f6a1bb84"
      },
      "source": [
        "# URLの末尾にあるHTTP 1.1という文字列を消す\r\n",
        "df['URL'] = df['URL'].str[:-8]\r\n",
        "df.head()"
      ],
      "execution_count": null,
      "outputs": [
        {
          "output_type": "execute_result",
          "data": {
            "text/html": [
              "<div>\n",
              "<style scoped>\n",
              "    .dataframe tbody tr th:only-of-type {\n",
              "        vertical-align: middle;\n",
              "    }\n",
              "\n",
              "    .dataframe tbody tr th {\n",
              "        vertical-align: top;\n",
              "    }\n",
              "\n",
              "    .dataframe thead th {\n",
              "        text-align: right;\n",
              "    }\n",
              "</style>\n",
              "<table border=\"1\" class=\"dataframe\">\n",
              "  <thead>\n",
              "    <tr style=\"text-align: right;\">\n",
              "      <th></th>\n",
              "      <th>Target</th>\n",
              "      <th>URL</th>\n",
              "    </tr>\n",
              "  </thead>\n",
              "  <tbody>\n",
              "    <tr>\n",
              "      <th>0</th>\n",
              "      <td>0</td>\n",
              "      <td>http://localhost:8080/tienda1/index.jsp</td>\n",
              "    </tr>\n",
              "    <tr>\n",
              "      <th>1</th>\n",
              "      <td>0</td>\n",
              "      <td>http://localhost:8080/tienda1/publico/anadir.jsp?id=3&amp;nombre=Vino+Rioja&amp;precio=100&amp;cantidad=55&amp;B1=A%F1adir+al+carrito</td>\n",
              "    </tr>\n",
              "    <tr>\n",
              "      <th>2</th>\n",
              "      <td>0</td>\n",
              "      <td>http://localhost:8080/tienda1/publico/anadir.jsp</td>\n",
              "    </tr>\n",
              "    <tr>\n",
              "      <th>3</th>\n",
              "      <td>0</td>\n",
              "      <td>http://localhost:8080/tienda1/publico/autenticar.jsp?modo=entrar&amp;login=choong&amp;pwd=d1se3ci%F3n&amp;remember=off&amp;B1=Entrar</td>\n",
              "    </tr>\n",
              "    <tr>\n",
              "      <th>4</th>\n",
              "      <td>0</td>\n",
              "      <td>http://localhost:8080/tienda1/publico/autenticar.jsp</td>\n",
              "    </tr>\n",
              "  </tbody>\n",
              "</table>\n",
              "</div>"
            ],
            "text/plain": [
              "   Target                                                                                                                     URL\n",
              "0       0                                                                                http://localhost:8080/tienda1/index.jsp \n",
              "1       0  http://localhost:8080/tienda1/publico/anadir.jsp?id=3&nombre=Vino+Rioja&precio=100&cantidad=55&B1=A%F1adir+al+carrito \n",
              "2       0                                                                       http://localhost:8080/tienda1/publico/anadir.jsp \n",
              "3       0   http://localhost:8080/tienda1/publico/autenticar.jsp?modo=entrar&login=choong&pwd=d1se3ci%F3n&remember=off&B1=Entrar \n",
              "4       0                                                                   http://localhost:8080/tienda1/publico/autenticar.jsp "
            ]
          },
          "metadata": {
            "tags": []
          },
          "execution_count": 10
        }
      ]
    },
    {
      "cell_type": "code",
      "metadata": {
        "id": "5Wk64-PRxWlx"
      },
      "source": [
        "# Train : Valid : Test = 6 : 2 : 2\r\n",
        "\r\n",
        "X_train, X_val, y_train, y_val = train_test_split(df['URL'], df['Target'], test_size=0.2, random_state=42)\r\n",
        "X_train, X_test, y_train, y_test = train_test_split(X_train, y_train, test_size=0.25, random_state=42)"
      ],
      "execution_count": null,
      "outputs": []
    },
    {
      "cell_type": "code",
      "metadata": {
        "colab": {
          "base_uri": "https://localhost:8080/"
        },
        "id": "RQUrwXAdy-2L",
        "outputId": "c750899e-371a-498a-d9c5-2141db41eb30"
      },
      "source": [
        "print('X_train shape', X_train.shape)\r\n",
        "print('y_train shape', y_train.shape)\r\n",
        "\r\n",
        "print('X_val shape', X_val.shape)\r\n",
        "print('y_val shape', y_val.shape)\r\n",
        "\r\n",
        "print('X_test shape', X_test.shape)\r\n",
        "print('y_test shape', y_test.shape)"
      ],
      "execution_count": null,
      "outputs": [
        {
          "output_type": "stream",
          "text": [
            "X_train shape (36639,)\n",
            "y_train shape (36639,)\n",
            "X_val shape (12213,)\n",
            "y_val shape (12213,)\n",
            "X_test shape (12213,)\n",
            "y_test shape (12213,)\n"
          ],
          "name": "stdout"
        }
      ]
    },
    {
      "cell_type": "code",
      "metadata": {
        "id": "lKJwlOurzv04"
      },
      "source": [
        "# convert string to lower case\r\n",
        "train_texts = X_train\r\n",
        "train_texts = [s.lower() for s in train_texts]\r\n",
        "\r\n",
        "val_texts = X_val\r\n",
        "val_texts = [s.lower() for s in val_texts]"
      ],
      "execution_count": null,
      "outputs": []
    },
    {
      "cell_type": "code",
      "metadata": {
        "id": "g8umr80Y6LFX"
      },
      "source": [
        "# convert string to index\r\n",
        "alphabet = \"abcdefghijklmnopqrstuvwxyz0123456789,;.!?:'\\\"/\\\\|_@#$%^&*~`+-=<>()[]{}\"\r\n",
        "char_dict = {}\r\n",
        "for i, char in enumerate(alphabet):\r\n",
        "    char_dict[char] = i + 1\r\n",
        "string_size = len(alphabet)"
      ],
      "execution_count": null,
      "outputs": []
    },
    {
      "cell_type": "code",
      "metadata": {
        "id": "RTtR_qwyU4Eu"
      },
      "source": [
        "#いつか使う URL decode\r\n",
        "import urllib.parse\r\n",
        "def url_decode(encoded_URL):\r\n",
        "  return urllib.parse.unquote(encoded_URL)"
      ],
      "execution_count": null,
      "outputs": []
    },
    {
      "cell_type": "code",
      "metadata": {
        "id": "AXQxLqKmLh61"
      },
      "source": [
        "# URL decode -> Unicode encode\r\n",
        "def load_data(txt, max_length=1000):\r\n",
        "    txt_list = []\r\n",
        "    for l in txt:\r\n",
        "        l = url_decode(l)\r\n",
        "        txt_line = [ord(x) for x in str(l).strip()]\r\n",
        "        txt_line = txt_line[:max_length]\r\n",
        "        txt_len = len(txt_line)\r\n",
        "        if txt_len < max_length:\r\n",
        "            txt_line += ([0] * (max_length - txt_len))\r\n",
        "        txt_list.append((txt_line))\r\n",
        "    return txt_list"
      ],
      "execution_count": null,
      "outputs": []
    },
    {
      "cell_type": "code",
      "metadata": {
        "id": "iW_3RamYLphx"
      },
      "source": [
        "train_data = load_data(train_texts)\r\n",
        "val_data = load_data(val_texts)"
      ],
      "execution_count": null,
      "outputs": []
    },
    {
      "cell_type": "code",
      "metadata": {
        "colab": {
          "base_uri": "https://localhost:8080/"
        },
        "id": "s15-Ez-OdSyu",
        "outputId": "cd74aab9-387b-4227-af3b-42638f6c140e"
      },
      "source": [
        "print(\"train_texts\")\r\n",
        "print(train_texts[0])\r\n",
        "\r\n",
        "print(\"train_data\")\r\n",
        "print(train_data[0])"
      ],
      "execution_count": null,
      "outputs": [
        {
          "output_type": "stream",
          "text": [
            "train_texts\n",
            "http://localhost:8080/tienda1/publico/autenticar.jsp?modo=entrar&login=glazer&pwd=rustir&remember=on&b1=entrar \n",
            "train_data\n",
            "[104, 116, 116, 112, 58, 47, 47, 108, 111, 99, 97, 108, 104, 111, 115, 116, 58, 56, 48, 56, 48, 47, 116, 105, 101, 110, 100, 97, 49, 47, 112, 117, 98, 108, 105, 99, 111, 47, 97, 117, 116, 101, 110, 116, 105, 99, 97, 114, 46, 106, 115, 112, 63, 109, 111, 100, 111, 61, 101, 110, 116, 114, 97, 114, 38, 108, 111, 103, 105, 110, 61, 103, 108, 97, 122, 101, 114, 38, 112, 119, 100, 61, 114, 117, 115, 116, 105, 114, 38, 114, 101, 109, 101, 109, 98, 101, 114, 61, 111, 110, 38, 98, 49, 61, 101, 110, 116, 114, 97, 114, 0, 0, 0, 0, 0, 0, 0, 0, 0, 0, 0, 0, 0, 0, 0, 0, 0, 0, 0, 0, 0, 0, 0, 0, 0, 0, 0, 0, 0, 0, 0, 0, 0, 0, 0, 0, 0, 0, 0, 0, 0, 0, 0, 0, 0, 0, 0, 0, 0, 0, 0, 0, 0, 0, 0, 0, 0, 0, 0, 0, 0, 0, 0, 0, 0, 0, 0, 0, 0, 0, 0, 0, 0, 0, 0, 0, 0, 0, 0, 0, 0, 0, 0, 0, 0, 0, 0, 0, 0, 0, 0, 0, 0, 0, 0, 0, 0, 0, 0, 0, 0, 0, 0, 0, 0, 0, 0, 0, 0, 0, 0, 0, 0, 0, 0, 0, 0, 0, 0, 0, 0, 0, 0, 0, 0, 0, 0, 0, 0, 0, 0, 0, 0, 0, 0, 0, 0, 0, 0, 0, 0, 0, 0, 0, 0, 0, 0, 0, 0, 0, 0, 0, 0, 0, 0, 0, 0, 0, 0, 0, 0, 0, 0, 0, 0, 0, 0, 0, 0, 0, 0, 0, 0, 0, 0, 0, 0, 0, 0, 0, 0, 0, 0, 0, 0, 0, 0, 0, 0, 0, 0, 0, 0, 0, 0, 0, 0, 0, 0, 0, 0, 0, 0, 0, 0, 0, 0, 0, 0, 0, 0, 0, 0, 0, 0, 0, 0, 0, 0, 0, 0, 0, 0, 0, 0, 0, 0, 0, 0, 0, 0, 0, 0, 0, 0, 0, 0, 0, 0, 0, 0, 0, 0, 0, 0, 0, 0, 0, 0, 0, 0, 0, 0, 0, 0, 0, 0, 0, 0, 0, 0, 0, 0, 0, 0, 0, 0, 0, 0, 0, 0, 0, 0, 0, 0, 0, 0, 0, 0, 0, 0, 0, 0, 0, 0, 0, 0, 0, 0, 0, 0, 0, 0, 0, 0, 0, 0, 0, 0, 0, 0, 0, 0, 0, 0, 0, 0, 0, 0, 0, 0, 0, 0, 0, 0, 0, 0, 0, 0, 0, 0, 0, 0, 0, 0, 0, 0, 0, 0, 0, 0, 0, 0, 0, 0, 0, 0, 0, 0, 0, 0, 0, 0, 0, 0, 0, 0, 0, 0, 0, 0, 0, 0, 0, 0, 0, 0, 0, 0, 0, 0, 0, 0, 0, 0, 0, 0, 0, 0, 0, 0, 0, 0, 0, 0, 0, 0, 0, 0, 0, 0, 0, 0, 0, 0, 0, 0, 0, 0, 0, 0, 0, 0, 0, 0, 0, 0, 0, 0, 0, 0, 0, 0, 0, 0, 0, 0, 0, 0, 0, 0, 0, 0, 0, 0, 0, 0, 0, 0, 0, 0, 0, 0, 0, 0, 0, 0, 0, 0, 0, 0, 0, 0, 0, 0, 0, 0, 0, 0, 0, 0, 0, 0, 0, 0, 0, 0, 0, 0, 0, 0, 0, 0, 0, 0, 0, 0, 0, 0, 0, 0, 0, 0, 0, 0, 0, 0, 0, 0, 0, 0, 0, 0, 0, 0, 0, 0, 0, 0, 0, 0, 0, 0, 0, 0, 0, 0, 0, 0, 0, 0, 0, 0, 0, 0, 0, 0, 0, 0, 0, 0, 0, 0, 0, 0, 0, 0, 0, 0, 0, 0, 0, 0, 0, 0, 0, 0, 0, 0, 0, 0, 0, 0, 0, 0, 0, 0, 0, 0, 0, 0, 0, 0, 0, 0, 0, 0, 0, 0, 0, 0, 0, 0, 0, 0, 0, 0, 0, 0, 0, 0, 0, 0, 0, 0, 0, 0, 0, 0, 0, 0, 0, 0, 0, 0, 0, 0, 0, 0, 0, 0, 0, 0, 0, 0, 0, 0, 0, 0, 0, 0, 0, 0, 0, 0, 0, 0, 0, 0, 0, 0, 0, 0, 0, 0, 0, 0, 0, 0, 0, 0, 0, 0, 0, 0, 0, 0, 0, 0, 0, 0, 0, 0, 0, 0, 0, 0, 0, 0, 0, 0, 0, 0, 0, 0, 0, 0, 0, 0, 0, 0, 0, 0, 0, 0, 0, 0, 0, 0, 0, 0, 0, 0, 0, 0, 0, 0, 0, 0, 0, 0, 0, 0, 0, 0, 0, 0, 0, 0, 0, 0, 0, 0, 0, 0, 0, 0, 0, 0, 0, 0, 0, 0, 0, 0, 0, 0, 0, 0, 0, 0, 0, 0, 0, 0, 0, 0, 0, 0, 0, 0, 0, 0, 0, 0, 0, 0, 0, 0, 0, 0, 0, 0, 0, 0, 0, 0, 0, 0, 0, 0, 0, 0, 0, 0, 0, 0, 0, 0, 0, 0, 0, 0, 0, 0, 0, 0, 0, 0, 0, 0, 0, 0, 0, 0, 0, 0, 0, 0, 0, 0, 0, 0, 0, 0, 0, 0, 0, 0, 0, 0, 0, 0, 0, 0, 0, 0, 0, 0, 0, 0, 0, 0, 0, 0, 0, 0, 0, 0, 0, 0, 0, 0, 0, 0, 0, 0, 0, 0, 0, 0, 0, 0, 0, 0, 0, 0, 0, 0, 0, 0, 0, 0, 0, 0, 0, 0, 0, 0, 0, 0, 0, 0, 0, 0, 0, 0, 0, 0, 0, 0, 0, 0, 0, 0, 0, 0, 0, 0, 0, 0, 0, 0, 0, 0, 0, 0, 0, 0, 0, 0, 0, 0, 0, 0, 0, 0, 0, 0, 0, 0, 0, 0, 0, 0, 0, 0, 0, 0, 0, 0, 0, 0, 0, 0, 0, 0, 0, 0, 0, 0, 0, 0, 0, 0, 0, 0, 0, 0, 0, 0, 0, 0, 0, 0, 0, 0, 0, 0, 0, 0, 0, 0, 0, 0, 0, 0, 0, 0, 0]\n"
          ],
          "name": "stdout"
        }
      ]
    },
    {
      "cell_type": "code",
      "metadata": {
        "colab": {
          "base_uri": "https://localhost:8080/"
        },
        "id": "HNZ6XHde1nM-",
        "outputId": "36036771-c85c-4e0a-e736-668c3c36a2fc"
      },
      "source": [
        "print(\"val_texts\")\r\n",
        "print(val_texts[0])\r\n",
        "\r\n",
        "print(\"val_data\")\r\n",
        "print(val_data[0])"
      ],
      "execution_count": null,
      "outputs": [
        {
          "output_type": "stream",
          "text": [
            "val_texts\n",
            "http://localhost:8080/tienda1/publico/caracteristicas.jsp?id=2 \n",
            "val_data\n",
            "[104, 116, 116, 112, 58, 47, 47, 108, 111, 99, 97, 108, 104, 111, 115, 116, 58, 56, 48, 56, 48, 47, 116, 105, 101, 110, 100, 97, 49, 47, 112, 117, 98, 108, 105, 99, 111, 47, 99, 97, 114, 97, 99, 116, 101, 114, 105, 115, 116, 105, 99, 97, 115, 46, 106, 115, 112, 63, 105, 100, 61, 50, 0, 0, 0, 0, 0, 0, 0, 0, 0, 0, 0, 0, 0, 0, 0, 0, 0, 0, 0, 0, 0, 0, 0, 0, 0, 0, 0, 0, 0, 0, 0, 0, 0, 0, 0, 0, 0, 0, 0, 0, 0, 0, 0, 0, 0, 0, 0, 0, 0, 0, 0, 0, 0, 0, 0, 0, 0, 0, 0, 0, 0, 0, 0, 0, 0, 0, 0, 0, 0, 0, 0, 0, 0, 0, 0, 0, 0, 0, 0, 0, 0, 0, 0, 0, 0, 0, 0, 0, 0, 0, 0, 0, 0, 0, 0, 0, 0, 0, 0, 0, 0, 0, 0, 0, 0, 0, 0, 0, 0, 0, 0, 0, 0, 0, 0, 0, 0, 0, 0, 0, 0, 0, 0, 0, 0, 0, 0, 0, 0, 0, 0, 0, 0, 0, 0, 0, 0, 0, 0, 0, 0, 0, 0, 0, 0, 0, 0, 0, 0, 0, 0, 0, 0, 0, 0, 0, 0, 0, 0, 0, 0, 0, 0, 0, 0, 0, 0, 0, 0, 0, 0, 0, 0, 0, 0, 0, 0, 0, 0, 0, 0, 0, 0, 0, 0, 0, 0, 0, 0, 0, 0, 0, 0, 0, 0, 0, 0, 0, 0, 0, 0, 0, 0, 0, 0, 0, 0, 0, 0, 0, 0, 0, 0, 0, 0, 0, 0, 0, 0, 0, 0, 0, 0, 0, 0, 0, 0, 0, 0, 0, 0, 0, 0, 0, 0, 0, 0, 0, 0, 0, 0, 0, 0, 0, 0, 0, 0, 0, 0, 0, 0, 0, 0, 0, 0, 0, 0, 0, 0, 0, 0, 0, 0, 0, 0, 0, 0, 0, 0, 0, 0, 0, 0, 0, 0, 0, 0, 0, 0, 0, 0, 0, 0, 0, 0, 0, 0, 0, 0, 0, 0, 0, 0, 0, 0, 0, 0, 0, 0, 0, 0, 0, 0, 0, 0, 0, 0, 0, 0, 0, 0, 0, 0, 0, 0, 0, 0, 0, 0, 0, 0, 0, 0, 0, 0, 0, 0, 0, 0, 0, 0, 0, 0, 0, 0, 0, 0, 0, 0, 0, 0, 0, 0, 0, 0, 0, 0, 0, 0, 0, 0, 0, 0, 0, 0, 0, 0, 0, 0, 0, 0, 0, 0, 0, 0, 0, 0, 0, 0, 0, 0, 0, 0, 0, 0, 0, 0, 0, 0, 0, 0, 0, 0, 0, 0, 0, 0, 0, 0, 0, 0, 0, 0, 0, 0, 0, 0, 0, 0, 0, 0, 0, 0, 0, 0, 0, 0, 0, 0, 0, 0, 0, 0, 0, 0, 0, 0, 0, 0, 0, 0, 0, 0, 0, 0, 0, 0, 0, 0, 0, 0, 0, 0, 0, 0, 0, 0, 0, 0, 0, 0, 0, 0, 0, 0, 0, 0, 0, 0, 0, 0, 0, 0, 0, 0, 0, 0, 0, 0, 0, 0, 0, 0, 0, 0, 0, 0, 0, 0, 0, 0, 0, 0, 0, 0, 0, 0, 0, 0, 0, 0, 0, 0, 0, 0, 0, 0, 0, 0, 0, 0, 0, 0, 0, 0, 0, 0, 0, 0, 0, 0, 0, 0, 0, 0, 0, 0, 0, 0, 0, 0, 0, 0, 0, 0, 0, 0, 0, 0, 0, 0, 0, 0, 0, 0, 0, 0, 0, 0, 0, 0, 0, 0, 0, 0, 0, 0, 0, 0, 0, 0, 0, 0, 0, 0, 0, 0, 0, 0, 0, 0, 0, 0, 0, 0, 0, 0, 0, 0, 0, 0, 0, 0, 0, 0, 0, 0, 0, 0, 0, 0, 0, 0, 0, 0, 0, 0, 0, 0, 0, 0, 0, 0, 0, 0, 0, 0, 0, 0, 0, 0, 0, 0, 0, 0, 0, 0, 0, 0, 0, 0, 0, 0, 0, 0, 0, 0, 0, 0, 0, 0, 0, 0, 0, 0, 0, 0, 0, 0, 0, 0, 0, 0, 0, 0, 0, 0, 0, 0, 0, 0, 0, 0, 0, 0, 0, 0, 0, 0, 0, 0, 0, 0, 0, 0, 0, 0, 0, 0, 0, 0, 0, 0, 0, 0, 0, 0, 0, 0, 0, 0, 0, 0, 0, 0, 0, 0, 0, 0, 0, 0, 0, 0, 0, 0, 0, 0, 0, 0, 0, 0, 0, 0, 0, 0, 0, 0, 0, 0, 0, 0, 0, 0, 0, 0, 0, 0, 0, 0, 0, 0, 0, 0, 0, 0, 0, 0, 0, 0, 0, 0, 0, 0, 0, 0, 0, 0, 0, 0, 0, 0, 0, 0, 0, 0, 0, 0, 0, 0, 0, 0, 0, 0, 0, 0, 0, 0, 0, 0, 0, 0, 0, 0, 0, 0, 0, 0, 0, 0, 0, 0, 0, 0, 0, 0, 0, 0, 0, 0, 0, 0, 0, 0, 0, 0, 0, 0, 0, 0, 0, 0, 0, 0, 0, 0, 0, 0, 0, 0, 0, 0, 0, 0, 0, 0, 0, 0, 0, 0, 0, 0, 0, 0, 0, 0, 0, 0, 0, 0, 0, 0, 0, 0, 0, 0, 0, 0, 0, 0, 0, 0, 0, 0, 0, 0, 0, 0, 0, 0, 0, 0, 0, 0, 0, 0, 0, 0, 0, 0, 0, 0, 0, 0, 0, 0, 0, 0, 0, 0, 0, 0, 0, 0, 0, 0, 0, 0, 0, 0, 0, 0, 0, 0, 0, 0, 0, 0, 0, 0, 0, 0, 0, 0, 0, 0, 0, 0, 0, 0, 0, 0, 0, 0, 0, 0, 0, 0, 0, 0, 0, 0, 0, 0, 0, 0, 0, 0, 0, 0, 0, 0, 0, 0, 0, 0, 0, 0, 0, 0, 0, 0, 0, 0, 0, 0, 0, 0, 0, 0, 0, 0, 0, 0, 0, 0, 0, 0, 0, 0, 0, 0, 0, 0, 0, 0, 0, 0, 0, 0, 0, 0, 0, 0, 0, 0, 0, 0, 0]\n"
          ],
          "name": "stdout"
        }
      ]
    },
    {
      "cell_type": "code",
      "metadata": {
        "id": "Nj66sdm0YF0M"
      },
      "source": [
        "# Convert to numpy array\r\n",
        "train_data = np.array(train_data)\r\n",
        "val_data = np.array(val_data)"
      ],
      "execution_count": null,
      "outputs": []
    },
    {
      "cell_type": "code",
      "metadata": {
        "id": "ZpCq1g3tolPd"
      },
      "source": [
        "train_classes = y_train\r\n",
        "train_class_list = [x for x in train_classes]\r\n",
        "\r\n",
        "val_classes = y_val\r\n",
        "val_class_list = [x  for x in val_classes]"
      ],
      "execution_count": null,
      "outputs": []
    },
    {
      "cell_type": "code",
      "metadata": {
        "id": "Z9FeeYaLYerq"
      },
      "source": [
        "train_classes = np.array(train_class_list)\r\n",
        "val_classes = np.array(val_class_list)"
      ],
      "execution_count": null,
      "outputs": []
    },
    {
      "cell_type": "code",
      "metadata": {
        "colab": {
          "base_uri": "https://localhost:8080/"
        },
        "id": "S4CZChOrYT_D",
        "outputId": "b6b36109-132f-431c-99b6-d8e1c62fba32"
      },
      "source": [
        "print(train_classes)\r\n",
        "print(val_classes)"
      ],
      "execution_count": null,
      "outputs": [
        {
          "output_type": "stream",
          "text": [
            "[0 0 0 ... 1 1 1]\n",
            "[0 0 1 ... 1 0 0]\n"
          ],
          "name": "stdout"
        }
      ]
    },
    {
      "cell_type": "markdown",
      "metadata": {
        "id": "P77ahKXc0lo9"
      },
      "source": [
        "## アーキテクチャ\r\n",
        "\r\n",
        "1. Input(1000 characters)\r\n",
        "2. Embedding(128demensions)\r\n",
        "3. Conv(kernelsize = K, filter_num = 64) -> RELU\r\n",
        "4. Max Pooling(kernelsize = K)\r\n",
        "5. Conv(kernelsize = K, filter_num = 64) -> RELU\r\n",
        "6. Max Pooling(kernel_size = size of Conv 5's output)\r\n",
        "7. concat output & reshape into 256 length vector\r\n",
        "8. FCN(64 units) -> RELU\r\n",
        "9. Batch normalize\r\n",
        "10. Dropout(0.5)\r\n",
        "11. FCN(1 unit) -> Sigmoid\r\n",
        "\r\n",
        "(categorical_crossentropy)"
      ]
    },
    {
      "cell_type": "code",
      "metadata": {
        "id": "CVK2iZ7WV8BL"
      },
      "source": [
        "# config\r\n",
        "input_max_size = 1000\r\n",
        "embedding_size = 128\r\n",
        "conv_layers = 4\r\n",
        "kernel_sizes = [4,5,6,7]\r\n",
        "filter_num = 64\r\n",
        "fully_connected_layers = [64,64]\r\n",
        "num_of_classes = 1\r\n",
        "dropout = 0.5\r\n",
        "optimizer = 'adam'\r\n",
        "loss = 'binary_crossentropy'"
      ],
      "execution_count": null,
      "outputs": []
    },
    {
      "cell_type": "code",
      "metadata": {
        "id": "8o3_Pvv_vK3o",
        "colab": {
          "base_uri": "https://localhost:8080/",
          "height": 1000
        },
        "outputId": "91941504-1f51-41d9-f6a3-ff1e2fe7605f"
      },
      "source": [
        "# Input Layer\r\n",
        "# URLdecodeされた文字列をInputとして与える。\r\n",
        "inputs = Input(shape=(input_max_size,), name='URL_input')\r\n",
        "\r\n",
        "# Embedding Layer\r\n",
        "x = Embedding(0xffff, embedding_size, name='Embedding')(inputs)\r\n",
        "x = Reshape((input_max_size, embedding_size), name='Reshape_into_128_legnth_vector')(x)\r\n",
        "\r\n",
        "# Convolution Layers\r\n",
        "convolution_output = []\r\n",
        "\r\n",
        "conv1_1 = Conv1D(filter_num, 4, activation='relu', padding='same', strides=1, name='Convolution_1_1')(x)\r\n",
        "pool1_1 = MaxPool1D(pool_size=4, padding='same', strides=1, name='MaxPooling_1_1')(conv1_1)\r\n",
        "conv1_2 = Conv1D(filter_num, 4, activation='relu', padding='same', strides=1, name='Convolution_1_2')(pool1_1)\r\n",
        "pool1_2 = GlobalMaxPooling1D(name='GlobalMaxPooling_1_2')(conv1_2)\r\n",
        "convolution_output.append(pool1_2)\r\n",
        "\r\n",
        "conv2_1 = Conv1D(filter_num,5, activation='relu', padding='same', strides=1, name='Convolution_2_1')(x)\r\n",
        "pool2_1 = MaxPool1D(pool_size=5, padding='same', strides=1, name='MaxPooling_2_1')(conv2_1)\r\n",
        "conv2_2 = Conv1D(filter_num, 5, activation='relu', padding='same', strides=1, name='Convolution_2_2')(pool2_1)\r\n",
        "pool2_2 = GlobalMaxPooling1D(name='GlobalMaxPooling_2_2')(conv2_2)\r\n",
        "convolution_output.append(pool2_2)\r\n",
        "\r\n",
        "conv3_1 = Conv1D(filter_num, 6, activation='relu', padding='same', strides=1, name='Convolution_3_1')(x)\r\n",
        "pool3_1 = MaxPool1D(pool_size=6, padding='same', strides=1, name='MaxPooling_3_1')(conv3_1)\r\n",
        "conv3_2 = Conv1D(filter_num, 6, activation='relu', padding='same', strides=1, name='Convolution_3_2')(pool3_1)\r\n",
        "pool3_2 = GlobalMaxPooling1D(name='GlobalMaxPooling_3_2')(conv3_2)\r\n",
        "convolution_output.append(pool3_2)\r\n",
        "\r\n",
        "conv4_1 = Conv1D(filter_num,7, activation='relu', padding='same', strides=1, name='Convolution_4_1')(x)\r\n",
        "pool4_1 = MaxPool1D(pool_size=7, padding='same', strides=1, name='MaxPooling_4_1')(conv4_1)\r\n",
        "conv4_2 = Conv1D(filter_num, 7, activation='relu', padding='same', strides=1, name='Convolution_4_2')(pool4_1)\r\n",
        "pool4_2 = GlobalMaxPooling1D(name='GlobalMaxPooling_4_2')(conv4_2)\r\n",
        "convolution_output.append(pool4_2)\r\n",
        "\r\n",
        "# concat output\r\n",
        "x = Concatenate(name='Concat_the_outputs')(convolution_output)\r\n",
        "\r\n",
        "# reshape into 256 length vector\r\n",
        "x = Reshape((256, ), name='reshape')(x)\r\n",
        "\r\n",
        "# Fully Connected Layers\r\n",
        "x = Dense(64, activation='relu', name='FullyConnectedLayer')(x)\r\n",
        "\r\n",
        "# Batch Normalization\r\n",
        "x = normalization.BatchNormalization()(x)\r\n",
        "\r\n",
        "# DropOut\r\n",
        "x = Dropout(dropout)(x)\r\n",
        "\r\n",
        "# Fully Connected Layers\r\n",
        "predictions = Dense(1, activation='sigmoid', name='Prediction')(x)\r\n",
        "\r\n",
        "model = Model(inputs=inputs, outputs=predictions, name='Character-level_CNN')\r\n",
        "plot_model(model, to_file='./images/1D-model.png', show_shapes=True, show_layer_names=True)"
      ],
      "execution_count": null,
      "outputs": [
        {
          "output_type": "execute_result",
          "data": {
            "image/png": "[encoded data removed]",
            "text/plain": [
              "<IPython.core.display.Image object>"
            ]
          },
          "metadata": {
            "tags": []
          },
          "execution_count": 56
        }
      ]
    },
    {
      "cell_type": "code",
      "metadata": {
        "colab": {
          "base_uri": "https://localhost:8080/"
        },
        "id": "Z4-3pebiYWKn",
        "outputId": "78e5c266-7c37-449b-ac18-63076d02b45d"
      },
      "source": [
        "model.summary()"
      ],
      "execution_count": null,
      "outputs": [
        {
          "output_type": "stream",
          "text": [
            "Model: \"Character-level_CNN\"\n",
            "__________________________________________________________________________________________________\n",
            "Layer (type)                    Output Shape         Param #     Connected to                     \n",
            "==================================================================================================\n",
            "URL_input (InputLayer)          [(None, 1000)]       0                                            \n",
            "__________________________________________________________________________________________________\n",
            "Embedding (Embedding)           (None, 1000, 128)    8388480     URL_input[0][0]                  \n",
            "__________________________________________________________________________________________________\n",
            "Reshape_into_128_legnth_vector  (None, 1000, 128)    0           Embedding[0][0]                  \n",
            "__________________________________________________________________________________________________\n",
            "Convolution_1_1 (Conv1D)        (None, 1000, 64)     32832       Reshape_into_128_legnth_vector[0]\n",
            "__________________________________________________________________________________________________\n",
            "Convolution_2_1 (Conv1D)        (None, 1000, 64)     41024       Reshape_into_128_legnth_vector[0]\n",
            "__________________________________________________________________________________________________\n",
            "Convolution_3_1 (Conv1D)        (None, 1000, 64)     49216       Reshape_into_128_legnth_vector[0]\n",
            "__________________________________________________________________________________________________\n",
            "Convolution_4_1 (Conv1D)        (None, 1000, 64)     57408       Reshape_into_128_legnth_vector[0]\n",
            "__________________________________________________________________________________________________\n",
            "MaxPooling_1_1 (MaxPooling1D)   (None, 1000, 64)     0           Convolution_1_1[0][0]            \n",
            "__________________________________________________________________________________________________\n",
            "MaxPooling_2_1 (MaxPooling1D)   (None, 1000, 64)     0           Convolution_2_1[0][0]            \n",
            "__________________________________________________________________________________________________\n",
            "MaxPooling_3_1 (MaxPooling1D)   (None, 1000, 64)     0           Convolution_3_1[0][0]            \n",
            "__________________________________________________________________________________________________\n",
            "MaxPooling_4_1 (MaxPooling1D)   (None, 1000, 64)     0           Convolution_4_1[0][0]            \n",
            "__________________________________________________________________________________________________\n",
            "Convolution_1_2 (Conv1D)        (None, 1000, 64)     16448       MaxPooling_1_1[0][0]             \n",
            "__________________________________________________________________________________________________\n",
            "Convolution_2_2 (Conv1D)        (None, 1000, 64)     20544       MaxPooling_2_1[0][0]             \n",
            "__________________________________________________________________________________________________\n",
            "Convolution_3_2 (Conv1D)        (None, 1000, 64)     24640       MaxPooling_3_1[0][0]             \n",
            "__________________________________________________________________________________________________\n",
            "Convolution_4_2 (Conv1D)        (None, 1000, 64)     28736       MaxPooling_4_1[0][0]             \n",
            "__________________________________________________________________________________________________\n",
            "GlobalMaxPooling_1_2 (GlobalMax (None, 64)           0           Convolution_1_2[0][0]            \n",
            "__________________________________________________________________________________________________\n",
            "GlobalMaxPooling_2_2 (GlobalMax (None, 64)           0           Convolution_2_2[0][0]            \n",
            "__________________________________________________________________________________________________\n",
            "GlobalMaxPooling_3_2 (GlobalMax (None, 64)           0           Convolution_3_2[0][0]            \n",
            "__________________________________________________________________________________________________\n",
            "GlobalMaxPooling_4_2 (GlobalMax (None, 64)           0           Convolution_4_2[0][0]            \n",
            "__________________________________________________________________________________________________\n",
            "Concat_the_outputs (Concatenate (None, 256)          0           GlobalMaxPooling_1_2[0][0]       \n",
            "                                                                 GlobalMaxPooling_2_2[0][0]       \n",
            "                                                                 GlobalMaxPooling_3_2[0][0]       \n",
            "                                                                 GlobalMaxPooling_4_2[0][0]       \n",
            "__________________________________________________________________________________________________\n",
            "reshape (Reshape)               (None, 256)          0           Concat_the_outputs[0][0]         \n",
            "__________________________________________________________________________________________________\n",
            "FullyConnectedLayer (Dense)     (None, 64)           16448       reshape[0][0]                    \n",
            "__________________________________________________________________________________________________\n",
            "batch_normalization_4 (BatchNor (None, 64)           256         FullyConnectedLayer[0][0]        \n",
            "__________________________________________________________________________________________________\n",
            "dropout_4 (Dropout)             (None, 64)           0           batch_normalization_4[0][0]      \n",
            "__________________________________________________________________________________________________\n",
            "Prediction (Dense)              (None, 1)            65          dropout_4[0][0]                  \n",
            "==================================================================================================\n",
            "Total params: 8,676,097\n",
            "Trainable params: 8,675,969\n",
            "Non-trainable params: 128\n",
            "__________________________________________________________________________________________________\n"
          ],
          "name": "stdout"
        }
      ]
    },
    {
      "cell_type": "code",
      "metadata": {
        "id": "nW7CY9uoc-sl"
      },
      "source": [
        "#Model = create_model(input_max_size, embedding_size, filter_num, fully_connected_layers)\r\n",
        "model.compile(loss=loss, optimizer=optimizer, metrics=['accuracy'])"
      ],
      "execution_count": null,
      "outputs": []
    },
    {
      "cell_type": "code",
      "metadata": {
        "id": "fqFVcqWwfnjv"
      },
      "source": [
        "epochs = 100\r\n",
        "batch_size = 128\r\n",
        "# config\r\n",
        "input_max_size = 1000\r\n",
        "embedding_size = 128\r\n",
        "conv_layers = 4\r\n",
        "kernel_sizes = [4,5,6,7]\r\n",
        "filter_num = 64\r\n",
        "fully_connected_layers = [64,64]\r\n",
        "num_of_classes = 1\r\n",
        "dropout = 0.5\r\n",
        "optimizer = 'adam'\r\n",
        "loss = 'binary_crossentropy'"
      ],
      "execution_count": null,
      "outputs": []
    },
    {
      "cell_type": "code",
      "metadata": {
        "id": "CdMKFjA2Ab2H"
      },
      "source": [
        "def train(train_data, train_classes, val_data, val_classes, model, batch_size=64, epoch_count=200, max_length=1000, model_filepath=\"model_dir/1Dconv.h5\", learning_rate=0.001):\r\n",
        "\r\n",
        "    # 学習率を少しずつ下げるようにする\r\n",
        "    start = learning_rate\r\n",
        "    stop = learning_rate * 0.01\r\n",
        "    learning_rates = np.linspace(start, stop, epoch_count)\r\n",
        "\r\n",
        "    # モデル作成\r\n",
        "    #model = create_model(max_length=max_length)\r\n",
        "    model = model\r\n",
        "    optimizer = optimizers.Adam(lr=learning_rate)\r\n",
        "    model.compile(loss='binary_crossentropy',\r\n",
        "                  optimizer=optimizer,\r\n",
        "                  metrics=['accuracy'])\r\n",
        "\r\n",
        "    # 学習\r\n",
        "    model.fit(train_data, train_classes,\r\n",
        "              epochs=epoch_count,\r\n",
        "              batch_size=batch_size,\r\n",
        "              verbose=2,\r\n",
        "              validation_data=(val_data, val_classes),\r\n",
        "              callbacks=[\r\n",
        "                  tf.keras.callbacks.LearningRateScheduler(lambda epoch: learning_rates[epoch]),\r\n",
        "              ])\r\n",
        "\r\n",
        "    # モデルの保存\r\n",
        "    model.save(model_filepath)"
      ],
      "execution_count": null,
      "outputs": []
    },
    {
      "cell_type": "code",
      "metadata": {
        "id": "uBGjddN6BIuZ",
        "colab": {
          "base_uri": "https://localhost:8080/"
        },
        "outputId": "ed2c99f8-4938-4da4-f437-bdbc05b6dc5d"
      },
      "source": [
        "train(train_data, train_classes, val_data, val_classes ,model)"
      ],
      "execution_count": null,
      "outputs": [
        {
          "output_type": "stream",
          "text": [
            "Epoch 1/200\n",
            "573/573 - 73s - loss: 0.2596 - accuracy: 0.8488 - val_loss: 0.3956 - val_accuracy: 0.8505\n",
            "Epoch 2/200\n",
            "573/573 - 71s - loss: 0.2512 - accuracy: 0.8519 - val_loss: 0.4628 - val_accuracy: 0.8160\n",
            "Epoch 3/200\n",
            "573/573 - 71s - loss: 0.2480 - accuracy: 0.8513 - val_loss: 0.2625 - val_accuracy: 0.8559\n",
            "Epoch 4/200\n",
            "573/573 - 71s - loss: 0.2437 - accuracy: 0.8552 - val_loss: 0.3301 - val_accuracy: 0.8217\n",
            "Epoch 5/200\n",
            "573/573 - 71s - loss: 0.2430 - accuracy: 0.8567 - val_loss: 0.2875 - val_accuracy: 0.8205\n",
            "Epoch 6/200\n",
            "573/573 - 71s - loss: 0.2440 - accuracy: 0.8548 - val_loss: 0.2755 - val_accuracy: 0.8202\n",
            "Epoch 7/200\n",
            "573/573 - 71s - loss: 0.2415 - accuracy: 0.8556 - val_loss: 0.4784 - val_accuracy: 0.8208\n",
            "Epoch 8/200\n",
            "573/573 - 71s - loss: 0.2387 - accuracy: 0.8556 - val_loss: 0.2842 - val_accuracy: 0.8223\n",
            "Epoch 9/200\n",
            "573/573 - 71s - loss: 0.2395 - accuracy: 0.8540 - val_loss: 0.4397 - val_accuracy: 0.8210\n",
            "Epoch 10/200\n",
            "573/573 - 71s - loss: 0.2361 - accuracy: 0.8556 - val_loss: 0.2876 - val_accuracy: 0.8555\n",
            "Epoch 11/200\n",
            "573/573 - 71s - loss: 0.2350 - accuracy: 0.8561 - val_loss: 0.2837 - val_accuracy: 0.8569\n",
            "Epoch 12/200\n",
            "573/573 - 71s - loss: 0.2328 - accuracy: 0.8577 - val_loss: 0.2818 - val_accuracy: 0.8556\n",
            "Epoch 13/200\n",
            "573/573 - 72s - loss: 0.2305 - accuracy: 0.8597 - val_loss: 0.3476 - val_accuracy: 0.8561\n",
            "Epoch 14/200\n",
            "573/573 - 71s - loss: 0.2348 - accuracy: 0.8562 - val_loss: 0.2575 - val_accuracy: 0.8564\n",
            "Epoch 15/200\n",
            "573/573 - 72s - loss: 0.2316 - accuracy: 0.8589 - val_loss: 0.2408 - val_accuracy: 0.8583\n",
            "Epoch 16/200\n",
            "573/573 - 71s - loss: 0.2300 - accuracy: 0.8616 - val_loss: 0.2664 - val_accuracy: 0.8216\n",
            "Epoch 17/200\n",
            "573/573 - 72s - loss: 0.2288 - accuracy: 0.8601 - val_loss: 0.2844 - val_accuracy: 0.8219\n",
            "Epoch 18/200\n",
            "573/573 - 71s - loss: 0.2304 - accuracy: 0.8588 - val_loss: 0.3539 - val_accuracy: 0.8221\n",
            "Epoch 19/200\n",
            "573/573 - 71s - loss: 0.2278 - accuracy: 0.8597 - val_loss: 0.3113 - val_accuracy: 0.8563\n",
            "Epoch 20/200\n",
            "573/573 - 71s - loss: 0.2275 - accuracy: 0.8589 - val_loss: 0.2491 - val_accuracy: 0.8561\n",
            "Epoch 21/200\n",
            "573/573 - 72s - loss: 0.2285 - accuracy: 0.8594 - val_loss: 0.2384 - val_accuracy: 0.8588\n",
            "Epoch 22/200\n",
            "573/573 - 72s - loss: 0.2306 - accuracy: 0.8580 - val_loss: 0.2463 - val_accuracy: 0.8563\n",
            "Epoch 23/200\n",
            "573/573 - 71s - loss: 0.2287 - accuracy: 0.8589 - val_loss: 0.3630 - val_accuracy: 0.8168\n",
            "Epoch 24/200\n",
            "573/573 - 71s - loss: 0.2260 - accuracy: 0.8633 - val_loss: 0.2425 - val_accuracy: 0.8565\n",
            "Epoch 25/200\n",
            "573/573 - 71s - loss: 0.2257 - accuracy: 0.8604 - val_loss: 0.2510 - val_accuracy: 0.8418\n",
            "Epoch 26/200\n",
            "573/573 - 71s - loss: 0.2239 - accuracy: 0.8645 - val_loss: 0.2878 - val_accuracy: 0.8222\n",
            "Epoch 27/200\n",
            "573/573 - 71s - loss: 0.2284 - accuracy: 0.8590 - val_loss: 0.3460 - val_accuracy: 0.8568\n",
            "Epoch 28/200\n",
            "573/573 - 71s - loss: 0.2261 - accuracy: 0.8585 - val_loss: 0.2450 - val_accuracy: 0.8561\n",
            "Epoch 29/200\n",
            "573/573 - 71s - loss: 0.2248 - accuracy: 0.8608 - val_loss: 0.2379 - val_accuracy: 0.8574\n",
            "Epoch 30/200\n",
            "573/573 - 71s - loss: 0.2285 - accuracy: 0.8576 - val_loss: 0.2401 - val_accuracy: 0.8560\n",
            "Epoch 31/200\n",
            "573/573 - 71s - loss: 0.2238 - accuracy: 0.8617 - val_loss: 0.2407 - val_accuracy: 0.8567\n",
            "Epoch 32/200\n",
            "573/573 - 71s - loss: 0.2242 - accuracy: 0.8604 - val_loss: 0.2514 - val_accuracy: 0.8570\n",
            "Epoch 33/200\n",
            "573/573 - 71s - loss: 0.2244 - accuracy: 0.8591 - val_loss: 0.2555 - val_accuracy: 0.8215\n",
            "Epoch 34/200\n",
            "573/573 - 71s - loss: 0.2255 - accuracy: 0.8586 - val_loss: 0.2456 - val_accuracy: 0.8572\n",
            "Epoch 35/200\n",
            "573/573 - 71s - loss: 0.2275 - accuracy: 0.8603 - val_loss: 0.2856 - val_accuracy: 0.8222\n",
            "Epoch 36/200\n",
            "573/573 - 71s - loss: 0.2239 - accuracy: 0.8617 - val_loss: 0.2382 - val_accuracy: 0.8588\n",
            "Epoch 37/200\n",
            "573/573 - 72s - loss: 0.2247 - accuracy: 0.8605 - val_loss: 0.2386 - val_accuracy: 0.8583\n",
            "Epoch 38/200\n",
            "573/573 - 72s - loss: 0.2255 - accuracy: 0.8592 - val_loss: 0.2443 - val_accuracy: 0.8579\n",
            "Epoch 39/200\n",
            "573/573 - 72s - loss: 0.2229 - accuracy: 0.8623 - val_loss: 0.2469 - val_accuracy: 0.8295\n",
            "Epoch 40/200\n",
            "573/573 - 71s - loss: 0.2257 - accuracy: 0.8595 - val_loss: 0.2400 - val_accuracy: 0.8566\n",
            "Epoch 41/200\n",
            "573/573 - 71s - loss: 0.2247 - accuracy: 0.8614 - val_loss: 0.2453 - val_accuracy: 0.8556\n",
            "Epoch 42/200\n",
            "573/573 - 71s - loss: 0.2247 - accuracy: 0.8602 - val_loss: 0.4261 - val_accuracy: 0.8499\n",
            "Epoch 43/200\n",
            "573/573 - 71s - loss: 0.2247 - accuracy: 0.8597 - val_loss: 0.3196 - val_accuracy: 0.8220\n",
            "Epoch 44/200\n",
            "573/573 - 72s - loss: 0.2230 - accuracy: 0.8607 - val_loss: 0.2796 - val_accuracy: 0.8567\n",
            "Epoch 45/200\n",
            "573/573 - 71s - loss: 0.2215 - accuracy: 0.8631 - val_loss: 0.2461 - val_accuracy: 0.8441\n",
            "Epoch 46/200\n",
            "573/573 - 71s - loss: 0.2238 - accuracy: 0.8612 - val_loss: 0.2547 - val_accuracy: 0.8222\n",
            "Epoch 47/200\n",
            "573/573 - 71s - loss: 0.2229 - accuracy: 0.8588 - val_loss: 0.2428 - val_accuracy: 0.8591\n",
            "Epoch 48/200\n",
            "573/573 - 72s - loss: 0.2223 - accuracy: 0.8604 - val_loss: 0.2418 - val_accuracy: 0.8588\n",
            "Epoch 49/200\n",
            "573/573 - 72s - loss: 0.2211 - accuracy: 0.8615 - val_loss: 0.2407 - val_accuracy: 0.8583\n",
            "Epoch 50/200\n",
            "573/573 - 71s - loss: 0.2226 - accuracy: 0.8616 - val_loss: 0.2412 - val_accuracy: 0.8588\n",
            "Epoch 51/200\n",
            "573/573 - 72s - loss: 0.2225 - accuracy: 0.8609 - val_loss: 0.2580 - val_accuracy: 0.8592\n",
            "Epoch 52/200\n",
            "573/573 - 72s - loss: 0.2206 - accuracy: 0.8607 - val_loss: 0.2780 - val_accuracy: 0.8234\n",
            "Epoch 53/200\n",
            "573/573 - 72s - loss: 0.2207 - accuracy: 0.8615 - val_loss: 0.2625 - val_accuracy: 0.8240\n",
            "Epoch 54/200\n",
            "573/573 - 71s - loss: 0.2210 - accuracy: 0.8599 - val_loss: 0.2350 - val_accuracy: 0.8581\n",
            "Epoch 55/200\n",
            "573/573 - 71s - loss: 0.2223 - accuracy: 0.8594 - val_loss: 0.2379 - val_accuracy: 0.8388\n",
            "Epoch 56/200\n",
            "573/573 - 72s - loss: 0.2190 - accuracy: 0.8639 - val_loss: 0.2440 - val_accuracy: 0.8244\n",
            "Epoch 57/200\n",
            "573/573 - 71s - loss: 0.2198 - accuracy: 0.8625 - val_loss: 0.2339 - val_accuracy: 0.8583\n",
            "Epoch 58/200\n",
            "573/573 - 71s - loss: 0.2214 - accuracy: 0.8598 - val_loss: 0.2324 - val_accuracy: 0.8603\n",
            "Epoch 59/200\n",
            "573/573 - 71s - loss: 0.2230 - accuracy: 0.8596 - val_loss: 0.2498 - val_accuracy: 0.8239\n",
            "Epoch 60/200\n",
            "573/573 - 72s - loss: 0.2202 - accuracy: 0.8618 - val_loss: 0.2387 - val_accuracy: 0.8583\n",
            "Epoch 61/200\n",
            "573/573 - 71s - loss: 0.2229 - accuracy: 0.8616 - val_loss: 0.2410 - val_accuracy: 0.8583\n",
            "Epoch 62/200\n",
            "573/573 - 71s - loss: 0.2197 - accuracy: 0.8631 - val_loss: 0.2355 - val_accuracy: 0.8606\n",
            "Epoch 63/200\n",
            "573/573 - 71s - loss: 0.2212 - accuracy: 0.8614 - val_loss: 0.2376 - val_accuracy: 0.8603\n",
            "Epoch 64/200\n",
            "573/573 - 71s - loss: 0.2214 - accuracy: 0.8615 - val_loss: 0.2322 - val_accuracy: 0.8606\n",
            "Epoch 65/200\n",
            "573/573 - 71s - loss: 0.2190 - accuracy: 0.8628 - val_loss: 0.2396 - val_accuracy: 0.8583\n",
            "Epoch 66/200\n",
            "573/573 - 71s - loss: 0.2195 - accuracy: 0.8629 - val_loss: 0.2401 - val_accuracy: 0.8520\n",
            "Epoch 67/200\n",
            "573/573 - 71s - loss: 0.2208 - accuracy: 0.8600 - val_loss: 0.2725 - val_accuracy: 0.8240\n",
            "Epoch 68/200\n",
            "573/573 - 71s - loss: 0.2211 - accuracy: 0.8602 - val_loss: 0.2441 - val_accuracy: 0.8235\n",
            "Epoch 69/200\n",
            "573/573 - 71s - loss: 0.2205 - accuracy: 0.8606 - val_loss: 0.2482 - val_accuracy: 0.8583\n",
            "Epoch 70/200\n",
            "573/573 - 72s - loss: 0.2200 - accuracy: 0.8627 - val_loss: 0.2364 - val_accuracy: 0.8586\n",
            "Epoch 71/200\n",
            "573/573 - 71s - loss: 0.2212 - accuracy: 0.8610 - val_loss: 0.2397 - val_accuracy: 0.8588\n",
            "Epoch 72/200\n",
            "573/573 - 71s - loss: 0.2197 - accuracy: 0.8602 - val_loss: 0.2706 - val_accuracy: 0.8237\n",
            "Epoch 73/200\n",
            "573/573 - 72s - loss: 0.2216 - accuracy: 0.8586 - val_loss: 0.2540 - val_accuracy: 0.8230\n",
            "Epoch 74/200\n",
            "573/573 - 71s - loss: 0.2207 - accuracy: 0.8627 - val_loss: 0.3119 - val_accuracy: 0.8236\n",
            "Epoch 75/200\n",
            "573/573 - 72s - loss: 0.2215 - accuracy: 0.8595 - val_loss: 0.2413 - val_accuracy: 0.8594\n",
            "Epoch 76/200\n",
            "573/573 - 71s - loss: 0.2194 - accuracy: 0.8612 - val_loss: 0.2388 - val_accuracy: 0.8606\n",
            "Epoch 77/200\n",
            "573/573 - 72s - loss: 0.2219 - accuracy: 0.8585 - val_loss: 0.2350 - val_accuracy: 0.8602\n",
            "Epoch 78/200\n",
            "573/573 - 72s - loss: 0.2178 - accuracy: 0.8631 - val_loss: 0.2367 - val_accuracy: 0.8583\n",
            "Epoch 79/200\n",
            "573/573 - 72s - loss: 0.2203 - accuracy: 0.8602 - val_loss: 0.3346 - val_accuracy: 0.8231\n",
            "Epoch 80/200\n",
            "573/573 - 71s - loss: 0.2200 - accuracy: 0.8615 - val_loss: 0.2338 - val_accuracy: 0.8588\n",
            "Epoch 81/200\n",
            "573/573 - 72s - loss: 0.2183 - accuracy: 0.8620 - val_loss: 0.2340 - val_accuracy: 0.8602\n",
            "Epoch 82/200\n",
            "573/573 - 71s - loss: 0.2205 - accuracy: 0.8585 - val_loss: 0.2477 - val_accuracy: 0.8586\n",
            "Epoch 83/200\n",
            "573/573 - 72s - loss: 0.2200 - accuracy: 0.8601 - val_loss: 0.2500 - val_accuracy: 0.8237\n",
            "Epoch 84/200\n",
            "573/573 - 71s - loss: 0.2187 - accuracy: 0.8628 - val_loss: 0.2651 - val_accuracy: 0.8240\n",
            "Epoch 85/200\n",
            "573/573 - 71s - loss: 0.2197 - accuracy: 0.8611 - val_loss: 0.2510 - val_accuracy: 0.8583\n",
            "Epoch 86/200\n",
            "573/573 - 71s - loss: 0.2202 - accuracy: 0.8603 - val_loss: 0.2362 - val_accuracy: 0.8583\n",
            "Epoch 87/200\n",
            "573/573 - 72s - loss: 0.2200 - accuracy: 0.8606 - val_loss: 0.2384 - val_accuracy: 0.8583\n",
            "Epoch 88/200\n",
            "573/573 - 71s - loss: 0.2190 - accuracy: 0.8597 - val_loss: 0.2341 - val_accuracy: 0.8605\n",
            "Epoch 89/200\n",
            "573/573 - 71s - loss: 0.2184 - accuracy: 0.8613 - val_loss: 0.2648 - val_accuracy: 0.8585\n",
            "Epoch 90/200\n",
            "573/573 - 71s - loss: 0.2183 - accuracy: 0.8625 - val_loss: 0.2440 - val_accuracy: 0.8583\n",
            "Epoch 91/200\n",
            "573/573 - 71s - loss: 0.2188 - accuracy: 0.8613 - val_loss: 0.2971 - val_accuracy: 0.8242\n",
            "Epoch 92/200\n",
            "573/573 - 71s - loss: 0.2203 - accuracy: 0.8625 - val_loss: 0.2368 - val_accuracy: 0.8603\n",
            "Epoch 93/200\n",
            "573/573 - 71s - loss: 0.2197 - accuracy: 0.8603 - val_loss: 0.2426 - val_accuracy: 0.8584\n",
            "Epoch 94/200\n",
            "573/573 - 71s - loss: 0.2188 - accuracy: 0.8613 - val_loss: 0.2401 - val_accuracy: 0.8583\n",
            "Epoch 95/200\n",
            "573/573 - 72s - loss: 0.2172 - accuracy: 0.8625 - val_loss: 0.4015 - val_accuracy: 0.8579\n",
            "Epoch 96/200\n",
            "573/573 - 71s - loss: 0.2187 - accuracy: 0.8643 - val_loss: 0.2394 - val_accuracy: 0.8305\n",
            "Epoch 97/200\n",
            "573/573 - 71s - loss: 0.2193 - accuracy: 0.8609 - val_loss: 0.2355 - val_accuracy: 0.8585\n",
            "Epoch 98/200\n",
            "573/573 - 71s - loss: 0.2177 - accuracy: 0.8642 - val_loss: 0.2469 - val_accuracy: 0.8239\n",
            "Epoch 99/200\n",
            "573/573 - 71s - loss: 0.2197 - accuracy: 0.8609 - val_loss: 0.2599 - val_accuracy: 0.8242\n",
            "Epoch 100/200\n",
            "573/573 - 72s - loss: 0.2184 - accuracy: 0.8592 - val_loss: 0.2345 - val_accuracy: 0.8583\n",
            "Epoch 101/200\n",
            "573/573 - 72s - loss: 0.2181 - accuracy: 0.8613 - val_loss: 0.2546 - val_accuracy: 0.8580\n",
            "Epoch 102/200\n",
            "573/573 - 71s - loss: 0.2191 - accuracy: 0.8610 - val_loss: 0.2370 - val_accuracy: 0.8580\n",
            "Epoch 103/200\n",
            "573/573 - 72s - loss: 0.2168 - accuracy: 0.8620 - val_loss: 0.2354 - val_accuracy: 0.8612\n",
            "Epoch 104/200\n",
            "573/573 - 72s - loss: 0.2192 - accuracy: 0.8615 - val_loss: 0.2435 - val_accuracy: 0.8244\n",
            "Epoch 105/200\n",
            "573/573 - 72s - loss: 0.2161 - accuracy: 0.8653 - val_loss: 0.2639 - val_accuracy: 0.8240\n",
            "Epoch 106/200\n",
            "573/573 - 71s - loss: 0.2167 - accuracy: 0.8636 - val_loss: 0.2348 - val_accuracy: 0.8590\n",
            "Epoch 107/200\n",
            "573/573 - 71s - loss: 0.2167 - accuracy: 0.8636 - val_loss: 0.2396 - val_accuracy: 0.8583\n",
            "Epoch 108/200\n",
            "573/573 - 71s - loss: 0.2182 - accuracy: 0.8613 - val_loss: 0.2642 - val_accuracy: 0.8581\n",
            "Epoch 109/200\n",
            "573/573 - 71s - loss: 0.2165 - accuracy: 0.8636 - val_loss: 0.2391 - val_accuracy: 0.8601\n",
            "Epoch 110/200\n",
            "573/573 - 71s - loss: 0.2176 - accuracy: 0.8602 - val_loss: 0.2440 - val_accuracy: 0.8585\n",
            "Epoch 111/200\n",
            "573/573 - 71s - loss: 0.2153 - accuracy: 0.8644 - val_loss: 0.2425 - val_accuracy: 0.8523\n",
            "Epoch 112/200\n",
            "573/573 - 71s - loss: 0.2175 - accuracy: 0.8620 - val_loss: 0.2912 - val_accuracy: 0.8242\n",
            "Epoch 113/200\n",
            "573/573 - 71s - loss: 0.2190 - accuracy: 0.8635 - val_loss: 0.2551 - val_accuracy: 0.8239\n",
            "Epoch 114/200\n",
            "573/573 - 72s - loss: 0.2180 - accuracy: 0.8615 - val_loss: 0.2333 - val_accuracy: 0.8609\n",
            "Epoch 115/200\n",
            "573/573 - 71s - loss: 0.2172 - accuracy: 0.8622 - val_loss: 0.2388 - val_accuracy: 0.8604\n",
            "Epoch 116/200\n",
            "573/573 - 71s - loss: 0.2170 - accuracy: 0.8618 - val_loss: 0.2345 - val_accuracy: 0.8584\n",
            "Epoch 117/200\n",
            "573/573 - 71s - loss: 0.2190 - accuracy: 0.8597 - val_loss: 0.2376 - val_accuracy: 0.8578\n",
            "Epoch 118/200\n",
            "573/573 - 71s - loss: 0.2195 - accuracy: 0.8599 - val_loss: 0.2376 - val_accuracy: 0.8582\n",
            "Epoch 119/200\n",
            "573/573 - 71s - loss: 0.2184 - accuracy: 0.8609 - val_loss: 0.2377 - val_accuracy: 0.8581\n",
            "Epoch 120/200\n",
            "573/573 - 72s - loss: 0.2185 - accuracy: 0.8622 - val_loss: 0.2338 - val_accuracy: 0.8609\n",
            "Epoch 121/200\n",
            "573/573 - 71s - loss: 0.2173 - accuracy: 0.8639 - val_loss: 0.2360 - val_accuracy: 0.8605\n",
            "Epoch 122/200\n",
            "573/573 - 71s - loss: 0.2182 - accuracy: 0.8610 - val_loss: 0.2405 - val_accuracy: 0.8579\n",
            "Epoch 123/200\n",
            "573/573 - 71s - loss: 0.2187 - accuracy: 0.8606 - val_loss: 0.2350 - val_accuracy: 0.8605\n",
            "Epoch 124/200\n",
            "573/573 - 71s - loss: 0.2189 - accuracy: 0.8599 - val_loss: 0.2355 - val_accuracy: 0.8583\n",
            "Epoch 125/200\n",
            "573/573 - 72s - loss: 0.2194 - accuracy: 0.8603 - val_loss: 0.2467 - val_accuracy: 0.8235\n",
            "Epoch 126/200\n",
            "573/573 - 71s - loss: 0.2160 - accuracy: 0.8650 - val_loss: 0.2374 - val_accuracy: 0.8601\n",
            "Epoch 127/200\n",
            "573/573 - 71s - loss: 0.2172 - accuracy: 0.8610 - val_loss: 0.2361 - val_accuracy: 0.8580\n",
            "Epoch 128/200\n",
            "573/573 - 71s - loss: 0.2192 - accuracy: 0.8581 - val_loss: 0.2350 - val_accuracy: 0.8579\n",
            "Epoch 129/200\n",
            "573/573 - 71s - loss: 0.2200 - accuracy: 0.8606 - val_loss: 0.2389 - val_accuracy: 0.8576\n",
            "Epoch 130/200\n",
            "573/573 - 72s - loss: 0.2169 - accuracy: 0.8630 - val_loss: 0.2348 - val_accuracy: 0.8587\n",
            "Epoch 131/200\n",
            "573/573 - 72s - loss: 0.2193 - accuracy: 0.8594 - val_loss: 0.2330 - val_accuracy: 0.8588\n",
            "Epoch 132/200\n",
            "573/573 - 72s - loss: 0.2177 - accuracy: 0.8616 - val_loss: 0.2338 - val_accuracy: 0.8583\n",
            "Epoch 133/200\n",
            "573/573 - 72s - loss: 0.2166 - accuracy: 0.8623 - val_loss: 0.2358 - val_accuracy: 0.8583\n",
            "Epoch 134/200\n",
            "573/573 - 72s - loss: 0.2160 - accuracy: 0.8609 - val_loss: 0.2338 - val_accuracy: 0.8586\n",
            "Epoch 135/200\n",
            "573/573 - 72s - loss: 0.2188 - accuracy: 0.8623 - val_loss: 0.2391 - val_accuracy: 0.8607\n",
            "Epoch 136/200\n",
            "573/573 - 71s - loss: 0.2173 - accuracy: 0.8615 - val_loss: 0.2374 - val_accuracy: 0.8605\n",
            "Epoch 137/200\n",
            "573/573 - 72s - loss: 0.2179 - accuracy: 0.8605 - val_loss: 0.2392 - val_accuracy: 0.8583\n",
            "Epoch 138/200\n",
            "573/573 - 72s - loss: 0.2193 - accuracy: 0.8600 - val_loss: 0.2334 - val_accuracy: 0.8583\n",
            "Epoch 139/200\n",
            "573/573 - 72s - loss: 0.2170 - accuracy: 0.8639 - val_loss: 0.2447 - val_accuracy: 0.8583\n",
            "Epoch 140/200\n",
            "573/573 - 72s - loss: 0.2173 - accuracy: 0.8623 - val_loss: 0.2367 - val_accuracy: 0.8581\n",
            "Epoch 141/200\n",
            "573/573 - 72s - loss: 0.2185 - accuracy: 0.8614 - val_loss: 0.2375 - val_accuracy: 0.8605\n",
            "Epoch 142/200\n",
            "573/573 - 72s - loss: 0.2186 - accuracy: 0.8599 - val_loss: 0.2341 - val_accuracy: 0.8584\n",
            "Epoch 143/200\n",
            "573/573 - 72s - loss: 0.2177 - accuracy: 0.8618 - val_loss: 0.2639 - val_accuracy: 0.8584\n",
            "Epoch 144/200\n",
            "573/573 - 72s - loss: 0.2167 - accuracy: 0.8634 - val_loss: 0.2377 - val_accuracy: 0.8587\n",
            "Epoch 145/200\n",
            "573/573 - 72s - loss: 0.2173 - accuracy: 0.8623 - val_loss: 0.2400 - val_accuracy: 0.8600\n",
            "Epoch 146/200\n",
            "573/573 - 72s - loss: 0.2170 - accuracy: 0.8635 - val_loss: 0.2533 - val_accuracy: 0.8240\n",
            "Epoch 147/200\n",
            "573/573 - 72s - loss: 0.2185 - accuracy: 0.8599 - val_loss: 0.2397 - val_accuracy: 0.8583\n",
            "Epoch 148/200\n",
            "573/573 - 72s - loss: 0.2168 - accuracy: 0.8633 - val_loss: 0.2426 - val_accuracy: 0.8240\n",
            "Epoch 149/200\n",
            "573/573 - 73s - loss: 0.2192 - accuracy: 0.8583 - val_loss: 0.2793 - val_accuracy: 0.8239\n",
            "Epoch 150/200\n",
            "573/573 - 72s - loss: 0.2175 - accuracy: 0.8606 - val_loss: 0.2358 - val_accuracy: 0.8588\n",
            "Epoch 151/200\n",
            "573/573 - 72s - loss: 0.2185 - accuracy: 0.8601 - val_loss: 0.2363 - val_accuracy: 0.8583\n",
            "Epoch 152/200\n",
            "573/573 - 72s - loss: 0.2171 - accuracy: 0.8603 - val_loss: 0.2438 - val_accuracy: 0.8241\n",
            "Epoch 153/200\n",
            "573/573 - 72s - loss: 0.2185 - accuracy: 0.8623 - val_loss: 0.2582 - val_accuracy: 0.8240\n",
            "Epoch 154/200\n",
            "573/573 - 72s - loss: 0.2179 - accuracy: 0.8627 - val_loss: 0.2383 - val_accuracy: 0.8602\n",
            "Epoch 155/200\n",
            "573/573 - 71s - loss: 0.2179 - accuracy: 0.8615 - val_loss: 0.2352 - val_accuracy: 0.8606\n",
            "Epoch 156/200\n",
            "573/573 - 72s - loss: 0.2159 - accuracy: 0.8630 - val_loss: 0.2614 - val_accuracy: 0.8237\n",
            "Epoch 157/200\n",
            "573/573 - 72s - loss: 0.2185 - accuracy: 0.8599 - val_loss: 0.2379 - val_accuracy: 0.8601\n",
            "Epoch 158/200\n",
            "573/573 - 72s - loss: 0.2162 - accuracy: 0.8627 - val_loss: 0.2359 - val_accuracy: 0.8590\n",
            "Epoch 159/200\n",
            "573/573 - 72s - loss: 0.2169 - accuracy: 0.8618 - val_loss: 0.2365 - val_accuracy: 0.8602\n",
            "Epoch 160/200\n",
            "573/573 - 72s - loss: 0.2178 - accuracy: 0.8621 - val_loss: 0.2351 - val_accuracy: 0.8604\n",
            "Epoch 161/200\n",
            "573/573 - 72s - loss: 0.2182 - accuracy: 0.8632 - val_loss: 0.2461 - val_accuracy: 0.8239\n",
            "Epoch 162/200\n",
            "573/573 - 72s - loss: 0.2168 - accuracy: 0.8612 - val_loss: 0.2340 - val_accuracy: 0.8603\n",
            "Epoch 163/200\n",
            "573/573 - 72s - loss: 0.2188 - accuracy: 0.8623 - val_loss: 0.2353 - val_accuracy: 0.8582\n",
            "Epoch 164/200\n",
            "573/573 - 72s - loss: 0.2168 - accuracy: 0.8620 - val_loss: 0.2366 - val_accuracy: 0.8601\n",
            "Epoch 165/200\n",
            "573/573 - 72s - loss: 0.2169 - accuracy: 0.8634 - val_loss: 0.2342 - val_accuracy: 0.8586\n",
            "Epoch 166/200\n",
            "573/573 - 72s - loss: 0.2185 - accuracy: 0.8585 - val_loss: 0.2380 - val_accuracy: 0.8604\n",
            "Epoch 167/200\n",
            "573/573 - 72s - loss: 0.2182 - accuracy: 0.8598 - val_loss: 0.2372 - val_accuracy: 0.8582\n",
            "Epoch 168/200\n",
            "573/573 - 72s - loss: 0.2185 - accuracy: 0.8622 - val_loss: 0.2344 - val_accuracy: 0.8607\n",
            "Epoch 169/200\n",
            "573/573 - 72s - loss: 0.2172 - accuracy: 0.8638 - val_loss: 0.2495 - val_accuracy: 0.8235\n",
            "Epoch 170/200\n",
            "573/573 - 72s - loss: 0.2156 - accuracy: 0.8641 - val_loss: 0.2361 - val_accuracy: 0.8603\n",
            "Epoch 171/200\n",
            "573/573 - 71s - loss: 0.2172 - accuracy: 0.8619 - val_loss: 0.2358 - val_accuracy: 0.8605\n",
            "Epoch 172/200\n",
            "573/573 - 72s - loss: 0.2168 - accuracy: 0.8625 - val_loss: 0.2350 - val_accuracy: 0.8604\n",
            "Epoch 173/200\n",
            "573/573 - 72s - loss: 0.2152 - accuracy: 0.8638 - val_loss: 0.2364 - val_accuracy: 0.8603\n",
            "Epoch 174/200\n",
            "573/573 - 72s - loss: 0.2144 - accuracy: 0.8639 - val_loss: 0.2339 - val_accuracy: 0.8606\n",
            "Epoch 175/200\n",
            "573/573 - 72s - loss: 0.2156 - accuracy: 0.8615 - val_loss: 0.2383 - val_accuracy: 0.8603\n",
            "Epoch 176/200\n",
            "573/573 - 72s - loss: 0.2176 - accuracy: 0.8602 - val_loss: 0.2349 - val_accuracy: 0.8585\n",
            "Epoch 177/200\n",
            "573/573 - 72s - loss: 0.2192 - accuracy: 0.8612 - val_loss: 0.2401 - val_accuracy: 0.8384\n",
            "Epoch 178/200\n",
            "573/573 - 72s - loss: 0.2181 - accuracy: 0.8624 - val_loss: 0.2334 - val_accuracy: 0.8594\n",
            "Epoch 179/200\n",
            "573/573 - 72s - loss: 0.2146 - accuracy: 0.8628 - val_loss: 0.2367 - val_accuracy: 0.8584\n",
            "Epoch 180/200\n",
            "573/573 - 72s - loss: 0.2159 - accuracy: 0.8629 - val_loss: 0.2361 - val_accuracy: 0.8606\n",
            "Epoch 181/200\n",
            "573/573 - 71s - loss: 0.2192 - accuracy: 0.8613 - val_loss: 0.2353 - val_accuracy: 0.8607\n",
            "Epoch 182/200\n",
            "573/573 - 72s - loss: 0.2169 - accuracy: 0.8609 - val_loss: 0.2354 - val_accuracy: 0.8609\n",
            "Epoch 183/200\n",
            "573/573 - 72s - loss: 0.2177 - accuracy: 0.8628 - val_loss: 0.2361 - val_accuracy: 0.8608\n",
            "Epoch 184/200\n",
            "573/573 - 72s - loss: 0.2148 - accuracy: 0.8639 - val_loss: 0.2372 - val_accuracy: 0.8585\n",
            "Epoch 185/200\n",
            "573/573 - 71s - loss: 0.2166 - accuracy: 0.8623 - val_loss: 0.2422 - val_accuracy: 0.8243\n",
            "Epoch 186/200\n",
            "573/573 - 72s - loss: 0.2182 - accuracy: 0.8622 - val_loss: 0.2359 - val_accuracy: 0.8607\n",
            "Epoch 187/200\n",
            "573/573 - 72s - loss: 0.2172 - accuracy: 0.8594 - val_loss: 0.2362 - val_accuracy: 0.8585\n",
            "Epoch 188/200\n",
            "573/573 - 71s - loss: 0.2177 - accuracy: 0.8622 - val_loss: 0.2364 - val_accuracy: 0.8607\n",
            "Epoch 189/200\n",
            "573/573 - 72s - loss: 0.2167 - accuracy: 0.8616 - val_loss: 0.2353 - val_accuracy: 0.8608\n",
            "Epoch 190/200\n",
            "573/573 - 72s - loss: 0.2172 - accuracy: 0.8630 - val_loss: 0.2392 - val_accuracy: 0.8606\n",
            "Epoch 191/200\n",
            "573/573 - 72s - loss: 0.2179 - accuracy: 0.8624 - val_loss: 0.2365 - val_accuracy: 0.8607\n",
            "Epoch 192/200\n",
            "573/573 - 72s - loss: 0.2170 - accuracy: 0.8627 - val_loss: 0.2353 - val_accuracy: 0.8590\n",
            "Epoch 193/200\n",
            "573/573 - 72s - loss: 0.2169 - accuracy: 0.8624 - val_loss: 0.2358 - val_accuracy: 0.8594\n",
            "Epoch 194/200\n",
            "573/573 - 71s - loss: 0.2161 - accuracy: 0.8630 - val_loss: 0.2368 - val_accuracy: 0.8604\n",
            "Epoch 195/200\n",
            "573/573 - 72s - loss: 0.2148 - accuracy: 0.8623 - val_loss: 0.2367 - val_accuracy: 0.8606\n",
            "Epoch 196/200\n",
            "573/573 - 71s - loss: 0.2162 - accuracy: 0.8641 - val_loss: 0.2360 - val_accuracy: 0.8607\n",
            "Epoch 197/200\n",
            "573/573 - 71s - loss: 0.2165 - accuracy: 0.8620 - val_loss: 0.2362 - val_accuracy: 0.8606\n",
            "Epoch 198/200\n",
            "573/573 - 72s - loss: 0.2185 - accuracy: 0.8621 - val_loss: 0.2357 - val_accuracy: 0.8595\n",
            "Epoch 199/200\n",
            "573/573 - 72s - loss: 0.2164 - accuracy: 0.8626 - val_loss: 0.2362 - val_accuracy: 0.8606\n",
            "Epoch 200/200\n",
            "573/573 - 71s - loss: 0.2165 - accuracy: 0.8605 - val_loss: 0.2359 - val_accuracy: 0.8592\n"
          ],
          "name": "stdout"
        }
      ]
    },
    {
      "cell_type": "code",
      "metadata": {
        "id": "_Ghsh4FJrqwQ"
      },
      "source": [
        "model_filepath = 'model_dir/1Dconv'\r\n",
        "\r\n",
        "model.save(model_filepath + '.h5')\r\n",
        "model.save_weights(model_filepath + \"_weight.h5\")"
      ],
      "execution_count": null,
      "outputs": []
    },
    {
      "cell_type": "code",
      "metadata": {
        "colab": {
          "base_uri": "https://localhost:8080/"
        },
        "id": "jR0Tn41qmYM9",
        "outputId": "f58646a0-e5a7-4694-8c2a-326de8b64565"
      },
      "source": [
        "# ngrokのインストール\r\n",
        "import os\r\n",
        "!wget https://bin.equinox.io/c/4VmDzA7iaHb/ngrok-stable-linux-amd64.zip\r\n",
        "!unzip ngrok-stable-linux-amd64.zip\r\n",
        "\r\n",
        "# TensorBoardのlogフォルダ\r\n",
        "LOG_DIR = './log'\r\n",
        "if not os.path.exists(LOG_DIR):\r\n",
        "    os.makedirs(LOG_DIR)\r\n",
        "\r\n",
        "# TensorBoardをバックグラウンドで実行\r\n",
        "LOG_DIR = './log'\r\n",
        "get_ipython().system_raw(\r\n",
        "    'tensorboard --logdir {} --host 0.0.0.0 --port 6006 &'\r\n",
        "    .format(LOG_DIR))\r\n",
        "\r\n",
        "# ngrokバックグラウンドプロセスを起動\r\n",
        "# TensorBoardのポート6006を開放します。\r\n",
        "get_ipython().system_raw('./ngrok http 6006 &')"
      ],
      "execution_count": null,
      "outputs": [
        {
          "output_type": "stream",
          "text": [
            "--2021-01-09 05:28:13--  https://bin.equinox.io/c/4VmDzA7iaHb/ngrok-stable-linux-amd64.zip\n",
            "Resolving bin.equinox.io (bin.equinox.io)... 34.195.187.253, 54.159.34.239, 3.90.94.177, ...\n",
            "Connecting to bin.equinox.io (bin.equinox.io)|34.195.187.253|:443... connected.\n",
            "HTTP request sent, awaiting response... 200 OK\n",
            "Length: 13773305 (13M) [application/octet-stream]\n",
            "Saving to: ‘ngrok-stable-linux-amd64.zip.1’\n",
            "\n",
            "ngrok-stable-linux- 100%[===================>]  13.13M  51.6MB/s    in 0.3s    \n",
            "\n",
            "2021-01-09 05:28:13 (51.6 MB/s) - ‘ngrok-stable-linux-amd64.zip.1’ saved [13773305/13773305]\n",
            "\n",
            "Archive:  ngrok-stable-linux-amd64.zip\n",
            "replace ngrok? [y]es, [n]o, [A]ll, [N]one, [r]ename: A\n",
            "  inflating: ngrok                   \n"
          ],
          "name": "stdout"
        }
      ]
    },
    {
      "cell_type": "code",
      "metadata": {
        "colab": {
          "base_uri": "https://localhost:8080/"
        },
        "id": "xZhrFshpmuo5",
        "outputId": "f6a43515-d886-49c6-c6e5-f6ebdc873e0c"
      },
      "source": [
        "# TensorBoard表示のURLを取得\r\n",
        "!curl -s http://localhost:4040/api/tunnels | python3 -c \\\r\n",
        "    \"import sys, json; print(json.load(sys.stdin)['tunnels'][0]['public_url'])\""
      ],
      "execution_count": null,
      "outputs": [
        {
          "output_type": "stream",
          "text": [
            "http://b34c39cb02e1.ngrok.io\n"
          ],
          "name": "stdout"
        }
      ]
    },
    {
      "cell_type": "code",
      "metadata": {
        "id": "NLAu_1PYLAnI"
      },
      "source": [
        "model_filepath = 'model_dir/1Dconv'\r\n",
        "model = load_model(model_filepath+'.h5')"
      ],
      "execution_count": null,
      "outputs": []
    },
    {
      "cell_type": "code",
      "metadata": {
        "id": "-FZmGiOu-W1N"
      },
      "source": [
        "def text_encoding(input_url):\r\n",
        "  input_url = url_decode(input_url)\r\n",
        "  input_url = [ord(x) for x in str(input_url).strip()]\r\n",
        "  input_url = input_url[:1000]\r\n",
        "  if len(input_url) < 1000:\r\n",
        "    input_url += ([0]*(1000-len(input_url)))\r\n",
        "  #print(input_url)\r\n",
        "  return input_url"
      ],
      "execution_count": null,
      "outputs": []
    },
    {
      "cell_type": "code",
      "metadata": {
        "id": "VVJ1881s_Om1"
      },
      "source": [
        "def predict(comments, model_filepath='model_dir/1Dconv.h5'):\r\n",
        "  model = load_model(model_filepath)\r\n",
        "  ret =model.predict(comments)\r\n",
        "  return ret[0][0]"
      ],
      "execution_count": null,
      "outputs": []
    },
    {
      "cell_type": "code",
      "metadata": {
        "id": "vxCMa9WmDZpo"
      },
      "source": [
        "model_file = \"./model_dir/1Dconv_weight.h5\""
      ],
      "execution_count": null,
      "outputs": []
    },
    {
      "cell_type": "code",
      "metadata": {
        "id": "Wp0ZB4u3qyld"
      },
      "source": [
        "target = ['prediction']"
      ],
      "execution_count": null,
      "outputs": []
    },
    {
      "cell_type": "code",
      "metadata": {
        "id": "57c7XY5ZHmtv"
      },
      "source": [
        "attack = []\r\n",
        "attack.append('http://localhost:8080/get.php?input=<script>alert(1)</script>')\r\n",
        "attack.append('http://localhost:8080/get.php?input=hoge')\r\n",
        "attack.append('http://localhost:8080/tienda1/publico/registro.jsp?modo=registro&login=tejani&password=arable&nombre=Josiana&apellidos=De+Anta+Colondres&email=agunda-wulff%40onoratoinformatica.aq&dni=427%278643%27&direccion=C%2F+Jose+Zamoray%2C+S%2FN+4C&ciudad=Narros+del+Puerto&cp=23770&provincia=Tarragona&ntc=2400850921681991&B1=Registrar')\r\n",
        "attack.append(\"http://localhost:8080/tienda1/publico/entrar.jsp\")\r\n",
        "attack.append(\"http://localhost:8080/tienda1/publico/autenticar.jsp?modo=entrar&login=whey-min&pwd=r.apaz&remember=on%2f&b1=entrar\")\r\n",
        "attack.append(\"http://www.example.com?userID=20%27%20or%20%271%27%3d%271\")\r\n",
        "attack.append('http://www.example.com/?userid=20+or+1=1;--')\r\n",
        "attack.append('http://localhost:8080/?userid=20+or+1=1;--')\r\n",
        "attack.append('<script>')\r\n",
        "attack.append(\"SELECT\")\r\n",
        "attack.append(\"DELETE\")\r\n",
        "attack.append(\"DROP\")\r\n",
        "attack.append(\"WHERE\")"
      ],
      "execution_count": null,
      "outputs": []
    },
    {
      "cell_type": "code",
      "metadata": {
        "id": "I4IoSSG5_mlR",
        "colab": {
          "base_uri": "https://localhost:8080/"
        },
        "outputId": "bdd39dbc-390e-49e8-d81c-3ef84a2f08ca"
      },
      "source": [
        "predict_results = []\r\n",
        "for i in range(len(attack)):\r\n",
        "  txt = text_encoding(attack[i])\r\n",
        "  predict_results.append(predict(np.array([txt]))) \r\n",
        "predict_results"
      ],
      "execution_count": null,
      "outputs": [
        {
          "output_type": "stream",
          "text": [
            "WARNING:tensorflow:11 out of the last 11 calls to <function Model.make_predict_function.<locals>.predict_function at 0x7f8a7115c840> triggered tf.function retracing. Tracing is expensive and the excessive number of tracings could be due to (1) creating @tf.function repeatedly in a loop, (2) passing tensors with different shapes, (3) passing Python objects instead of tensors. For (1), please define your @tf.function outside of the loop. For (2), @tf.function has experimental_relax_shapes=True option that relaxes argument shapes that can avoid unnecessary retracing. For (3), please refer to https://www.tensorflow.org/guide/function#controlling_retracing and https://www.tensorflow.org/api_docs/python/tf/function for  more details.\n",
            "WARNING:tensorflow:11 out of the last 11 calls to <function Model.make_predict_function.<locals>.predict_function at 0x7f8a711360d0> triggered tf.function retracing. Tracing is expensive and the excessive number of tracings could be due to (1) creating @tf.function repeatedly in a loop, (2) passing tensors with different shapes, (3) passing Python objects instead of tensors. For (1), please define your @tf.function outside of the loop. For (2), @tf.function has experimental_relax_shapes=True option that relaxes argument shapes that can avoid unnecessary retracing. For (3), please refer to https://www.tensorflow.org/guide/function#controlling_retracing and https://www.tensorflow.org/api_docs/python/tf/function for  more details.\n",
            "WARNING:tensorflow:11 out of the last 11 calls to <function Model.make_predict_function.<locals>.predict_function at 0x7f8a73d711e0> triggered tf.function retracing. Tracing is expensive and the excessive number of tracings could be due to (1) creating @tf.function repeatedly in a loop, (2) passing tensors with different shapes, (3) passing Python objects instead of tensors. For (1), please define your @tf.function outside of the loop. For (2), @tf.function has experimental_relax_shapes=True option that relaxes argument shapes that can avoid unnecessary retracing. For (3), please refer to https://www.tensorflow.org/guide/function#controlling_retracing and https://www.tensorflow.org/api_docs/python/tf/function for  more details.\n",
            "WARNING:tensorflow:11 out of the last 11 calls to <function Model.make_predict_function.<locals>.predict_function at 0x7f8a73f0f950> triggered tf.function retracing. Tracing is expensive and the excessive number of tracings could be due to (1) creating @tf.function repeatedly in a loop, (2) passing tensors with different shapes, (3) passing Python objects instead of tensors. For (1), please define your @tf.function outside of the loop. For (2), @tf.function has experimental_relax_shapes=True option that relaxes argument shapes that can avoid unnecessary retracing. For (3), please refer to https://www.tensorflow.org/guide/function#controlling_retracing and https://www.tensorflow.org/api_docs/python/tf/function for  more details.\n",
            "WARNING:tensorflow:11 out of the last 11 calls to <function Model.make_predict_function.<locals>.predict_function at 0x7f8a7236c8c8> triggered tf.function retracing. Tracing is expensive and the excessive number of tracings could be due to (1) creating @tf.function repeatedly in a loop, (2) passing tensors with different shapes, (3) passing Python objects instead of tensors. For (1), please define your @tf.function outside of the loop. For (2), @tf.function has experimental_relax_shapes=True option that relaxes argument shapes that can avoid unnecessary retracing. For (3), please refer to https://www.tensorflow.org/guide/function#controlling_retracing and https://www.tensorflow.org/api_docs/python/tf/function for  more details.\n",
            "WARNING:tensorflow:11 out of the last 11 calls to <function Model.make_predict_function.<locals>.predict_function at 0x7f8a78add8c8> triggered tf.function retracing. Tracing is expensive and the excessive number of tracings could be due to (1) creating @tf.function repeatedly in a loop, (2) passing tensors with different shapes, (3) passing Python objects instead of tensors. For (1), please define your @tf.function outside of the loop. For (2), @tf.function has experimental_relax_shapes=True option that relaxes argument shapes that can avoid unnecessary retracing. For (3), please refer to https://www.tensorflow.org/guide/function#controlling_retracing and https://www.tensorflow.org/api_docs/python/tf/function for  more details.\n",
            "WARNING:tensorflow:11 out of the last 11 calls to <function Model.make_predict_function.<locals>.predict_function at 0x7f8a7236cae8> triggered tf.function retracing. Tracing is expensive and the excessive number of tracings could be due to (1) creating @tf.function repeatedly in a loop, (2) passing tensors with different shapes, (3) passing Python objects instead of tensors. For (1), please define your @tf.function outside of the loop. For (2), @tf.function has experimental_relax_shapes=True option that relaxes argument shapes that can avoid unnecessary retracing. For (3), please refer to https://www.tensorflow.org/guide/function#controlling_retracing and https://www.tensorflow.org/api_docs/python/tf/function for  more details.\n",
            "WARNING:tensorflow:11 out of the last 11 calls to <function Model.make_predict_function.<locals>.predict_function at 0x7f8a78add510> triggered tf.function retracing. Tracing is expensive and the excessive number of tracings could be due to (1) creating @tf.function repeatedly in a loop, (2) passing tensors with different shapes, (3) passing Python objects instead of tensors. For (1), please define your @tf.function outside of the loop. For (2), @tf.function has experimental_relax_shapes=True option that relaxes argument shapes that can avoid unnecessary retracing. For (3), please refer to https://www.tensorflow.org/guide/function#controlling_retracing and https://www.tensorflow.org/api_docs/python/tf/function for  more details.\n",
            "WARNING:tensorflow:11 out of the last 11 calls to <function Model.make_predict_function.<locals>.predict_function at 0x7f8a73b687b8> triggered tf.function retracing. Tracing is expensive and the excessive number of tracings could be due to (1) creating @tf.function repeatedly in a loop, (2) passing tensors with different shapes, (3) passing Python objects instead of tensors. For (1), please define your @tf.function outside of the loop. For (2), @tf.function has experimental_relax_shapes=True option that relaxes argument shapes that can avoid unnecessary retracing. For (3), please refer to https://www.tensorflow.org/guide/function#controlling_retracing and https://www.tensorflow.org/api_docs/python/tf/function for  more details.\n",
            "WARNING:tensorflow:11 out of the last 11 calls to <function Model.make_predict_function.<locals>.predict_function at 0x7f8a73b68620> triggered tf.function retracing. Tracing is expensive and the excessive number of tracings could be due to (1) creating @tf.function repeatedly in a loop, (2) passing tensors with different shapes, (3) passing Python objects instead of tensors. For (1), please define your @tf.function outside of the loop. For (2), @tf.function has experimental_relax_shapes=True option that relaxes argument shapes that can avoid unnecessary retracing. For (3), please refer to https://www.tensorflow.org/guide/function#controlling_retracing and https://www.tensorflow.org/api_docs/python/tf/function for  more details.\n",
            "WARNING:tensorflow:11 out of the last 11 calls to <function Model.make_predict_function.<locals>.predict_function at 0x7f8a70763158> triggered tf.function retracing. Tracing is expensive and the excessive number of tracings could be due to (1) creating @tf.function repeatedly in a loop, (2) passing tensors with different shapes, (3) passing Python objects instead of tensors. For (1), please define your @tf.function outside of the loop. For (2), @tf.function has experimental_relax_shapes=True option that relaxes argument shapes that can avoid unnecessary retracing. For (3), please refer to https://www.tensorflow.org/guide/function#controlling_retracing and https://www.tensorflow.org/api_docs/python/tf/function for  more details.\n",
            "WARNING:tensorflow:11 out of the last 11 calls to <function Model.make_predict_function.<locals>.predict_function at 0x7f8a73df5950> triggered tf.function retracing. Tracing is expensive and the excessive number of tracings could be due to (1) creating @tf.function repeatedly in a loop, (2) passing tensors with different shapes, (3) passing Python objects instead of tensors. For (1), please define your @tf.function outside of the loop. For (2), @tf.function has experimental_relax_shapes=True option that relaxes argument shapes that can avoid unnecessary retracing. For (3), please refer to https://www.tensorflow.org/guide/function#controlling_retracing and https://www.tensorflow.org/api_docs/python/tf/function for  more details.\n",
            "WARNING:tensorflow:11 out of the last 11 calls to <function Model.make_predict_function.<locals>.predict_function at 0x7f8a73df50d0> triggered tf.function retracing. Tracing is expensive and the excessive number of tracings could be due to (1) creating @tf.function repeatedly in a loop, (2) passing tensors with different shapes, (3) passing Python objects instead of tensors. For (1), please define your @tf.function outside of the loop. For (2), @tf.function has experimental_relax_shapes=True option that relaxes argument shapes that can avoid unnecessary retracing. For (3), please refer to https://www.tensorflow.org/guide/function#controlling_retracing and https://www.tensorflow.org/api_docs/python/tf/function for  more details.\n"
          ],
          "name": "stdout"
        },
        {
          "output_type": "execute_result",
          "data": {
            "text/plain": [
              "[0.9999882,\n",
              " 0.9990224,\n",
              " 0.9999974,\n",
              " 0.5031214,\n",
              " 0.9986699,\n",
              " 0.99999976,\n",
              " 0.9999958,\n",
              " 0.99962246,\n",
              " 1.0,\n",
              " 1.0,\n",
              " 1.0,\n",
              " 1.0,\n",
              " 1.0]"
            ]
          },
          "metadata": {
            "tags": []
          },
          "execution_count": 33
        }
      ]
    },
    {
      "cell_type": "code",
      "metadata": {
        "id": "WvbAwwVUIZ-1"
      },
      "source": [
        ""
      ],
      "execution_count": null,
      "outputs": []
    }
  ]
}