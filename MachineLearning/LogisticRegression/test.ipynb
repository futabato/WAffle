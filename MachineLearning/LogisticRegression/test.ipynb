{
 "metadata": {
  "language_info": {
   "codemirror_mode": {
    "name": "ipython",
    "version": 3
   },
   "file_extension": ".py",
   "mimetype": "text/x-python",
   "name": "python",
   "nbconvert_exporter": "python",
   "pygments_lexer": "ipython3",
   "version": "3.6.9-final"
  },
  "orig_nbformat": 2,
  "kernelspec": {
   "name": "python3",
   "display_name": "Python 3"
  }
 },
 "nbformat": 4,
 "nbformat_minor": 2,
 "cells": [
  {
   "cell_type": "code",
   "execution_count": 3,
   "metadata": {},
   "outputs": [],
   "source": [
    "from sklearn.feature_extraction.text import TfidfVectorizer\n",
    "from sklearn.model_selection import train_test_split\n",
    "from sklearn.linear_model import LogisticRegression\n",
    "import urllib.parse\n",
    "from sklearn import tree\n",
    "from sklearn import metrics\n",
    "import io\n",
    "from sklearn.svm import LinearSVC\n",
    "from sklearn.metrics import confusion_matrix"
   ]
  },
  {
   "cell_type": "code",
   "execution_count": 11,
   "metadata": {},
   "outputs": [],
   "source": [
    "normal_file_raw = '../dataset/web-application-attacks-datasets/csic_2010/normalTrafficTraining.txt'\n",
    "anomaly_file_raw = '../dataset/web-application-attacks-datasets/csic_2010/anomalousTrafficTest.txt'\n",
    "\n",
    "normal_file_parse = '../dataset/web-application-attacks-datasets/csic_2010/normalRequestTraining.txt'\n",
    "anomaly_file_parse = '../dataset/web-application-attacks-datasets/csic_2010/anomalousRequestTest.txt'"
   ]
  },
  {
   "cell_type": "code",
   "execution_count": 52,
   "metadata": {},
   "outputs": [],
   "source": [
    "def parse_file(file_in, file_out):\n",
    "    fin = open(file_in)\n",
    "    fout = io.open(file_out, \"w\", encoding=\"utf-8\")\n",
    "    lines = fin.readlines()\n",
    "    res = []\n",
    "    for i in range(len(lines)):\n",
    "        line = lines[i].strip()\n",
    "        if line.startswith(\"GET\"):\n",
    "            res.append(\"GET\" + line.split(\" \")[1])\n",
    "        elif line.startswith(\"POST\") or line.startswith(\"PUT\"):\n",
    "            url = line.split(' ')[0] + line.split(' ')[1]\n",
    "            j = i\n",
    "            while i != j:\n",
    "                if lines[j].startswith(\"Content-Length\"):\n",
    "                    break\n",
    "                j += 1\n",
    "            j += 1\n",
    "            data = lines[i].strip()\n",
    "            url += '?' + data\n",
    "            res.append(url)\n",
    "    for line in res:\n",
    "        line = urllib.parse.unquote(line).replace('\\n','').lower()\n",
    "        fout.writelines(line + '\\n')\n",
    "    print (\"finished parse \",len(res),\" requests\")\n",
    "    fout.close()\n",
    "    fin.close()\n"
   ]
  },
  {
   "cell_type": "code",
   "execution_count": 53,
   "metadata": {},
   "outputs": [],
   "source": [
    "def loadData(file):\n",
    "    with open(file, 'r', encoding=\"utf8\") as f:\n",
    "        data = f.readlines()\n",
    "    result = []\n",
    "    for d in data:\n",
    "        d = d.strip()\n",
    "        if (len(d) > 0):\n",
    "            result.append(d)\n",
    "    return result"
   ]
  },
  {
   "cell_type": "code",
   "execution_count": 54,
   "metadata": {},
   "outputs": [
    {
     "output_type": "stream",
     "name": "stdout",
     "text": [
      "finished parse  36000  requests\n",
      "finished parse  16327  requests\n"
     ]
    }
   ],
   "source": [
    "parse_file(normal_file_raw,normal_file_parse)\n",
    "parse_file(anomaly_file_raw,anomaly_file_parse)"
   ]
  },
  {
   "cell_type": "code",
   "execution_count": 55,
   "metadata": {},
   "outputs": [],
   "source": [
    "\n",
    "bad_requests = loadData('../dataset/web-application-attacks-datasets/csic_2010/anomalousRequestTest.txt')\n",
    "good_requests = loadData('../dataset/web-application-attacks-datasets/csic_2010/normalRequestTraining.txt')\n",
    "\n",
    "all_requests = bad_requests + good_requests\n",
    "yBad = [1] * len(bad_requests)\n",
    "yGood = [0] * len(good_requests)\n",
    "y = yBad + yGood"
   ]
  },
  {
   "cell_type": "code",
   "execution_count": 56,
   "metadata": {},
   "outputs": [],
   "source": [
    "vectorizer = TfidfVectorizer(min_df=0.0, analyzer=\"char\", sublinear_tf=True, ngram_range=(3, 3))\n",
    "X = vectorizer.fit_transform(all_requests)\n",
    "X_train, X_test, y_train, y_test = train_test_split(X, y, test_size=0.1, random_state=21)"
   ]
  },
  {
   "cell_type": "code",
   "execution_count": 57,
   "metadata": {},
   "outputs": [
    {
     "output_type": "stream",
     "name": "stdout",
     "text": [
      "Score Logistic Regression : 0.864131473342251\nConfusion Matrix: \n[[3567   22]\n [ 689  955]]\n"
     ]
    }
   ],
   "source": [
    "model = LogisticRegression()\n",
    "model.fit(X_train, y_train)\n",
    "y_pred = model.predict(X_test)\n",
    "score_test = metrics.accuracy_score(y_test, y_pred)\n",
    "matrix = confusion_matrix(y_test, y_pred)\n",
    "\n",
    "print (\"Score Logistic Regression :\",score_test)\n",
    "print (\"Confusion Matrix: \")\n",
    "print (matrix)"
   ]
  },
  {
   "cell_type": "code",
   "execution_count": null,
   "metadata": {},
   "outputs": [],
   "source": []
  },
  {
   "cell_type": "code",
   "execution_count": null,
   "metadata": {},
   "outputs": [],
   "source": []
  }
 ]
}