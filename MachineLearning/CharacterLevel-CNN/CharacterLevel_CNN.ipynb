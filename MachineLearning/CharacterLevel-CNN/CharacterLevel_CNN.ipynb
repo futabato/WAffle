{
  "nbformat": 4,
  "nbformat_minor": 0,
  "metadata": {
    "colab": {
      "name": "CharacterLevel-CNN",
      "provenance": [],
      "collapsed_sections": []
    },
    "kernelspec": {
      "name": "python3",
      "display_name": "Python 3"
    }
  },
  "cells": [
    {
      "cell_type": "markdown",
      "metadata": {
        "id": "gvmTLbfe0xlX"
      },
      "source": [
        "# 概要\r\n",
        "\r\n",
        "Character-LevelのCNNでWAFを作る。  \r\n",
        "論文の内容をKerasで実装してみる。  \r\n",
        "原著論文はこちら http://iyatomi-lab.info/sites/default/files/user/CSPA2018%20Proceedings_ito.pdf \r\n"
      ]
    },
    {
      "cell_type": "markdown",
      "metadata": {
        "id": "B1dsexYs1IqJ"
      },
      "source": [
        "## データの準備"
      ]
    },
    {
      "cell_type": "code",
      "metadata": {
        "id": "-s-l1JL-3hJp"
      },
      "source": [
        "import numpy as np\r\n",
        "import pandas as pd\r\n",
        "import matplotlib.pyplot as plt\r\n",
        "from sklearn.model_selection import train_test_split\r\n",
        "\r\n",
        "import tensorflow as tf\r\n",
        "import keras\r\n",
        "from keras.models import Sequential, Model\r\n",
        "from keras.layers import Input, Embedding\r\n",
        "from keras.layers import Dense, Dropout, Flatten\r\n",
        "from keras.layers import Conv1D, MaxPooling1D\r\n",
        "from keras import backend as K"
      ],
      "execution_count": 1,
      "outputs": []
    },
    {
      "cell_type": "code",
      "metadata": {
        "colab": {
          "base_uri": "https://localhost:8080/"
        },
        "id": "yIJK0lixnQNM",
        "outputId": "60020220-8a21-4720-819a-05f5ab65b573"
      },
      "source": [
        "%cd /content/drive/MyDrive/WAffle/\r\n",
        "!ls -al"
      ],
      "execution_count": 2,
      "outputs": [
        {
          "output_type": "stream",
          "text": [
            "/content/drive/MyDrive/WAffle\n",
            "total 33\n",
            "-rw------- 1 root root   151 Dec 18 14:37 2020-12-18.gslides\n",
            "-rw------- 1 root root 24122 Dec 29 07:16 CharacterLevel-CNN\n",
            "drwx------ 2 root root  4096 Dec 27 18:45 Dataset\n",
            "drwx------ 2 root root  4096 Dec 27 13:42 KerasPractice\n",
            "-rw------- 1 root root   151 Oct 26 12:09 WAF_Overview_補足資料.gslides\n"
          ],
          "name": "stdout"
        }
      ]
    },
    {
      "cell_type": "code",
      "metadata": {
        "id": "XZqaE3AznsXR"
      },
      "source": [
        "df = pd.read_csv('Dataset/cisc_database/csic_database.csv')"
      ],
      "execution_count": 36,
      "outputs": []
    },
    {
      "cell_type": "code",
      "metadata": {
        "id": "KKg3lQiIXNiE"
      },
      "source": [
        "df = df.rename(columns={'Unnamed: 0':'Target'})"
      ],
      "execution_count": 37,
      "outputs": []
    },
    {
      "cell_type": "code",
      "metadata": {
        "colab": {
          "base_uri": "https://localhost:8080/",
          "height": 500
        },
        "id": "0eveT8z_hP3Q",
        "outputId": "a8a97410-7d5f-4682-cea1-ca62b7d8e949"
      },
      "source": [
        "df['Target'] = df['Target'].apply(lambda x:0 if str(x) == 'Normal' else 1)\r\n",
        "df.head()"
      ],
      "execution_count": 38,
      "outputs": [
        {
          "output_type": "execute_result",
          "data": {
            "text/html": [
              "<div>\n",
              "<style scoped>\n",
              "    .dataframe tbody tr th:only-of-type {\n",
              "        vertical-align: middle;\n",
              "    }\n",
              "\n",
              "    .dataframe tbody tr th {\n",
              "        vertical-align: top;\n",
              "    }\n",
              "\n",
              "    .dataframe thead th {\n",
              "        text-align: right;\n",
              "    }\n",
              "</style>\n",
              "<table border=\"1\" class=\"dataframe\">\n",
              "  <thead>\n",
              "    <tr style=\"text-align: right;\">\n",
              "      <th></th>\n",
              "      <th>Target</th>\n",
              "      <th>Method</th>\n",
              "      <th>User-Agent</th>\n",
              "      <th>Pragma</th>\n",
              "      <th>Cache-Control</th>\n",
              "      <th>Accept</th>\n",
              "      <th>Accept-encoding</th>\n",
              "      <th>Accept-charset</th>\n",
              "      <th>language</th>\n",
              "      <th>host</th>\n",
              "      <th>cookie</th>\n",
              "      <th>content-type</th>\n",
              "      <th>connection</th>\n",
              "      <th>lenght</th>\n",
              "      <th>content</th>\n",
              "      <th>classification</th>\n",
              "      <th>URL</th>\n",
              "    </tr>\n",
              "  </thead>\n",
              "  <tbody>\n",
              "    <tr>\n",
              "      <th>0</th>\n",
              "      <td>0</td>\n",
              "      <td>GET</td>\n",
              "      <td>Mozilla/5.0 (compatible; Konqueror/3.5; Linux)...</td>\n",
              "      <td>no-cache</td>\n",
              "      <td>no-cache</td>\n",
              "      <td>text/xml,application/xml,application/xhtml+xml...</td>\n",
              "      <td>x-gzip, x-deflate, gzip, deflate</td>\n",
              "      <td>utf-8, utf-8;q=0.5, *;q=0.5</td>\n",
              "      <td>en</td>\n",
              "      <td>localhost:8080</td>\n",
              "      <td>JSESSIONID=1F767F17239C9B670A39E9B10C3825F4</td>\n",
              "      <td>NaN</td>\n",
              "      <td>close</td>\n",
              "      <td>NaN</td>\n",
              "      <td>NaN</td>\n",
              "      <td>0</td>\n",
              "      <td>http://localhost:8080/tienda1/index.jsp HTTP/1.1</td>\n",
              "    </tr>\n",
              "    <tr>\n",
              "      <th>1</th>\n",
              "      <td>0</td>\n",
              "      <td>GET</td>\n",
              "      <td>Mozilla/5.0 (compatible; Konqueror/3.5; Linux)...</td>\n",
              "      <td>no-cache</td>\n",
              "      <td>no-cache</td>\n",
              "      <td>text/xml,application/xml,application/xhtml+xml...</td>\n",
              "      <td>x-gzip, x-deflate, gzip, deflate</td>\n",
              "      <td>utf-8, utf-8;q=0.5, *;q=0.5</td>\n",
              "      <td>en</td>\n",
              "      <td>localhost:8080</td>\n",
              "      <td>JSESSIONID=81761ACA043B0E6014CA42A4BCD06AB5</td>\n",
              "      <td>NaN</td>\n",
              "      <td>close</td>\n",
              "      <td>NaN</td>\n",
              "      <td>NaN</td>\n",
              "      <td>0</td>\n",
              "      <td>http://localhost:8080/tienda1/publico/anadir.j...</td>\n",
              "    </tr>\n",
              "    <tr>\n",
              "      <th>2</th>\n",
              "      <td>0</td>\n",
              "      <td>POST</td>\n",
              "      <td>Mozilla/5.0 (compatible; Konqueror/3.5; Linux)...</td>\n",
              "      <td>no-cache</td>\n",
              "      <td>no-cache</td>\n",
              "      <td>text/xml,application/xml,application/xhtml+xml...</td>\n",
              "      <td>x-gzip, x-deflate, gzip, deflate</td>\n",
              "      <td>utf-8, utf-8;q=0.5, *;q=0.5</td>\n",
              "      <td>en</td>\n",
              "      <td>localhost:8080</td>\n",
              "      <td>JSESSIONID=933185092E0B668B90676E0A2B0767AF</td>\n",
              "      <td>application/x-www-form-urlencoded</td>\n",
              "      <td>Connection: close</td>\n",
              "      <td>Content-Length: 68</td>\n",
              "      <td>id=3&amp;nombre=Vino+Rioja&amp;precio=100&amp;cantidad=55&amp;...</td>\n",
              "      <td>0</td>\n",
              "      <td>http://localhost:8080/tienda1/publico/anadir.j...</td>\n",
              "    </tr>\n",
              "    <tr>\n",
              "      <th>3</th>\n",
              "      <td>0</td>\n",
              "      <td>GET</td>\n",
              "      <td>Mozilla/5.0 (compatible; Konqueror/3.5; Linux)...</td>\n",
              "      <td>no-cache</td>\n",
              "      <td>no-cache</td>\n",
              "      <td>text/xml,application/xml,application/xhtml+xml...</td>\n",
              "      <td>x-gzip, x-deflate, gzip, deflate</td>\n",
              "      <td>utf-8, utf-8;q=0.5, *;q=0.5</td>\n",
              "      <td>en</td>\n",
              "      <td>localhost:8080</td>\n",
              "      <td>JSESSIONID=8FA18BA82C5336D03D3A8AFA3E68CBB0</td>\n",
              "      <td>NaN</td>\n",
              "      <td>close</td>\n",
              "      <td>NaN</td>\n",
              "      <td>NaN</td>\n",
              "      <td>0</td>\n",
              "      <td>http://localhost:8080/tienda1/publico/autentic...</td>\n",
              "    </tr>\n",
              "    <tr>\n",
              "      <th>4</th>\n",
              "      <td>0</td>\n",
              "      <td>POST</td>\n",
              "      <td>Mozilla/5.0 (compatible; Konqueror/3.5; Linux)...</td>\n",
              "      <td>no-cache</td>\n",
              "      <td>no-cache</td>\n",
              "      <td>text/xml,application/xml,application/xhtml+xml...</td>\n",
              "      <td>x-gzip, x-deflate, gzip, deflate</td>\n",
              "      <td>utf-8, utf-8;q=0.5, *;q=0.5</td>\n",
              "      <td>en</td>\n",
              "      <td>localhost:8080</td>\n",
              "      <td>JSESSIONID=7104E6C68A6BCF1423DAE990CE49FEE2</td>\n",
              "      <td>application/x-www-form-urlencoded</td>\n",
              "      <td>Connection: close</td>\n",
              "      <td>Content-Length: 63</td>\n",
              "      <td>modo=entrar&amp;login=choong&amp;pwd=d1se3ci%F3n&amp;remem...</td>\n",
              "      <td>0</td>\n",
              "      <td>http://localhost:8080/tienda1/publico/autentic...</td>\n",
              "    </tr>\n",
              "  </tbody>\n",
              "</table>\n",
              "</div>"
            ],
            "text/plain": [
              "   Target  ...                                                URL\n",
              "0       0  ...   http://localhost:8080/tienda1/index.jsp HTTP/1.1\n",
              "1       0  ...  http://localhost:8080/tienda1/publico/anadir.j...\n",
              "2       0  ...  http://localhost:8080/tienda1/publico/anadir.j...\n",
              "3       0  ...  http://localhost:8080/tienda1/publico/autentic...\n",
              "4       0  ...  http://localhost:8080/tienda1/publico/autentic...\n",
              "\n",
              "[5 rows x 17 columns]"
            ]
          },
          "metadata": {
            "tags": []
          },
          "execution_count": 38
        }
      ]
    },
    {
      "cell_type": "code",
      "metadata": {
        "id": "7PGGa_YuorGC"
      },
      "source": [
        "x_train, y_train = train_test_split(df, train_size=0.8, test_size=0.2, random_state=42)"
      ],
      "execution_count": 39,
      "outputs": []
    },
    {
      "cell_type": "code",
      "metadata": {
        "id": "uIljM80HxGj5"
      },
      "source": [
        "x_train, x_test = train_test_split(x_train, train_size=0.8, test_size=0.2, random_state=42)\r\n",
        "y_train, y_test = train_test_split(y_train, train_size=0.8, test_size=0.2, random_state=42)"
      ],
      "execution_count": 40,
      "outputs": []
    },
    {
      "cell_type": "code",
      "metadata": {
        "colab": {
          "base_uri": "https://localhost:8080/"
        },
        "id": "RQUrwXAdy-2L",
        "outputId": "2561a193-d814-4269-d2d8-eac5061c0557"
      },
      "source": [
        "print('x_train shape', x_train.shape)\r\n",
        "print('y_train shape', y_train.shape)\r\n",
        "print('x_test shape', x_test.shape)\r\n",
        "print('y_test shape', y_test.shape)"
      ],
      "execution_count": 41,
      "outputs": [
        {
          "output_type": "stream",
          "text": [
            "x_train shape (39081, 17)\n",
            "y_train shape (9770, 17)\n",
            "x_test shape (9771, 17)\n",
            "y_test shape (2443, 17)\n"
          ],
          "name": "stdout"
        }
      ]
    },
    {
      "cell_type": "markdown",
      "metadata": {
        "id": "P77ahKXc0lo9"
      },
      "source": [
        "## アーキテクチャ\r\n",
        "\r\n",
        "1. Input(1000 characters)\r\n",
        "2. Embedding(128demensions)\r\n",
        "3. Conv(kernelsize = K, filter_num = 64) -> RELU\r\n",
        "4. Max Pooling(kernelsize = K)\r\n",
        "5. Conv(kernelsize = K, filter_num = 64) -> RELU\r\n",
        "6. Max Pooling(kernel_size = size of Conv 5's output)\r\n",
        "7. concat output & reshape into 64 length vector\r\n",
        "8. FCN(64 units) -> RELU\r\n",
        "9. Batch normalize\r\n",
        "10. Dropout(0.5)\r\n",
        "11. FCN(1 unit) -> Sigmoid\r\n",
        "\r\n",
        "(categorical_crossentropy)"
      ]
    },
    {
      "cell_type": "code",
      "metadata": {
        "id": "CVK2iZ7WV8BL"
      },
      "source": [
        "# vars \r\n",
        "input_size = 1000\r\n",
        "embeddinf_size = 128\r\n"
      ],
      "execution_count": null,
      "outputs": []
    },
    {
      "cell_type": "code",
      "metadata": {
        "colab": {
          "base_uri": "https://localhost:8080/",
          "height": 178
        },
        "id": "8WFCX6euzx2T",
        "outputId": "69cb806f-75bc-4b4e-9624-1d3a61137887"
      },
      "source": [
        "#Input Layer\r\n",
        "inputs = Input(shape=(input_size,), name='character_input', dtype='int')"
      ],
      "execution_count": null,
      "outputs": [
        {
          "output_type": "error",
          "ename": "NameError",
          "evalue": "ignored",
          "traceback": [
            "\u001b[0;31m---------------------------------------------------------------------------\u001b[0m",
            "\u001b[0;31mNameError\u001b[0m                                 Traceback (most recent call last)",
            "\u001b[0;32m<ipython-input-19-de9441d18af5>\u001b[0m in \u001b[0;36m<module>\u001b[0;34m()\u001b[0m\n\u001b[0;32m----> 1\u001b[0;31m \u001b[0minputs\u001b[0m \u001b[0;34m=\u001b[0m \u001b[0mInput\u001b[0m\u001b[0;34m(\u001b[0m\u001b[0mshape\u001b[0m\u001b[0;34m=\u001b[0m\u001b[0;34m(\u001b[0m\u001b[0minput_size\u001b[0m\u001b[0;34m,\u001b[0m\u001b[0;34m)\u001b[0m\u001b[0;34m,\u001b[0m \u001b[0mname\u001b[0m\u001b[0;34m=\u001b[0m\u001b[0;34m'character_input'\u001b[0m\u001b[0;34m,\u001b[0m \u001b[0mdtype\u001b[0m\u001b[0;34m=\u001b[0m\u001b[0;34m'int'\u001b[0m\u001b[0;34m)\u001b[0m\u001b[0;34m\u001b[0m\u001b[0;34m\u001b[0m\u001b[0m\n\u001b[0m",
            "\u001b[0;31mNameError\u001b[0m: name 'input_size' is not defined"
          ]
        }
      ]
    },
    {
      "cell_type": "code",
      "metadata": {
        "id": "GlZ4-KVC7h7e"
      },
      "source": [
        "#Embedding Layer\r\n",
        "x = Embedding(alphabet_size +1, embedding_size, input_length=input_size)(inputs)"
      ],
      "execution_count": null,
      "outputs": []
    },
    {
      "cell_type": "code",
      "metadata": {
        "id": "Mwv7_twy75HG"
      },
      "source": [
        "#Convolution Layers\r\n"
      ],
      "execution_count": null,
      "outputs": []
    },
    {
      "cell_type": "code",
      "metadata": {
        "id": "_F-BZBcgVjpp"
      },
      "source": [
        "# concat output && reshape into 64 length vector"
      ],
      "execution_count": null,
      "outputs": []
    },
    {
      "cell_type": "code",
      "metadata": {
        "id": "BzCBXCi0Vp2t"
      },
      "source": [
        "# Fully Connected Layers\r\n"
      ],
      "execution_count": null,
      "outputs": []
    }
  ]
}