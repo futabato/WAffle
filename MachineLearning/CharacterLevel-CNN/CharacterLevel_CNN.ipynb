{
  "nbformat": 4,
  "nbformat_minor": 0,
  "metadata": {
    "colab": {
      "name": "CharacterLevel-CNN",
      "provenance": [],
      "collapsed_sections": []
    },
    "kernelspec": {
      "name": "python3",
      "display_name": "Python 3"
    }
  },
  "cells": [
    {
      "cell_type": "markdown",
      "metadata": {
        "id": "gvmTLbfe0xlX"
      },
      "source": [
        "# 概要\r\n",
        "\r\n",
        "Character-LevelのCNNでWAFを作る。  \r\n",
        "論文の内容をKerasで実装してみる。  \r\n",
        "原著論文はこちら http://iyatomi-lab.info/sites/default/files/user/CSPA2018%20Proceedings_ito.pdf \r\n"
      ]
    },
    {
      "cell_type": "markdown",
      "metadata": {
        "id": "B1dsexYs1IqJ"
      },
      "source": [
        "## データの準備"
      ]
    },
    {
      "cell_type": "code",
      "metadata": {
        "id": "-s-l1JL-3hJp"
      },
      "source": [
        "import numpy as np\r\n",
        "import pandas as pd\r\n",
        "import matplotlib.pyplot as plt\r\n",
        "from sklearn.model_selection import train_test_split\r\n",
        "\r\n",
        "import tensorflow as tf\r\n",
        "import keras\r\n",
        "from keras.models import Sequential, Model\r\n",
        "from keras.layers import Input, Embedding\r\n",
        "from keras.layers import Dense, Dropout, Flatten\r\n",
        "from keras.layers import Conv1D, MaxPool1D\r\n",
        "from keras.layers import Add, Reshape, normalization, Concatenate\r\n",
        "from keras.utils import plot_model, to_categorical\r\n",
        "from keras.preprocessing import sequence\r\n",
        "from keras.preprocessing.text import Tokenizer\r\n",
        "from keras import backend as K"
      ],
      "execution_count": 122,
      "outputs": []
    },
    {
      "cell_type": "code",
      "metadata": {
        "colab": {
          "base_uri": "https://localhost:8080/"
        },
        "id": "yIJK0lixnQNM",
        "outputId": "6eec8f1c-4311-4a14-9e3b-0a7e5229dc08"
      },
      "source": [
        "%cd /content/drive/MyDrive/WAffle/\r\n",
        "!ls -al"
      ],
      "execution_count": 6,
      "outputs": [
        {
          "output_type": "stream",
          "text": [
            "/content/drive/MyDrive/WAffle\n",
            "total 41\n",
            "-rw------- 1 root root   151 Dec 18 14:37 2020-12-18.gslides\n",
            "-rw------- 1 root root 28393 Dec 31 04:36 CharacterLevel-CNN\n",
            "drwx------ 2 root root  4096 Dec 27 18:45 Dataset\n",
            "drwx------ 2 root root  4096 Dec 27 13:42 KerasPractice\n",
            "drwx------ 2 root root  4096 Dec 30 12:35 model_dir\n",
            "-rw------- 1 root root   151 Oct 26 12:09 WAF_Overview_補足資料.gslides\n"
          ],
          "name": "stdout"
        }
      ]
    },
    {
      "cell_type": "code",
      "metadata": {
        "id": "XZqaE3AznsXR"
      },
      "source": [
        "df = pd.read_csv('Dataset/cisc_database/csic_database.csv')"
      ],
      "execution_count": 220,
      "outputs": []
    },
    {
      "cell_type": "code",
      "metadata": {
        "id": "KKg3lQiIXNiE"
      },
      "source": [
        "df = df.rename(columns={'Unnamed: 0':'Target'})"
      ],
      "execution_count": 221,
      "outputs": []
    },
    {
      "cell_type": "code",
      "metadata": {
        "colab": {
          "base_uri": "https://localhost:8080/",
          "height": 484
        },
        "id": "0eveT8z_hP3Q",
        "outputId": "da482512-9920-47e1-bb4d-db3344f21112"
      },
      "source": [
        "# Targetカラムの変更。\r\n",
        "# if (df['Target'] == Normal){0} else {1}\r\n",
        "\r\n",
        "df['Target'] = df['Target'].apply(lambda x:0 if str(x) == 'Normal' else 1)\r\n",
        "df.head()"
      ],
      "execution_count": 222,
      "outputs": [
        {
          "output_type": "execute_result",
          "data": {
            "text/html": [
              "<div>\n",
              "<style scoped>\n",
              "    .dataframe tbody tr th:only-of-type {\n",
              "        vertical-align: middle;\n",
              "    }\n",
              "\n",
              "    .dataframe tbody tr th {\n",
              "        vertical-align: top;\n",
              "    }\n",
              "\n",
              "    .dataframe thead th {\n",
              "        text-align: right;\n",
              "    }\n",
              "</style>\n",
              "<table border=\"1\" class=\"dataframe\">\n",
              "  <thead>\n",
              "    <tr style=\"text-align: right;\">\n",
              "      <th></th>\n",
              "      <th>Target</th>\n",
              "      <th>Method</th>\n",
              "      <th>User-Agent</th>\n",
              "      <th>Pragma</th>\n",
              "      <th>Cache-Control</th>\n",
              "      <th>Accept</th>\n",
              "      <th>Accept-encoding</th>\n",
              "      <th>Accept-charset</th>\n",
              "      <th>language</th>\n",
              "      <th>host</th>\n",
              "      <th>cookie</th>\n",
              "      <th>content-type</th>\n",
              "      <th>connection</th>\n",
              "      <th>lenght</th>\n",
              "      <th>content</th>\n",
              "      <th>classification</th>\n",
              "      <th>URL</th>\n",
              "    </tr>\n",
              "  </thead>\n",
              "  <tbody>\n",
              "    <tr>\n",
              "      <th>0</th>\n",
              "      <td>0</td>\n",
              "      <td>GET</td>\n",
              "      <td>Mozilla/5.0 (compatible; Konqueror/3.5; Linux)...</td>\n",
              "      <td>no-cache</td>\n",
              "      <td>no-cache</td>\n",
              "      <td>text/xml,application/xml,application/xhtml+xml...</td>\n",
              "      <td>x-gzip, x-deflate, gzip, deflate</td>\n",
              "      <td>utf-8, utf-8;q=0.5, *;q=0.5</td>\n",
              "      <td>en</td>\n",
              "      <td>localhost:8080</td>\n",
              "      <td>JSESSIONID=1F767F17239C9B670A39E9B10C3825F4</td>\n",
              "      <td>NaN</td>\n",
              "      <td>close</td>\n",
              "      <td>NaN</td>\n",
              "      <td>NaN</td>\n",
              "      <td>0</td>\n",
              "      <td>http://localhost:8080/tienda1/index.jsp HTTP/1.1</td>\n",
              "    </tr>\n",
              "    <tr>\n",
              "      <th>1</th>\n",
              "      <td>0</td>\n",
              "      <td>GET</td>\n",
              "      <td>Mozilla/5.0 (compatible; Konqueror/3.5; Linux)...</td>\n",
              "      <td>no-cache</td>\n",
              "      <td>no-cache</td>\n",
              "      <td>text/xml,application/xml,application/xhtml+xml...</td>\n",
              "      <td>x-gzip, x-deflate, gzip, deflate</td>\n",
              "      <td>utf-8, utf-8;q=0.5, *;q=0.5</td>\n",
              "      <td>en</td>\n",
              "      <td>localhost:8080</td>\n",
              "      <td>JSESSIONID=81761ACA043B0E6014CA42A4BCD06AB5</td>\n",
              "      <td>NaN</td>\n",
              "      <td>close</td>\n",
              "      <td>NaN</td>\n",
              "      <td>NaN</td>\n",
              "      <td>0</td>\n",
              "      <td>http://localhost:8080/tienda1/publico/anadir.j...</td>\n",
              "    </tr>\n",
              "    <tr>\n",
              "      <th>2</th>\n",
              "      <td>0</td>\n",
              "      <td>POST</td>\n",
              "      <td>Mozilla/5.0 (compatible; Konqueror/3.5; Linux)...</td>\n",
              "      <td>no-cache</td>\n",
              "      <td>no-cache</td>\n",
              "      <td>text/xml,application/xml,application/xhtml+xml...</td>\n",
              "      <td>x-gzip, x-deflate, gzip, deflate</td>\n",
              "      <td>utf-8, utf-8;q=0.5, *;q=0.5</td>\n",
              "      <td>en</td>\n",
              "      <td>localhost:8080</td>\n",
              "      <td>JSESSIONID=933185092E0B668B90676E0A2B0767AF</td>\n",
              "      <td>application/x-www-form-urlencoded</td>\n",
              "      <td>Connection: close</td>\n",
              "      <td>Content-Length: 68</td>\n",
              "      <td>id=3&amp;nombre=Vino+Rioja&amp;precio=100&amp;cantidad=55&amp;...</td>\n",
              "      <td>0</td>\n",
              "      <td>http://localhost:8080/tienda1/publico/anadir.j...</td>\n",
              "    </tr>\n",
              "    <tr>\n",
              "      <th>3</th>\n",
              "      <td>0</td>\n",
              "      <td>GET</td>\n",
              "      <td>Mozilla/5.0 (compatible; Konqueror/3.5; Linux)...</td>\n",
              "      <td>no-cache</td>\n",
              "      <td>no-cache</td>\n",
              "      <td>text/xml,application/xml,application/xhtml+xml...</td>\n",
              "      <td>x-gzip, x-deflate, gzip, deflate</td>\n",
              "      <td>utf-8, utf-8;q=0.5, *;q=0.5</td>\n",
              "      <td>en</td>\n",
              "      <td>localhost:8080</td>\n",
              "      <td>JSESSIONID=8FA18BA82C5336D03D3A8AFA3E68CBB0</td>\n",
              "      <td>NaN</td>\n",
              "      <td>close</td>\n",
              "      <td>NaN</td>\n",
              "      <td>NaN</td>\n",
              "      <td>0</td>\n",
              "      <td>http://localhost:8080/tienda1/publico/autentic...</td>\n",
              "    </tr>\n",
              "    <tr>\n",
              "      <th>4</th>\n",
              "      <td>0</td>\n",
              "      <td>POST</td>\n",
              "      <td>Mozilla/5.0 (compatible; Konqueror/3.5; Linux)...</td>\n",
              "      <td>no-cache</td>\n",
              "      <td>no-cache</td>\n",
              "      <td>text/xml,application/xml,application/xhtml+xml...</td>\n",
              "      <td>x-gzip, x-deflate, gzip, deflate</td>\n",
              "      <td>utf-8, utf-8;q=0.5, *;q=0.5</td>\n",
              "      <td>en</td>\n",
              "      <td>localhost:8080</td>\n",
              "      <td>JSESSIONID=7104E6C68A6BCF1423DAE990CE49FEE2</td>\n",
              "      <td>application/x-www-form-urlencoded</td>\n",
              "      <td>Connection: close</td>\n",
              "      <td>Content-Length: 63</td>\n",
              "      <td>modo=entrar&amp;login=choong&amp;pwd=d1se3ci%F3n&amp;remem...</td>\n",
              "      <td>0</td>\n",
              "      <td>http://localhost:8080/tienda1/publico/autentic...</td>\n",
              "    </tr>\n",
              "  </tbody>\n",
              "</table>\n",
              "</div>"
            ],
            "text/plain": [
              "   Target  ...                                                URL\n",
              "0       0  ...   http://localhost:8080/tienda1/index.jsp HTTP/1.1\n",
              "1       0  ...  http://localhost:8080/tienda1/publico/anadir.j...\n",
              "2       0  ...  http://localhost:8080/tienda1/publico/anadir.j...\n",
              "3       0  ...  http://localhost:8080/tienda1/publico/autentic...\n",
              "4       0  ...  http://localhost:8080/tienda1/publico/autentic...\n",
              "\n",
              "[5 rows x 17 columns]"
            ]
          },
          "metadata": {
            "tags": []
          },
          "execution_count": 222
        }
      ]
    },
    {
      "cell_type": "markdown",
      "metadata": {
        "id": "mRoU-S2whGo-"
      },
      "source": [
        "### 前処理\r\n",
        "\r\n",
        "目標: 'Target', 'URL'のみをInputとして与える。\r\n"
      ]
    },
    {
      "cell_type": "code",
      "metadata": {
        "id": "7PGGa_YuorGC"
      },
      "source": [
        "X, y = df.iloc[:, 16].values, df.iloc[:, 0].values"
      ],
      "execution_count": 223,
      "outputs": []
    },
    {
      "cell_type": "code",
      "metadata": {
        "id": "uIljM80HxGj5"
      },
      "source": [
        "X_train, X_test,y_train, y_test = train_test_split(X, y, train_size=0.8, test_size=0.2, random_state=42)"
      ],
      "execution_count": 224,
      "outputs": []
    },
    {
      "cell_type": "code",
      "metadata": {
        "colab": {
          "base_uri": "https://localhost:8080/"
        },
        "id": "RQUrwXAdy-2L",
        "outputId": "e57db37e-124c-4a9d-ac09-fc884698d773"
      },
      "source": [
        "print('X_train shape', X_train.shape)\r\n",
        "print('y_train shape', y_train.shape)\r\n",
        "print('X_test shape', X_test.shape)\r\n",
        "print('y_test shape', y_test.shape)"
      ],
      "execution_count": 225,
      "outputs": [
        {
          "output_type": "stream",
          "text": [
            "x_train shape (48852,)\n",
            "y_train shape (48852,)\n",
            "x_test shape (12213,)\n",
            "y_test shape (12213,)\n"
          ],
          "name": "stdout"
        }
      ]
    },
    {
      "cell_type": "code",
      "metadata": {
        "id": "lKJwlOurzv04"
      },
      "source": [
        "# convert string to lower case\r\n",
        "# 後回し\r\n",
        "\r\n",
        "#X_train = [s.lower() for s in X_train]\r\n",
        "#X_test = [s.lower() for s in X_test]"
      ],
      "execution_count": 209,
      "outputs": []
    },
    {
      "cell_type": "code",
      "metadata": {
        "id": "g8umr80Y6LFX"
      },
      "source": [
        "# convert string to index\r\n",
        "alphabet = \"abcdefghijklmnopqrstuvwxyz0123456789,;.!?:'\\\"/\\\\|_@#$%^&*~`+-=<>()[]{}\"\r\n",
        "char_dict = {}\r\n",
        "for i, char in enumerate(alphabet):\r\n",
        "    char_dict[char] = i + 1\r\n",
        "string_size = len(alphabet)"
      ],
      "execution_count": 211,
      "outputs": []
    },
    {
      "cell_type": "code",
      "metadata": {
        "id": "3GX_AqIP2UNr"
      },
      "source": [
        "# Tokenizer\r\n",
        "tk = Tokenizer(num_words=None, char_level=True, oov_token='UNK')\r\n",
        "tk.fit_on_texts(train_texts)"
      ],
      "execution_count": 131,
      "outputs": []
    },
    {
      "cell_type": "code",
      "metadata": {
        "colab": {
          "base_uri": "https://localhost:8080/"
        },
        "id": "xDT9vGyBitga",
        "outputId": "ff0edf03-d5e3-40fd-e781-72546a66e3a9"
      },
      "source": [
        "print(X_train)"
      ],
      "execution_count": 226,
      "outputs": [
        {
          "output_type": "stream",
          "text": [
            "['http://localhost:8080/tienda1/publico/entrar.jsp HTTP/1.1'\n",
            " 'http://localhost:8080/tienda1/publico/productos.jsp HTTP/1.1'\n",
            " 'http://localhost:8080/tienda1/miembros/editar.jsp HTTP/1.1' ...\n",
            " 'http://localhost:8080/tienda1/imagenes/3.gif HTTP/1.1'\n",
            " 'http://localhost:8080/tienda1/miembros/editar.jsp HTTP/1.1'\n",
            " 'http://localhost:8080/tienda1/publico/autenticar.jsp?modo=entrar&login=whey-min&pwd=r.apaz&remember=on%2F&B1=Entrar HTTP/1.1']\n"
          ],
          "name": "stdout"
        }
      ]
    },
    {
      "cell_type": "code",
      "metadata": {
        "id": "01nXV_p_zTis"
      },
      "source": [
        "# Use char_dict to replace the tk.word_index\r\n",
        "tk.word_index = char_dict.copy()\r\n",
        "# Add 'UNK' to the vocabulary\r\n",
        "tk.word_index[tk.oov_token] = max(char_dict.values()) + 1\r\n",
        "\r\n",
        "# Convert string to index\r\n",
        "X_train_sequences = tk.texts_to_sequences(X_train)\r\n",
        "X_test_texts = tk.texts_to_sequences(X_test)"
      ],
      "execution_count": 230,
      "outputs": []
    },
    {
      "cell_type": "code",
      "metadata": {
        "id": "AQITbEGUzyi_"
      },
      "source": [
        "# Padding\r\n",
        "X_train_data = sequence.pad_sequences(X_train_sequences, maxlen=1000, padding='post')\r\n",
        "X_test_data = sequence.pad_sequences(X_test_texts, maxlen=1000, padding='post')\r\n",
        "\r\n",
        "# Convert to numpy array\r\n",
        "X_train_data = np.array(X_train_data, dtype='float32')\r\n",
        "X_test_data = np.array(X_test_data, dtype='float32')"
      ],
      "execution_count": 232,
      "outputs": []
    },
    {
      "cell_type": "markdown",
      "metadata": {
        "id": "P77ahKXc0lo9"
      },
      "source": [
        "## アーキテクチャ\r\n",
        "\r\n",
        "1. Input(1000 characters)\r\n",
        "2. Embedding(128demensions)\r\n",
        "3. Conv(kernelsize = K, filter_num = 64) -> RELU\r\n",
        "4. Max Pooling(kernelsize = K)\r\n",
        "5. Conv(kernelsize = K, filter_num = 64) -> RELU\r\n",
        "6. Max Pooling(kernel_size = size of Conv 5's output)\r\n",
        "7. concat output & reshape into 256 length vector\r\n",
        "8. FCN(64 units) -> RELU\r\n",
        "9. Batch normalize\r\n",
        "10. Dropout(0.5)\r\n",
        "11. FCN(1 unit) -> Sigmoid\r\n",
        "\r\n",
        "(categorical_crossentropy)"
      ]
    },
    {
      "cell_type": "code",
      "metadata": {
        "id": "4TtNzm-iu9re"
      },
      "source": [
        "#いつか使う URL decode\r\n",
        "import urllib.parse\r\n",
        "def url_decode(encoded_URL):\r\n",
        "  return urllib.parse.unquote(encoded_URL)"
      ],
      "execution_count": 13,
      "outputs": []
    },
    {
      "cell_type": "code",
      "metadata": {
        "id": "CVK2iZ7WV8BL"
      },
      "source": [
        "# config\r\n",
        "input_max_size = 1000\r\n",
        "embedding_size = 128\r\n",
        "conv_layers = 4\r\n",
        "kernel_sizes = [4,5,6,7]\r\n",
        "filter_num = 64\r\n",
        "fully_connected_layers = [64,64]\r\n",
        "num_of_classes = 2\r\n",
        "dropout = 0.5\r\n",
        "optimizer = 'adam'\r\n",
        "loss = 'categorical_crossentropy'"
      ],
      "execution_count": 15,
      "outputs": []
    },
    {
      "cell_type": "code",
      "metadata": {
        "id": "pvMDGXFVJrXP"
      },
      "source": [
        "def create_model(input_max_size, embedding_size, filter_num, fully_connected_layers):\r\n",
        "  # Input Layer\r\n",
        "  # URLdecodeされた文字列をInputとして与える。\r\n",
        "  inputs = Input(shape=(input_max_size,), name='decoded_URL_input', dtype='int64')\r\n",
        "\r\n",
        "  # Embedding Layer\r\n",
        "  x = Embedding(string_size +1, embedding_size, input_length=input_max_size, name='Embedding')(inputs)\r\n",
        "  x = Reshape((input_max_size, embedding_size), name='Reshape_into_128_legnth_vector')(x)\r\n",
        "\r\n",
        "  # Convolution Layers\r\n",
        "  convolution_output = []\r\n",
        "\r\n",
        "  conv1_1 = Conv1D(filter_num, 4, activation='relu', padding='same', name='Convolution_1_1')(x)\r\n",
        "  pool1_1 = MaxPool1D(pool_size=4, padding='same', name='MaxPooling_1_1')(conv1_1)\r\n",
        "  conv1_2 = Conv1D(filter_num,4, activation='relu', padding='same', name='Convolution_1_2')(pool1_1)\r\n",
        "  pool1_2 = MaxPool1D(padding='same', name='MaxPooling_1_2')(conv1_2)\r\n",
        "  convolution_output.append(pool1_2)\r\n",
        "\r\n",
        "  conv2_1 = Conv1D(filter_num,5, activation='relu', padding='same', name='Convolution_2_1')(x)\r\n",
        "  pool2_1 = MaxPool1D(pool_size=5, padding='same', name='MaxPooling_2_1')(conv2_1)\r\n",
        "  conv2_2 = Conv1D(filter_num,5, activation='relu', padding='same', name='Convolution_2_2')(pool2_1)\r\n",
        "  pool2_2 = MaxPool1D(padding='same', name='MaxPooling_2_2')(conv2_2)\r\n",
        "  convolution_output.append(pool2_2)\r\n",
        "\r\n",
        "  conv3_1 = Conv1D(filter_num, 6, activation='relu', padding='same', name='Convolution_3_1')(x)\r\n",
        "  pool3_1 = MaxPool1D(pool_size=6, padding='same', name='MaxPooling_3_1')(conv3_1)\r\n",
        "  conv3_2 = Conv1D(filter_num, 6, activation='relu', padding='same', name='Convolution_3_2')(pool3_1)\r\n",
        "  pool3_2 = MaxPool1D(padding='same', name='MaxPooling_3_2')(conv3_2)\r\n",
        "  convolution_output.append(pool3_2)\r\n",
        "\r\n",
        "  conv4_1 = Conv1D(filter_num,7, activation='relu', padding='same', name='Convolution_4_1')(x)\r\n",
        "  pool4_1 = MaxPool1D(pool_size=7, padding='same', name='MaxPooling_4_1')(conv4_1)\r\n",
        "  conv4_2 = Conv1D(filter_num, 7, activation='relu', padding='same', name='Convolution_4_2')(pool4_1)\r\n",
        "  pool4_2 = MaxPool1D(padding='same', name='MaxPooling_4_2')(conv4_2)\r\n",
        "  convolution_output.append(pool4_2)\r\n",
        "\r\n",
        "  # concat output\r\n",
        "  x = Concatenate(axis=-2, name='Concat_the_outputs')(convolution_output)\r\n",
        "\r\n",
        "  # reshape into 256 length vector\r\n",
        "  x = Dense(256, name='Reshape_into_256_legnth_vector')(x)\r\n",
        "\r\n",
        "  # Fully Connected Layers\r\n",
        "  # x = Flatten()(x)\r\n",
        "  x = Dense(64, activation='relu', name='FCN')(x)\r\n",
        "\r\n",
        "  # Batch Normalization\r\n",
        "  x = normalization.BatchNormalization(name='Batch_Normalization')(x)\r\n",
        "\r\n",
        "  # DropOut\r\n",
        "  x = Dropout(dropout, name='Dropout')(x)\r\n",
        "\r\n",
        "  # Fully Connected Layers\r\n",
        "  predictions = Dense(1, activation='softmax', name='prediction')(x)\r\n",
        "\r\n",
        "  model = Model(inputs=inputs, outputs=predictions)\r\n",
        "  #plot_model(model, to_file='model.png', show_shapes=True, show_layer_names=True)\r\n",
        "  \r\n",
        "  return model"
      ],
      "execution_count": 92,
      "outputs": []
    },
    {
      "cell_type": "code",
      "metadata": {
        "id": "8o3_Pvv_vK3o"
      },
      "source": [
        "# Input Layer\r\n",
        "# URLdecodeされた文字列をInputとして与える。\r\n",
        "inputs = Input(shape=(input_max_size,), name='decoded_URL_input', dtype='int64')\r\n",
        "\r\n",
        "# Embedding Layer\r\n",
        "x = Embedding(string_size +1, embedding_size, input_length=input_max_size, name='Embedding')(inputs)\r\n",
        "x = Reshape((input_max_size, embedding_size), name='Reshape_into_128_legnth_vector')(x)\r\n",
        "\r\n",
        "# Convolution Layers\r\n",
        "convolution_output = []\r\n",
        "\r\n",
        "conv1_1 = Conv1D(filter_num, 4, activation='relu', padding='same', name='Convolution_1_1')(x)\r\n",
        "pool1_1 = MaxPool1D(pool_size=4, padding='same', name='MaxPooling_1_1')(conv1_1)\r\n",
        "conv1_2 = Conv1D(filter_num,4, activation='relu', padding='same', name='Convolution_1_2')(pool1_1)\r\n",
        "pool1_2 = MaxPool1D(padding='same', name='MaxPooling_1_2')(conv1_2)\r\n",
        "convolution_output.append(pool1_2)\r\n",
        "\r\n",
        "conv2_1 = Conv1D(filter_num,5, activation='relu', padding='same', name='Convolution_2_1')(x)\r\n",
        "pool2_1 = MaxPool1D(pool_size=5, padding='same', name='MaxPooling_2_1')(conv2_1)\r\n",
        "conv2_2 = Conv1D(filter_num,5, activation='relu', padding='same', name='Convolution_2_2')(pool2_1)\r\n",
        "pool2_2 = MaxPool1D(padding='same', name='MaxPooling_2_2')(conv2_2)\r\n",
        "convolution_output.append(pool2_2)\r\n",
        "\r\n",
        "conv3_1 = Conv1D(filter_num, 6, activation='relu', padding='same', name='Convolution_3_1')(x)\r\n",
        "pool3_1 = MaxPool1D(pool_size=6, padding='same', name='MaxPooling_3_1')(conv3_1)\r\n",
        "conv3_2 = Conv1D(filter_num, 6, activation='relu', padding='same', name='Convolution_3_2')(pool3_1)\r\n",
        "pool3_2 = MaxPool1D(padding='same', name='MaxPooling_3_2')(conv3_2)\r\n",
        "convolution_output.append(pool3_2)\r\n",
        "\r\n",
        "conv4_1 = Conv1D(filter_num,7, activation='relu', padding='same', name='Convolution_4_1')(x)\r\n",
        "pool4_1 = MaxPool1D(pool_size=7, padding='same', name='MaxPooling_4_1')(conv4_1)\r\n",
        "conv4_2 = Conv1D(filter_num, 7, activation='relu', padding='same', name='Convolution_4_2')(pool4_1)\r\n",
        "pool4_2 = MaxPool1D(padding='same', name='MaxPooling_4_2')(conv4_2)\r\n",
        "convolution_output.append(pool4_2)\r\n",
        "\r\n",
        "# concat output\r\n",
        "x = Concatenate(axis=-2, name='Concat_the_outputs')(convolution_output)\r\n",
        "\r\n",
        "# reshape into 256 length vector\r\n",
        "x = Dense(256, name='Reshape_into_256_legnth_vector')(x)\r\n",
        "\r\n",
        "# Fully Connected Layers\r\n",
        "# x = Flatten()(x)\r\n",
        "x = Dense(64, activation='relu', name='FCN')(x)\r\n",
        "\r\n",
        "# Batch Normalization\r\n",
        "x = normalization.BatchNormalization(name='Batch_Normalization')(x)\r\n",
        "\r\n",
        "# DropOut\r\n",
        "x = Dropout(dropout, name='Dropout')(x)\r\n",
        "\r\n",
        "# Fully Connected Layers\r\n",
        "predictions = Dense(1, activation='softmax', name='prediction')(x)\r\n",
        "\r\n",
        "model = Model(inputs=inputs, outputs=predictions)\r\n",
        "#plot_model(model, to_file='model.png', show_shapes=True, show_layer_names=True)"
      ],
      "execution_count": 162,
      "outputs": []
    },
    {
      "cell_type": "code",
      "metadata": {
        "colab": {
          "base_uri": "https://localhost:8080/"
        },
        "id": "Z4-3pebiYWKn",
        "outputId": "5e980aec-9d54-4ad4-a04a-4219d9a899f5"
      },
      "source": [
        "model.summary()"
      ],
      "execution_count": 163,
      "outputs": [
        {
          "output_type": "stream",
          "text": [
            "Model: \"model_7\"\n",
            "__________________________________________________________________________________________________\n",
            "Layer (type)                    Output Shape         Param #     Connected to                     \n",
            "==================================================================================================\n",
            "decoded_URL_input (InputLayer)  [(None, 1000)]       0                                            \n",
            "__________________________________________________________________________________________________\n",
            "Embedding (Embedding)           (None, 1000, 128)    8832        decoded_URL_input[0][0]          \n",
            "__________________________________________________________________________________________________\n",
            "Reshape_into_128_legnth_vector  (None, 1000, 128)    0           Embedding[0][0]                  \n",
            "__________________________________________________________________________________________________\n",
            "Convolution_1_1 (Conv1D)        (None, 1000, 64)     32832       Reshape_into_128_legnth_vector[0]\n",
            "__________________________________________________________________________________________________\n",
            "Convolution_2_1 (Conv1D)        (None, 1000, 64)     41024       Reshape_into_128_legnth_vector[0]\n",
            "__________________________________________________________________________________________________\n",
            "Convolution_3_1 (Conv1D)        (None, 1000, 64)     49216       Reshape_into_128_legnth_vector[0]\n",
            "__________________________________________________________________________________________________\n",
            "Convolution_4_1 (Conv1D)        (None, 1000, 64)     57408       Reshape_into_128_legnth_vector[0]\n",
            "__________________________________________________________________________________________________\n",
            "MaxPooling_1_1 (MaxPooling1D)   (None, 250, 64)      0           Convolution_1_1[0][0]            \n",
            "__________________________________________________________________________________________________\n",
            "MaxPooling_2_1 (MaxPooling1D)   (None, 200, 64)      0           Convolution_2_1[0][0]            \n",
            "__________________________________________________________________________________________________\n",
            "MaxPooling_3_1 (MaxPooling1D)   (None, 167, 64)      0           Convolution_3_1[0][0]            \n",
            "__________________________________________________________________________________________________\n",
            "MaxPooling_4_1 (MaxPooling1D)   (None, 143, 64)      0           Convolution_4_1[0][0]            \n",
            "__________________________________________________________________________________________________\n",
            "Convolution_1_2 (Conv1D)        (None, 250, 64)      16448       MaxPooling_1_1[0][0]             \n",
            "__________________________________________________________________________________________________\n",
            "Convolution_2_2 (Conv1D)        (None, 200, 64)      20544       MaxPooling_2_1[0][0]             \n",
            "__________________________________________________________________________________________________\n",
            "Convolution_3_2 (Conv1D)        (None, 167, 64)      24640       MaxPooling_3_1[0][0]             \n",
            "__________________________________________________________________________________________________\n",
            "Convolution_4_2 (Conv1D)        (None, 143, 64)      28736       MaxPooling_4_1[0][0]             \n",
            "__________________________________________________________________________________________________\n",
            "MaxPooling_1_2 (MaxPooling1D)   (None, 125, 64)      0           Convolution_1_2[0][0]            \n",
            "__________________________________________________________________________________________________\n",
            "MaxPooling_2_2 (MaxPooling1D)   (None, 100, 64)      0           Convolution_2_2[0][0]            \n",
            "__________________________________________________________________________________________________\n",
            "MaxPooling_3_2 (MaxPooling1D)   (None, 84, 64)       0           Convolution_3_2[0][0]            \n",
            "__________________________________________________________________________________________________\n",
            "MaxPooling_4_2 (MaxPooling1D)   (None, 72, 64)       0           Convolution_4_2[0][0]            \n",
            "__________________________________________________________________________________________________\n",
            "Concat_the_outputs (Concatenate (None, 381, 64)      0           MaxPooling_1_2[0][0]             \n",
            "                                                                 MaxPooling_2_2[0][0]             \n",
            "                                                                 MaxPooling_3_2[0][0]             \n",
            "                                                                 MaxPooling_4_2[0][0]             \n",
            "__________________________________________________________________________________________________\n",
            "Reshape_into_256_legnth_vector  (None, 381, 256)     16640       Concat_the_outputs[0][0]         \n",
            "__________________________________________________________________________________________________\n",
            "FCN (Dense)                     (None, 381, 64)      16448       Reshape_into_256_legnth_vector[0]\n",
            "__________________________________________________________________________________________________\n",
            "Batch_Normalization (BatchNorma (None, 381, 64)      256         FCN[0][0]                        \n",
            "__________________________________________________________________________________________________\n",
            "Dropout (Dropout)               (None, 381, 64)      0           Batch_Normalization[0][0]        \n",
            "__________________________________________________________________________________________________\n",
            "prediction (Dense)              (None, 381, 1)       65          Dropout[0][0]                    \n",
            "==================================================================================================\n",
            "Total params: 313,089\n",
            "Trainable params: 312,961\n",
            "Non-trainable params: 128\n",
            "__________________________________________________________________________________________________\n"
          ],
          "name": "stdout"
        }
      ]
    },
    {
      "cell_type": "code",
      "metadata": {
        "id": "nW7CY9uoc-sl"
      },
      "source": [
        "#Model = create_model(input_max_size, embedding_size, filter_num, fully_connected_layers)\r\n",
        "model.compile(loss=loss, optimizer=optimizer, metrics=['accuracy'])"
      ],
      "execution_count": 164,
      "outputs": []
    },
    {
      "cell_type": "code",
      "metadata": {
        "id": "fqFVcqWwfnjv"
      },
      "source": [
        "epochs = 10\r\n",
        "batch_size = 128"
      ],
      "execution_count": 135,
      "outputs": []
    },
    {
      "cell_type": "code",
      "metadata": {
        "colab": {
          "base_uri": "https://localhost:8080/",
          "height": 962
        },
        "id": "DGGQ7GhZ30mD",
        "outputId": "af47561c-3aa9-4c0d-95c9-adaeae54c484"
      },
      "source": [
        "# Training\r\n",
        "model.fit(X_train, y_train,\r\n",
        "          validation_data=(X_test, y_test),\r\n",
        "          batch_size=batch_size,\r\n",
        "          epochs=epochs)"
      ],
      "execution_count": 233,
      "outputs": [
        {
          "output_type": "stream",
          "text": [
            "Epoch 1/10\n",
            "WARNING:tensorflow:Model was constructed with shape (None, 1000) for input KerasTensor(type_spec=TensorSpec(shape=(None, 1000), dtype=tf.int64, name='decoded_URL_input'), name='decoded_URL_input', description=\"created by layer 'decoded_URL_input'\"), but it was called on an input with incompatible shape (None, 1).\n"
          ],
          "name": "stdout"
        },
        {
          "output_type": "error",
          "ename": "ValueError",
          "evalue": "ignored",
          "traceback": [
            "\u001b[0;31m---------------------------------------------------------------------------\u001b[0m",
            "\u001b[0;31mValueError\u001b[0m                                Traceback (most recent call last)",
            "\u001b[0;32m<ipython-input-233-75d4591014b3>\u001b[0m in \u001b[0;36m<module>\u001b[0;34m()\u001b[0m\n\u001b[1;32m      3\u001b[0m           \u001b[0mvalidation_data\u001b[0m\u001b[0;34m=\u001b[0m\u001b[0;34m(\u001b[0m\u001b[0mX_test\u001b[0m\u001b[0;34m,\u001b[0m \u001b[0my_test\u001b[0m\u001b[0;34m)\u001b[0m\u001b[0;34m,\u001b[0m\u001b[0;34m\u001b[0m\u001b[0;34m\u001b[0m\u001b[0m\n\u001b[1;32m      4\u001b[0m           \u001b[0mbatch_size\u001b[0m\u001b[0;34m=\u001b[0m\u001b[0mbatch_size\u001b[0m\u001b[0;34m,\u001b[0m\u001b[0;34m\u001b[0m\u001b[0;34m\u001b[0m\u001b[0m\n\u001b[0;32m----> 5\u001b[0;31m           epochs=epochs)\n\u001b[0m",
            "\u001b[0;32m/usr/local/lib/python3.6/dist-packages/tensorflow/python/keras/engine/training.py\u001b[0m in \u001b[0;36mfit\u001b[0;34m(self, x, y, batch_size, epochs, verbose, callbacks, validation_split, validation_data, shuffle, class_weight, sample_weight, initial_epoch, steps_per_epoch, validation_steps, validation_batch_size, validation_freq, max_queue_size, workers, use_multiprocessing)\u001b[0m\n\u001b[1;32m   1098\u001b[0m                 _r=1):\n\u001b[1;32m   1099\u001b[0m               \u001b[0mcallbacks\u001b[0m\u001b[0;34m.\u001b[0m\u001b[0mon_train_batch_begin\u001b[0m\u001b[0;34m(\u001b[0m\u001b[0mstep\u001b[0m\u001b[0;34m)\u001b[0m\u001b[0;34m\u001b[0m\u001b[0;34m\u001b[0m\u001b[0m\n\u001b[0;32m-> 1100\u001b[0;31m               \u001b[0mtmp_logs\u001b[0m \u001b[0;34m=\u001b[0m \u001b[0mself\u001b[0m\u001b[0;34m.\u001b[0m\u001b[0mtrain_function\u001b[0m\u001b[0;34m(\u001b[0m\u001b[0miterator\u001b[0m\u001b[0;34m)\u001b[0m\u001b[0;34m\u001b[0m\u001b[0;34m\u001b[0m\u001b[0m\n\u001b[0m\u001b[1;32m   1101\u001b[0m               \u001b[0;32mif\u001b[0m \u001b[0mdata_handler\u001b[0m\u001b[0;34m.\u001b[0m\u001b[0mshould_sync\u001b[0m\u001b[0;34m:\u001b[0m\u001b[0;34m\u001b[0m\u001b[0;34m\u001b[0m\u001b[0m\n\u001b[1;32m   1102\u001b[0m                 \u001b[0mcontext\u001b[0m\u001b[0;34m.\u001b[0m\u001b[0masync_wait\u001b[0m\u001b[0;34m(\u001b[0m\u001b[0;34m)\u001b[0m\u001b[0;34m\u001b[0m\u001b[0;34m\u001b[0m\u001b[0m\n",
            "\u001b[0;32m/usr/local/lib/python3.6/dist-packages/tensorflow/python/eager/def_function.py\u001b[0m in \u001b[0;36m__call__\u001b[0;34m(self, *args, **kwds)\u001b[0m\n\u001b[1;32m    826\u001b[0m     \u001b[0mtracing_count\u001b[0m \u001b[0;34m=\u001b[0m \u001b[0mself\u001b[0m\u001b[0;34m.\u001b[0m\u001b[0mexperimental_get_tracing_count\u001b[0m\u001b[0;34m(\u001b[0m\u001b[0;34m)\u001b[0m\u001b[0;34m\u001b[0m\u001b[0;34m\u001b[0m\u001b[0m\n\u001b[1;32m    827\u001b[0m     \u001b[0;32mwith\u001b[0m \u001b[0mtrace\u001b[0m\u001b[0;34m.\u001b[0m\u001b[0mTrace\u001b[0m\u001b[0;34m(\u001b[0m\u001b[0mself\u001b[0m\u001b[0;34m.\u001b[0m\u001b[0m_name\u001b[0m\u001b[0;34m)\u001b[0m \u001b[0;32mas\u001b[0m \u001b[0mtm\u001b[0m\u001b[0;34m:\u001b[0m\u001b[0;34m\u001b[0m\u001b[0;34m\u001b[0m\u001b[0m\n\u001b[0;32m--> 828\u001b[0;31m       \u001b[0mresult\u001b[0m \u001b[0;34m=\u001b[0m \u001b[0mself\u001b[0m\u001b[0;34m.\u001b[0m\u001b[0m_call\u001b[0m\u001b[0;34m(\u001b[0m\u001b[0;34m*\u001b[0m\u001b[0margs\u001b[0m\u001b[0;34m,\u001b[0m \u001b[0;34m**\u001b[0m\u001b[0mkwds\u001b[0m\u001b[0;34m)\u001b[0m\u001b[0;34m\u001b[0m\u001b[0;34m\u001b[0m\u001b[0m\n\u001b[0m\u001b[1;32m    829\u001b[0m       \u001b[0mcompiler\u001b[0m \u001b[0;34m=\u001b[0m \u001b[0;34m\"xla\"\u001b[0m \u001b[0;32mif\u001b[0m \u001b[0mself\u001b[0m\u001b[0;34m.\u001b[0m\u001b[0m_experimental_compile\u001b[0m \u001b[0;32melse\u001b[0m \u001b[0;34m\"nonXla\"\u001b[0m\u001b[0;34m\u001b[0m\u001b[0;34m\u001b[0m\u001b[0m\n\u001b[1;32m    830\u001b[0m       \u001b[0mnew_tracing_count\u001b[0m \u001b[0;34m=\u001b[0m \u001b[0mself\u001b[0m\u001b[0;34m.\u001b[0m\u001b[0mexperimental_get_tracing_count\u001b[0m\u001b[0;34m(\u001b[0m\u001b[0;34m)\u001b[0m\u001b[0;34m\u001b[0m\u001b[0;34m\u001b[0m\u001b[0m\n",
            "\u001b[0;32m/usr/local/lib/python3.6/dist-packages/tensorflow/python/eager/def_function.py\u001b[0m in \u001b[0;36m_call\u001b[0;34m(self, *args, **kwds)\u001b[0m\n\u001b[1;32m    860\u001b[0m       \u001b[0;31m# In this case we have not created variables on the first call. So we can\u001b[0m\u001b[0;34m\u001b[0m\u001b[0;34m\u001b[0m\u001b[0;34m\u001b[0m\u001b[0m\n\u001b[1;32m    861\u001b[0m       \u001b[0;31m# run the first trace but we should fail if variables are created.\u001b[0m\u001b[0;34m\u001b[0m\u001b[0;34m\u001b[0m\u001b[0;34m\u001b[0m\u001b[0m\n\u001b[0;32m--> 862\u001b[0;31m       \u001b[0mresults\u001b[0m \u001b[0;34m=\u001b[0m \u001b[0mself\u001b[0m\u001b[0;34m.\u001b[0m\u001b[0m_stateful_fn\u001b[0m\u001b[0;34m(\u001b[0m\u001b[0;34m*\u001b[0m\u001b[0margs\u001b[0m\u001b[0;34m,\u001b[0m \u001b[0;34m**\u001b[0m\u001b[0mkwds\u001b[0m\u001b[0;34m)\u001b[0m\u001b[0;34m\u001b[0m\u001b[0;34m\u001b[0m\u001b[0m\n\u001b[0m\u001b[1;32m    863\u001b[0m       \u001b[0;32mif\u001b[0m \u001b[0mself\u001b[0m\u001b[0;34m.\u001b[0m\u001b[0m_created_variables\u001b[0m\u001b[0;34m:\u001b[0m\u001b[0;34m\u001b[0m\u001b[0;34m\u001b[0m\u001b[0m\n\u001b[1;32m    864\u001b[0m         raise ValueError(\"Creating variables on a non-first call to a function\"\n",
            "\u001b[0;32m/usr/local/lib/python3.6/dist-packages/tensorflow/python/eager/function.py\u001b[0m in \u001b[0;36m__call__\u001b[0;34m(self, *args, **kwargs)\u001b[0m\n\u001b[1;32m   2939\u001b[0m     \u001b[0;32mwith\u001b[0m \u001b[0mself\u001b[0m\u001b[0;34m.\u001b[0m\u001b[0m_lock\u001b[0m\u001b[0;34m:\u001b[0m\u001b[0;34m\u001b[0m\u001b[0;34m\u001b[0m\u001b[0m\n\u001b[1;32m   2940\u001b[0m       (graph_function,\n\u001b[0;32m-> 2941\u001b[0;31m        filtered_flat_args) = self._maybe_define_function(args, kwargs)\n\u001b[0m\u001b[1;32m   2942\u001b[0m     return graph_function._call_flat(\n\u001b[1;32m   2943\u001b[0m         filtered_flat_args, captured_inputs=graph_function.captured_inputs)  # pylint: disable=protected-access\n",
            "\u001b[0;32m/usr/local/lib/python3.6/dist-packages/tensorflow/python/eager/function.py\u001b[0m in \u001b[0;36m_maybe_define_function\u001b[0;34m(self, args, kwargs)\u001b[0m\n\u001b[1;32m   3356\u001b[0m               call_context_key in self._function_cache.missed):\n\u001b[1;32m   3357\u001b[0m             return self._define_function_with_shape_relaxation(\n\u001b[0;32m-> 3358\u001b[0;31m                 args, kwargs, flat_args, filtered_flat_args, cache_key_context)\n\u001b[0m\u001b[1;32m   3359\u001b[0m \u001b[0;34m\u001b[0m\u001b[0m\n\u001b[1;32m   3360\u001b[0m           \u001b[0mself\u001b[0m\u001b[0;34m.\u001b[0m\u001b[0m_function_cache\u001b[0m\u001b[0;34m.\u001b[0m\u001b[0mmissed\u001b[0m\u001b[0;34m.\u001b[0m\u001b[0madd\u001b[0m\u001b[0;34m(\u001b[0m\u001b[0mcall_context_key\u001b[0m\u001b[0;34m)\u001b[0m\u001b[0;34m\u001b[0m\u001b[0;34m\u001b[0m\u001b[0m\n",
            "\u001b[0;32m/usr/local/lib/python3.6/dist-packages/tensorflow/python/eager/function.py\u001b[0m in \u001b[0;36m_define_function_with_shape_relaxation\u001b[0;34m(self, args, kwargs, flat_args, filtered_flat_args, cache_key_context)\u001b[0m\n\u001b[1;32m   3278\u001b[0m \u001b[0;34m\u001b[0m\u001b[0m\n\u001b[1;32m   3279\u001b[0m     graph_function = self._create_graph_function(\n\u001b[0;32m-> 3280\u001b[0;31m         args, kwargs, override_flat_arg_shapes=relaxed_arg_shapes)\n\u001b[0m\u001b[1;32m   3281\u001b[0m     \u001b[0mself\u001b[0m\u001b[0;34m.\u001b[0m\u001b[0m_function_cache\u001b[0m\u001b[0;34m.\u001b[0m\u001b[0marg_relaxed\u001b[0m\u001b[0;34m[\u001b[0m\u001b[0mrank_only_cache_key\u001b[0m\u001b[0;34m]\u001b[0m \u001b[0;34m=\u001b[0m \u001b[0mgraph_function\u001b[0m\u001b[0;34m\u001b[0m\u001b[0;34m\u001b[0m\u001b[0m\n\u001b[1;32m   3282\u001b[0m \u001b[0;34m\u001b[0m\u001b[0m\n",
            "\u001b[0;32m/usr/local/lib/python3.6/dist-packages/tensorflow/python/eager/function.py\u001b[0m in \u001b[0;36m_create_graph_function\u001b[0;34m(self, args, kwargs, override_flat_arg_shapes)\u001b[0m\n\u001b[1;32m   3204\u001b[0m             \u001b[0marg_names\u001b[0m\u001b[0;34m=\u001b[0m\u001b[0marg_names\u001b[0m\u001b[0;34m,\u001b[0m\u001b[0;34m\u001b[0m\u001b[0;34m\u001b[0m\u001b[0m\n\u001b[1;32m   3205\u001b[0m             \u001b[0moverride_flat_arg_shapes\u001b[0m\u001b[0;34m=\u001b[0m\u001b[0moverride_flat_arg_shapes\u001b[0m\u001b[0;34m,\u001b[0m\u001b[0;34m\u001b[0m\u001b[0;34m\u001b[0m\u001b[0m\n\u001b[0;32m-> 3206\u001b[0;31m             capture_by_value=self._capture_by_value),\n\u001b[0m\u001b[1;32m   3207\u001b[0m         \u001b[0mself\u001b[0m\u001b[0;34m.\u001b[0m\u001b[0m_function_attributes\u001b[0m\u001b[0;34m,\u001b[0m\u001b[0;34m\u001b[0m\u001b[0;34m\u001b[0m\u001b[0m\n\u001b[1;32m   3208\u001b[0m         \u001b[0mfunction_spec\u001b[0m\u001b[0;34m=\u001b[0m\u001b[0mself\u001b[0m\u001b[0;34m.\u001b[0m\u001b[0mfunction_spec\u001b[0m\u001b[0;34m,\u001b[0m\u001b[0;34m\u001b[0m\u001b[0;34m\u001b[0m\u001b[0m\n",
            "\u001b[0;32m/usr/local/lib/python3.6/dist-packages/tensorflow/python/framework/func_graph.py\u001b[0m in \u001b[0;36mfunc_graph_from_py_func\u001b[0;34m(name, python_func, args, kwargs, signature, func_graph, autograph, autograph_options, add_control_dependencies, arg_names, op_return_value, collections, capture_by_value, override_flat_arg_shapes)\u001b[0m\n\u001b[1;32m    988\u001b[0m         \u001b[0m_\u001b[0m\u001b[0;34m,\u001b[0m \u001b[0moriginal_func\u001b[0m \u001b[0;34m=\u001b[0m \u001b[0mtf_decorator\u001b[0m\u001b[0;34m.\u001b[0m\u001b[0munwrap\u001b[0m\u001b[0;34m(\u001b[0m\u001b[0mpython_func\u001b[0m\u001b[0;34m)\u001b[0m\u001b[0;34m\u001b[0m\u001b[0;34m\u001b[0m\u001b[0m\n\u001b[1;32m    989\u001b[0m \u001b[0;34m\u001b[0m\u001b[0m\n\u001b[0;32m--> 990\u001b[0;31m       \u001b[0mfunc_outputs\u001b[0m \u001b[0;34m=\u001b[0m \u001b[0mpython_func\u001b[0m\u001b[0;34m(\u001b[0m\u001b[0;34m*\u001b[0m\u001b[0mfunc_args\u001b[0m\u001b[0;34m,\u001b[0m \u001b[0;34m**\u001b[0m\u001b[0mfunc_kwargs\u001b[0m\u001b[0;34m)\u001b[0m\u001b[0;34m\u001b[0m\u001b[0;34m\u001b[0m\u001b[0m\n\u001b[0m\u001b[1;32m    991\u001b[0m \u001b[0;34m\u001b[0m\u001b[0m\n\u001b[1;32m    992\u001b[0m       \u001b[0;31m# invariant: `func_outputs` contains only Tensors, CompositeTensors,\u001b[0m\u001b[0;34m\u001b[0m\u001b[0;34m\u001b[0m\u001b[0;34m\u001b[0m\u001b[0m\n",
            "\u001b[0;32m/usr/local/lib/python3.6/dist-packages/tensorflow/python/eager/def_function.py\u001b[0m in \u001b[0;36mwrapped_fn\u001b[0;34m(*args, **kwds)\u001b[0m\n\u001b[1;32m    632\u001b[0m             \u001b[0mxla_context\u001b[0m\u001b[0;34m.\u001b[0m\u001b[0mExit\u001b[0m\u001b[0;34m(\u001b[0m\u001b[0;34m)\u001b[0m\u001b[0;34m\u001b[0m\u001b[0;34m\u001b[0m\u001b[0m\n\u001b[1;32m    633\u001b[0m         \u001b[0;32melse\u001b[0m\u001b[0;34m:\u001b[0m\u001b[0;34m\u001b[0m\u001b[0;34m\u001b[0m\u001b[0m\n\u001b[0;32m--> 634\u001b[0;31m           \u001b[0mout\u001b[0m \u001b[0;34m=\u001b[0m \u001b[0mweak_wrapped_fn\u001b[0m\u001b[0;34m(\u001b[0m\u001b[0;34m)\u001b[0m\u001b[0;34m.\u001b[0m\u001b[0m__wrapped__\u001b[0m\u001b[0;34m(\u001b[0m\u001b[0;34m*\u001b[0m\u001b[0margs\u001b[0m\u001b[0;34m,\u001b[0m \u001b[0;34m**\u001b[0m\u001b[0mkwds\u001b[0m\u001b[0;34m)\u001b[0m\u001b[0;34m\u001b[0m\u001b[0;34m\u001b[0m\u001b[0m\n\u001b[0m\u001b[1;32m    635\u001b[0m         \u001b[0;32mreturn\u001b[0m \u001b[0mout\u001b[0m\u001b[0;34m\u001b[0m\u001b[0;34m\u001b[0m\u001b[0m\n\u001b[1;32m    636\u001b[0m \u001b[0;34m\u001b[0m\u001b[0m\n",
            "\u001b[0;32m/usr/local/lib/python3.6/dist-packages/tensorflow/python/framework/func_graph.py\u001b[0m in \u001b[0;36mwrapper\u001b[0;34m(*args, **kwargs)\u001b[0m\n\u001b[1;32m    975\u001b[0m           \u001b[0;32mexcept\u001b[0m \u001b[0mException\u001b[0m \u001b[0;32mas\u001b[0m \u001b[0me\u001b[0m\u001b[0;34m:\u001b[0m  \u001b[0;31m# pylint:disable=broad-except\u001b[0m\u001b[0;34m\u001b[0m\u001b[0;34m\u001b[0m\u001b[0m\n\u001b[1;32m    976\u001b[0m             \u001b[0;32mif\u001b[0m \u001b[0mhasattr\u001b[0m\u001b[0;34m(\u001b[0m\u001b[0me\u001b[0m\u001b[0;34m,\u001b[0m \u001b[0;34m\"ag_error_metadata\"\u001b[0m\u001b[0;34m)\u001b[0m\u001b[0;34m:\u001b[0m\u001b[0;34m\u001b[0m\u001b[0;34m\u001b[0m\u001b[0m\n\u001b[0;32m--> 977\u001b[0;31m               \u001b[0;32mraise\u001b[0m \u001b[0me\u001b[0m\u001b[0;34m.\u001b[0m\u001b[0mag_error_metadata\u001b[0m\u001b[0;34m.\u001b[0m\u001b[0mto_exception\u001b[0m\u001b[0;34m(\u001b[0m\u001b[0me\u001b[0m\u001b[0;34m)\u001b[0m\u001b[0;34m\u001b[0m\u001b[0;34m\u001b[0m\u001b[0m\n\u001b[0m\u001b[1;32m    978\u001b[0m             \u001b[0;32melse\u001b[0m\u001b[0;34m:\u001b[0m\u001b[0;34m\u001b[0m\u001b[0;34m\u001b[0m\u001b[0m\n\u001b[1;32m    979\u001b[0m               \u001b[0;32mraise\u001b[0m\u001b[0;34m\u001b[0m\u001b[0;34m\u001b[0m\u001b[0m\n",
            "\u001b[0;31mValueError\u001b[0m: in user code:\n\n    /usr/local/lib/python3.6/dist-packages/tensorflow/python/keras/engine/training.py:805 train_function  *\n        return step_function(self, iterator)\n    /usr/local/lib/python3.6/dist-packages/tensorflow/python/keras/engine/training.py:795 step_function  **\n        outputs = model.distribute_strategy.run(run_step, args=(data,))\n    /usr/local/lib/python3.6/dist-packages/tensorflow/python/distribute/distribute_lib.py:1259 run\n        return self._extended.call_for_each_replica(fn, args=args, kwargs=kwargs)\n    /usr/local/lib/python3.6/dist-packages/tensorflow/python/distribute/distribute_lib.py:2730 call_for_each_replica\n        return self._call_for_each_replica(fn, args, kwargs)\n    /usr/local/lib/python3.6/dist-packages/tensorflow/python/distribute/distribute_lib.py:3417 _call_for_each_replica\n        return fn(*args, **kwargs)\n    /usr/local/lib/python3.6/dist-packages/tensorflow/python/keras/engine/training.py:788 run_step  **\n        outputs = model.train_step(data)\n    /usr/local/lib/python3.6/dist-packages/tensorflow/python/keras/engine/training.py:754 train_step\n        y_pred = self(x, training=True)\n    /usr/local/lib/python3.6/dist-packages/tensorflow/python/keras/engine/base_layer.py:1012 __call__\n        outputs = call_fn(inputs, *args, **kwargs)\n    /usr/local/lib/python3.6/dist-packages/tensorflow/python/keras/engine/functional.py:425 call\n        inputs, training=training, mask=mask)\n    /usr/local/lib/python3.6/dist-packages/tensorflow/python/keras/engine/functional.py:560 _run_internal_graph\n        outputs = node.layer(*args, **kwargs)\n    /usr/local/lib/python3.6/dist-packages/tensorflow/python/keras/engine/base_layer.py:1012 __call__\n        outputs = call_fn(inputs, *args, **kwargs)\n    /usr/local/lib/python3.6/dist-packages/tensorflow/python/keras/layers/core.py:557 call\n        result.set_shape(self.compute_output_shape(inputs.shape))\n    /usr/local/lib/python3.6/dist-packages/tensorflow/python/keras/layers/core.py:548 compute_output_shape\n        self.target_shape)\n    /usr/local/lib/python3.6/dist-packages/tensorflow/python/keras/layers/core.py:536 _fix_unknown_dimension\n        raise ValueError(msg)\n\n    ValueError: total size of new array must be unchanged, input_shape = [1, 128], output_shape = [1000, 128]\n"
          ]
        }
      ]
    },
    {
      "cell_type": "code",
      "metadata": {
        "colab": {
          "base_uri": "https://localhost:8080/",
          "height": 675
        },
        "id": "yC6cTeNifw1k",
        "outputId": "14eb812b-f1fc-4b68-8662-8915ea9ede73"
      },
      "source": [
        "model.fit(X_train_URL, y_train_URL, epochs=epochs, batch_size=batch_size, validation_data=(X_test_URL, y_test_URL))"
      ],
      "execution_count": 119,
      "outputs": [
        {
          "output_type": "error",
          "ename": "ValueError",
          "evalue": "ignored",
          "traceback": [
            "\u001b[0;31m---------------------------------------------------------------------------\u001b[0m",
            "\u001b[0;31mTypeError\u001b[0m                                 Traceback (most recent call last)",
            "\u001b[0;32m/usr/local/lib/python3.6/dist-packages/tensorflow/python/data/util/structure.py\u001b[0m in \u001b[0;36mnormalize_element\u001b[0;34m(element, element_signature)\u001b[0m\n\u001b[1;32m    105\u001b[0m         \u001b[0;32mif\u001b[0m \u001b[0mspec\u001b[0m \u001b[0;32mis\u001b[0m \u001b[0;32mNone\u001b[0m\u001b[0;34m:\u001b[0m\u001b[0;34m\u001b[0m\u001b[0;34m\u001b[0m\u001b[0m\n\u001b[0;32m--> 106\u001b[0;31m           \u001b[0mspec\u001b[0m \u001b[0;34m=\u001b[0m \u001b[0mtype_spec_from_value\u001b[0m\u001b[0;34m(\u001b[0m\u001b[0mt\u001b[0m\u001b[0;34m,\u001b[0m \u001b[0muse_fallback\u001b[0m\u001b[0;34m=\u001b[0m\u001b[0;32mFalse\u001b[0m\u001b[0;34m)\u001b[0m\u001b[0;34m\u001b[0m\u001b[0;34m\u001b[0m\u001b[0m\n\u001b[0m\u001b[1;32m    107\u001b[0m       \u001b[0;32mexcept\u001b[0m \u001b[0mTypeError\u001b[0m\u001b[0;34m:\u001b[0m\u001b[0;34m\u001b[0m\u001b[0;34m\u001b[0m\u001b[0m\n",
            "\u001b[0;32m/usr/local/lib/python3.6/dist-packages/tensorflow/python/data/util/structure.py\u001b[0m in \u001b[0;36mtype_spec_from_value\u001b[0;34m(element, use_fallback)\u001b[0m\n\u001b[1;32m    479\u001b[0m   raise TypeError(\"Could not build a TypeSpec for %r with type %s\" %\n\u001b[0;32m--> 480\u001b[0;31m                   (element, type(element).__name__))\n\u001b[0m\u001b[1;32m    481\u001b[0m \u001b[0;34m\u001b[0m\u001b[0m\n",
            "\u001b[0;31mTypeError\u001b[0m: Could not build a TypeSpec for        Target                                                URL\n28219       0  http://localhost:8080/tienda1/imagenes/2.gif H...\n39246       1  http://localhost:8080/tienda1/publico/autentic...\n40727       1  http://localhost:8080/tienda1/publico/entrar.j...\n33805       0  http://localhost:8080/tienda1/publico/anadir.j...\n40913       1  http://localhost:8080/tienda1/publico/caracter...\n...       ...                                                ...\n53418       1  http://localhost:8080/tienda1/publico/pagar.js...\n37755       1  http://localhost:8080/tienda1/publico/pagar.js...\n46797       1  http://localhost:8080/tienda1/publico/registro...\n54016       1  http://localhost:8080/IISSamples/sdk/asp/docs/...\n45385       1  http://localhost:8080/tienda1/publico/pagar.js...\n\n[39081 rows x 2 columns] with type DataFrame",
            "\nDuring handling of the above exception, another exception occurred:\n",
            "\u001b[0;31mValueError\u001b[0m                                Traceback (most recent call last)",
            "\u001b[0;32m<ipython-input-119-e5f74dad99e1>\u001b[0m in \u001b[0;36m<module>\u001b[0;34m()\u001b[0m\n\u001b[0;32m----> 1\u001b[0;31m \u001b[0mmodel\u001b[0m\u001b[0;34m.\u001b[0m\u001b[0mfit\u001b[0m\u001b[0;34m(\u001b[0m\u001b[0mX_train_URL\u001b[0m\u001b[0;34m,\u001b[0m \u001b[0my_train_URL\u001b[0m\u001b[0;34m,\u001b[0m \u001b[0mepochs\u001b[0m\u001b[0;34m=\u001b[0m\u001b[0mepochs\u001b[0m\u001b[0;34m,\u001b[0m \u001b[0mbatch_size\u001b[0m\u001b[0;34m=\u001b[0m\u001b[0mbatch_size\u001b[0m\u001b[0;34m,\u001b[0m \u001b[0mvalidation_data\u001b[0m\u001b[0;34m=\u001b[0m\u001b[0;34m(\u001b[0m\u001b[0mX_test_URL\u001b[0m\u001b[0;34m,\u001b[0m \u001b[0my_test_URL\u001b[0m\u001b[0;34m)\u001b[0m\u001b[0;34m)\u001b[0m\u001b[0;34m\u001b[0m\u001b[0;34m\u001b[0m\u001b[0m\n\u001b[0m",
            "\u001b[0;32m/usr/local/lib/python3.6/dist-packages/tensorflow/python/keras/engine/training.py\u001b[0m in \u001b[0;36mfit\u001b[0;34m(self, x, y, batch_size, epochs, verbose, callbacks, validation_split, validation_data, shuffle, class_weight, sample_weight, initial_epoch, steps_per_epoch, validation_steps, validation_batch_size, validation_freq, max_queue_size, workers, use_multiprocessing)\u001b[0m\n\u001b[1;32m   1062\u001b[0m           \u001b[0muse_multiprocessing\u001b[0m\u001b[0;34m=\u001b[0m\u001b[0muse_multiprocessing\u001b[0m\u001b[0;34m,\u001b[0m\u001b[0;34m\u001b[0m\u001b[0;34m\u001b[0m\u001b[0m\n\u001b[1;32m   1063\u001b[0m           \u001b[0mmodel\u001b[0m\u001b[0;34m=\u001b[0m\u001b[0mself\u001b[0m\u001b[0;34m,\u001b[0m\u001b[0;34m\u001b[0m\u001b[0;34m\u001b[0m\u001b[0m\n\u001b[0;32m-> 1064\u001b[0;31m           steps_per_execution=self._steps_per_execution)\n\u001b[0m\u001b[1;32m   1065\u001b[0m \u001b[0;34m\u001b[0m\u001b[0m\n\u001b[1;32m   1066\u001b[0m       \u001b[0;31m# Container that configures and calls `tf.keras.Callback`s.\u001b[0m\u001b[0;34m\u001b[0m\u001b[0;34m\u001b[0m\u001b[0;34m\u001b[0m\u001b[0m\n",
            "\u001b[0;32m/usr/local/lib/python3.6/dist-packages/tensorflow/python/keras/engine/data_adapter.py\u001b[0m in \u001b[0;36m__init__\u001b[0;34m(self, x, y, sample_weight, batch_size, steps_per_epoch, initial_epoch, epochs, shuffle, class_weight, max_queue_size, workers, use_multiprocessing, model, steps_per_execution)\u001b[0m\n\u001b[1;32m   1110\u001b[0m         \u001b[0muse_multiprocessing\u001b[0m\u001b[0;34m=\u001b[0m\u001b[0muse_multiprocessing\u001b[0m\u001b[0;34m,\u001b[0m\u001b[0;34m\u001b[0m\u001b[0;34m\u001b[0m\u001b[0m\n\u001b[1;32m   1111\u001b[0m         \u001b[0mdistribution_strategy\u001b[0m\u001b[0;34m=\u001b[0m\u001b[0mds_context\u001b[0m\u001b[0;34m.\u001b[0m\u001b[0mget_strategy\u001b[0m\u001b[0;34m(\u001b[0m\u001b[0;34m)\u001b[0m\u001b[0;34m,\u001b[0m\u001b[0;34m\u001b[0m\u001b[0;34m\u001b[0m\u001b[0m\n\u001b[0;32m-> 1112\u001b[0;31m         model=model)\n\u001b[0m\u001b[1;32m   1113\u001b[0m \u001b[0;34m\u001b[0m\u001b[0m\n\u001b[1;32m   1114\u001b[0m     \u001b[0mstrategy\u001b[0m \u001b[0;34m=\u001b[0m \u001b[0mds_context\u001b[0m\u001b[0;34m.\u001b[0m\u001b[0mget_strategy\u001b[0m\u001b[0;34m(\u001b[0m\u001b[0;34m)\u001b[0m\u001b[0;34m\u001b[0m\u001b[0;34m\u001b[0m\u001b[0m\n",
            "\u001b[0;32m/usr/local/lib/python3.6/dist-packages/tensorflow/python/keras/engine/data_adapter.py\u001b[0m in \u001b[0;36m__init__\u001b[0;34m(self, x, y, sample_weights, sample_weight_modes, batch_size, epochs, steps, shuffle, **kwargs)\u001b[0m\n\u001b[1;32m    353\u001b[0m     \u001b[0mindices_dataset\u001b[0m \u001b[0;34m=\u001b[0m \u001b[0mindices_dataset\u001b[0m\u001b[0;34m.\u001b[0m\u001b[0mflat_map\u001b[0m\u001b[0;34m(\u001b[0m\u001b[0mslice_batch_indices\u001b[0m\u001b[0;34m)\u001b[0m\u001b[0;34m\u001b[0m\u001b[0;34m\u001b[0m\u001b[0m\n\u001b[1;32m    354\u001b[0m \u001b[0;34m\u001b[0m\u001b[0m\n\u001b[0;32m--> 355\u001b[0;31m     \u001b[0mdataset\u001b[0m \u001b[0;34m=\u001b[0m \u001b[0mself\u001b[0m\u001b[0;34m.\u001b[0m\u001b[0mslice_inputs\u001b[0m\u001b[0;34m(\u001b[0m\u001b[0mindices_dataset\u001b[0m\u001b[0;34m,\u001b[0m \u001b[0minputs\u001b[0m\u001b[0;34m)\u001b[0m\u001b[0;34m\u001b[0m\u001b[0;34m\u001b[0m\u001b[0m\n\u001b[0m\u001b[1;32m    356\u001b[0m \u001b[0;34m\u001b[0m\u001b[0m\n\u001b[1;32m    357\u001b[0m     \u001b[0;32mif\u001b[0m \u001b[0mshuffle\u001b[0m \u001b[0;34m==\u001b[0m \u001b[0;34m\"batch\"\u001b[0m\u001b[0;34m:\u001b[0m\u001b[0;34m\u001b[0m\u001b[0;34m\u001b[0m\u001b[0m\n",
            "\u001b[0;32m/usr/local/lib/python3.6/dist-packages/tensorflow/python/keras/engine/data_adapter.py\u001b[0m in \u001b[0;36mslice_inputs\u001b[0;34m(self, indices_dataset, inputs)\u001b[0m\n\u001b[1;32m    379\u001b[0m     dataset = dataset_ops.DatasetV2.zip((\n\u001b[1;32m    380\u001b[0m         \u001b[0mindices_dataset\u001b[0m\u001b[0;34m,\u001b[0m\u001b[0;34m\u001b[0m\u001b[0;34m\u001b[0m\u001b[0m\n\u001b[0;32m--> 381\u001b[0;31m         \u001b[0mdataset_ops\u001b[0m\u001b[0;34m.\u001b[0m\u001b[0mDatasetV2\u001b[0m\u001b[0;34m.\u001b[0m\u001b[0mfrom_tensors\u001b[0m\u001b[0;34m(\u001b[0m\u001b[0minputs\u001b[0m\u001b[0;34m)\u001b[0m\u001b[0;34m.\u001b[0m\u001b[0mrepeat\u001b[0m\u001b[0;34m(\u001b[0m\u001b[0;34m)\u001b[0m\u001b[0;34m\u001b[0m\u001b[0;34m\u001b[0m\u001b[0m\n\u001b[0m\u001b[1;32m    382\u001b[0m     ))\n\u001b[1;32m    383\u001b[0m \u001b[0;34m\u001b[0m\u001b[0m\n",
            "\u001b[0;32m/usr/local/lib/python3.6/dist-packages/tensorflow/python/data/ops/dataset_ops.py\u001b[0m in \u001b[0;36mfrom_tensors\u001b[0;34m(tensors)\u001b[0m\n\u001b[1;32m    611\u001b[0m       \u001b[0mDataset\u001b[0m\u001b[0;34m:\u001b[0m \u001b[0mA\u001b[0m\u001b[0;31m \u001b[0m\u001b[0;31m`\u001b[0m\u001b[0mDataset\u001b[0m\u001b[0;31m`\u001b[0m\u001b[0;34m.\u001b[0m\u001b[0;34m\u001b[0m\u001b[0;34m\u001b[0m\u001b[0m\n\u001b[1;32m    612\u001b[0m     \"\"\"\n\u001b[0;32m--> 613\u001b[0;31m     \u001b[0;32mreturn\u001b[0m \u001b[0mTensorDataset\u001b[0m\u001b[0;34m(\u001b[0m\u001b[0mtensors\u001b[0m\u001b[0;34m)\u001b[0m\u001b[0;34m\u001b[0m\u001b[0;34m\u001b[0m\u001b[0m\n\u001b[0m\u001b[1;32m    614\u001b[0m \u001b[0;34m\u001b[0m\u001b[0m\n\u001b[1;32m    615\u001b[0m   \u001b[0;34m@\u001b[0m\u001b[0mstaticmethod\u001b[0m\u001b[0;34m\u001b[0m\u001b[0;34m\u001b[0m\u001b[0m\n",
            "\u001b[0;32m/usr/local/lib/python3.6/dist-packages/tensorflow/python/data/ops/dataset_ops.py\u001b[0m in \u001b[0;36m__init__\u001b[0;34m(self, element)\u001b[0m\n\u001b[1;32m   3134\u001b[0m   \u001b[0;32mdef\u001b[0m \u001b[0m__init__\u001b[0m\u001b[0;34m(\u001b[0m\u001b[0mself\u001b[0m\u001b[0;34m,\u001b[0m \u001b[0melement\u001b[0m\u001b[0;34m)\u001b[0m\u001b[0;34m:\u001b[0m\u001b[0;34m\u001b[0m\u001b[0;34m\u001b[0m\u001b[0m\n\u001b[1;32m   3135\u001b[0m     \u001b[0;34m\"\"\"See `Dataset.from_tensors()` for details.\"\"\"\u001b[0m\u001b[0;34m\u001b[0m\u001b[0;34m\u001b[0m\u001b[0m\n\u001b[0;32m-> 3136\u001b[0;31m     \u001b[0melement\u001b[0m \u001b[0;34m=\u001b[0m \u001b[0mstructure\u001b[0m\u001b[0;34m.\u001b[0m\u001b[0mnormalize_element\u001b[0m\u001b[0;34m(\u001b[0m\u001b[0melement\u001b[0m\u001b[0;34m)\u001b[0m\u001b[0;34m\u001b[0m\u001b[0;34m\u001b[0m\u001b[0m\n\u001b[0m\u001b[1;32m   3137\u001b[0m     \u001b[0mself\u001b[0m\u001b[0;34m.\u001b[0m\u001b[0m_structure\u001b[0m \u001b[0;34m=\u001b[0m \u001b[0mstructure\u001b[0m\u001b[0;34m.\u001b[0m\u001b[0mtype_spec_from_value\u001b[0m\u001b[0;34m(\u001b[0m\u001b[0melement\u001b[0m\u001b[0;34m)\u001b[0m\u001b[0;34m\u001b[0m\u001b[0;34m\u001b[0m\u001b[0m\n\u001b[1;32m   3138\u001b[0m     \u001b[0mself\u001b[0m\u001b[0;34m.\u001b[0m\u001b[0m_tensors\u001b[0m \u001b[0;34m=\u001b[0m \u001b[0mstructure\u001b[0m\u001b[0;34m.\u001b[0m\u001b[0mto_tensor_list\u001b[0m\u001b[0;34m(\u001b[0m\u001b[0mself\u001b[0m\u001b[0;34m.\u001b[0m\u001b[0m_structure\u001b[0m\u001b[0;34m,\u001b[0m \u001b[0melement\u001b[0m\u001b[0;34m)\u001b[0m\u001b[0;34m\u001b[0m\u001b[0;34m\u001b[0m\u001b[0m\n",
            "\u001b[0;32m/usr/local/lib/python3.6/dist-packages/tensorflow/python/data/util/structure.py\u001b[0m in \u001b[0;36mnormalize_element\u001b[0;34m(element, element_signature)\u001b[0m\n\u001b[1;32m    109\u001b[0m         \u001b[0;31m# the value. As a fallback try converting the value to a tensor.\u001b[0m\u001b[0;34m\u001b[0m\u001b[0;34m\u001b[0m\u001b[0;34m\u001b[0m\u001b[0m\n\u001b[1;32m    110\u001b[0m         normalized_components.append(\n\u001b[0;32m--> 111\u001b[0;31m             ops.convert_to_tensor(t, name=\"component_%d\" % i))\n\u001b[0m\u001b[1;32m    112\u001b[0m       \u001b[0;32melse\u001b[0m\u001b[0;34m:\u001b[0m\u001b[0;34m\u001b[0m\u001b[0;34m\u001b[0m\u001b[0m\n\u001b[1;32m    113\u001b[0m         \u001b[0;32mif\u001b[0m \u001b[0misinstance\u001b[0m\u001b[0;34m(\u001b[0m\u001b[0mspec\u001b[0m\u001b[0;34m,\u001b[0m \u001b[0msparse_tensor\u001b[0m\u001b[0;34m.\u001b[0m\u001b[0mSparseTensorSpec\u001b[0m\u001b[0;34m)\u001b[0m\u001b[0;34m:\u001b[0m\u001b[0;34m\u001b[0m\u001b[0;34m\u001b[0m\u001b[0m\n",
            "\u001b[0;32m/usr/local/lib/python3.6/dist-packages/tensorflow/python/profiler/trace.py\u001b[0m in \u001b[0;36mwrapped\u001b[0;34m(*args, **kwargs)\u001b[0m\n\u001b[1;32m    161\u001b[0m         \u001b[0;32mwith\u001b[0m \u001b[0mTrace\u001b[0m\u001b[0;34m(\u001b[0m\u001b[0mtrace_name\u001b[0m\u001b[0;34m,\u001b[0m \u001b[0;34m**\u001b[0m\u001b[0mtrace_kwargs\u001b[0m\u001b[0;34m)\u001b[0m\u001b[0;34m:\u001b[0m\u001b[0;34m\u001b[0m\u001b[0;34m\u001b[0m\u001b[0m\n\u001b[1;32m    162\u001b[0m           \u001b[0;32mreturn\u001b[0m \u001b[0mfunc\u001b[0m\u001b[0;34m(\u001b[0m\u001b[0;34m*\u001b[0m\u001b[0margs\u001b[0m\u001b[0;34m,\u001b[0m \u001b[0;34m**\u001b[0m\u001b[0mkwargs\u001b[0m\u001b[0;34m)\u001b[0m\u001b[0;34m\u001b[0m\u001b[0;34m\u001b[0m\u001b[0m\n\u001b[0;32m--> 163\u001b[0;31m       \u001b[0;32mreturn\u001b[0m \u001b[0mfunc\u001b[0m\u001b[0;34m(\u001b[0m\u001b[0;34m*\u001b[0m\u001b[0margs\u001b[0m\u001b[0;34m,\u001b[0m \u001b[0;34m**\u001b[0m\u001b[0mkwargs\u001b[0m\u001b[0;34m)\u001b[0m\u001b[0;34m\u001b[0m\u001b[0;34m\u001b[0m\u001b[0m\n\u001b[0m\u001b[1;32m    164\u001b[0m \u001b[0;34m\u001b[0m\u001b[0m\n\u001b[1;32m    165\u001b[0m     \u001b[0;32mreturn\u001b[0m \u001b[0mwrapped\u001b[0m\u001b[0;34m\u001b[0m\u001b[0;34m\u001b[0m\u001b[0m\n",
            "\u001b[0;32m/usr/local/lib/python3.6/dist-packages/tensorflow/python/framework/ops.py\u001b[0m in \u001b[0;36mconvert_to_tensor\u001b[0;34m(value, dtype, name, as_ref, preferred_dtype, dtype_hint, ctx, accepted_result_types)\u001b[0m\n\u001b[1;32m   1538\u001b[0m \u001b[0;34m\u001b[0m\u001b[0m\n\u001b[1;32m   1539\u001b[0m     \u001b[0;32mif\u001b[0m \u001b[0mret\u001b[0m \u001b[0;32mis\u001b[0m \u001b[0;32mNone\u001b[0m\u001b[0;34m:\u001b[0m\u001b[0;34m\u001b[0m\u001b[0;34m\u001b[0m\u001b[0m\n\u001b[0;32m-> 1540\u001b[0;31m       \u001b[0mret\u001b[0m \u001b[0;34m=\u001b[0m \u001b[0mconversion_func\u001b[0m\u001b[0;34m(\u001b[0m\u001b[0mvalue\u001b[0m\u001b[0;34m,\u001b[0m \u001b[0mdtype\u001b[0m\u001b[0;34m=\u001b[0m\u001b[0mdtype\u001b[0m\u001b[0;34m,\u001b[0m \u001b[0mname\u001b[0m\u001b[0;34m=\u001b[0m\u001b[0mname\u001b[0m\u001b[0;34m,\u001b[0m \u001b[0mas_ref\u001b[0m\u001b[0;34m=\u001b[0m\u001b[0mas_ref\u001b[0m\u001b[0;34m)\u001b[0m\u001b[0;34m\u001b[0m\u001b[0;34m\u001b[0m\u001b[0m\n\u001b[0m\u001b[1;32m   1541\u001b[0m \u001b[0;34m\u001b[0m\u001b[0m\n\u001b[1;32m   1542\u001b[0m     \u001b[0;32mif\u001b[0m \u001b[0mret\u001b[0m \u001b[0;32mis\u001b[0m \u001b[0mNotImplemented\u001b[0m\u001b[0;34m:\u001b[0m\u001b[0;34m\u001b[0m\u001b[0;34m\u001b[0m\u001b[0m\n",
            "\u001b[0;32m/usr/local/lib/python3.6/dist-packages/tensorflow/python/framework/constant_op.py\u001b[0m in \u001b[0;36m_constant_tensor_conversion_function\u001b[0;34m(v, dtype, name, as_ref)\u001b[0m\n\u001b[1;32m    337\u001b[0m                                          as_ref=False):\n\u001b[1;32m    338\u001b[0m   \u001b[0m_\u001b[0m \u001b[0;34m=\u001b[0m \u001b[0mas_ref\u001b[0m\u001b[0;34m\u001b[0m\u001b[0;34m\u001b[0m\u001b[0m\n\u001b[0;32m--> 339\u001b[0;31m   \u001b[0;32mreturn\u001b[0m \u001b[0mconstant\u001b[0m\u001b[0;34m(\u001b[0m\u001b[0mv\u001b[0m\u001b[0;34m,\u001b[0m \u001b[0mdtype\u001b[0m\u001b[0;34m=\u001b[0m\u001b[0mdtype\u001b[0m\u001b[0;34m,\u001b[0m \u001b[0mname\u001b[0m\u001b[0;34m=\u001b[0m\u001b[0mname\u001b[0m\u001b[0;34m)\u001b[0m\u001b[0;34m\u001b[0m\u001b[0;34m\u001b[0m\u001b[0m\n\u001b[0m\u001b[1;32m    340\u001b[0m \u001b[0;34m\u001b[0m\u001b[0m\n\u001b[1;32m    341\u001b[0m \u001b[0;34m\u001b[0m\u001b[0m\n",
            "\u001b[0;32m/usr/local/lib/python3.6/dist-packages/tensorflow/python/framework/constant_op.py\u001b[0m in \u001b[0;36mconstant\u001b[0;34m(value, dtype, shape, name)\u001b[0m\n\u001b[1;32m    263\u001b[0m   \"\"\"\n\u001b[1;32m    264\u001b[0m   return _constant_impl(value, dtype, shape, name, verify_shape=False,\n\u001b[0;32m--> 265\u001b[0;31m                         allow_broadcast=True)\n\u001b[0m\u001b[1;32m    266\u001b[0m \u001b[0;34m\u001b[0m\u001b[0m\n\u001b[1;32m    267\u001b[0m \u001b[0;34m\u001b[0m\u001b[0m\n",
            "\u001b[0;32m/usr/local/lib/python3.6/dist-packages/tensorflow/python/framework/constant_op.py\u001b[0m in \u001b[0;36m_constant_impl\u001b[0;34m(value, dtype, shape, name, verify_shape, allow_broadcast)\u001b[0m\n\u001b[1;32m    274\u001b[0m       \u001b[0;32mwith\u001b[0m \u001b[0mtrace\u001b[0m\u001b[0;34m.\u001b[0m\u001b[0mTrace\u001b[0m\u001b[0;34m(\u001b[0m\u001b[0;34m\"tf.constant\"\u001b[0m\u001b[0;34m)\u001b[0m\u001b[0;34m:\u001b[0m\u001b[0;34m\u001b[0m\u001b[0;34m\u001b[0m\u001b[0m\n\u001b[1;32m    275\u001b[0m         \u001b[0;32mreturn\u001b[0m \u001b[0m_constant_eager_impl\u001b[0m\u001b[0;34m(\u001b[0m\u001b[0mctx\u001b[0m\u001b[0;34m,\u001b[0m \u001b[0mvalue\u001b[0m\u001b[0;34m,\u001b[0m \u001b[0mdtype\u001b[0m\u001b[0;34m,\u001b[0m \u001b[0mshape\u001b[0m\u001b[0;34m,\u001b[0m \u001b[0mverify_shape\u001b[0m\u001b[0;34m)\u001b[0m\u001b[0;34m\u001b[0m\u001b[0;34m\u001b[0m\u001b[0m\n\u001b[0;32m--> 276\u001b[0;31m     \u001b[0;32mreturn\u001b[0m \u001b[0m_constant_eager_impl\u001b[0m\u001b[0;34m(\u001b[0m\u001b[0mctx\u001b[0m\u001b[0;34m,\u001b[0m \u001b[0mvalue\u001b[0m\u001b[0;34m,\u001b[0m \u001b[0mdtype\u001b[0m\u001b[0;34m,\u001b[0m \u001b[0mshape\u001b[0m\u001b[0;34m,\u001b[0m \u001b[0mverify_shape\u001b[0m\u001b[0;34m)\u001b[0m\u001b[0;34m\u001b[0m\u001b[0;34m\u001b[0m\u001b[0m\n\u001b[0m\u001b[1;32m    277\u001b[0m \u001b[0;34m\u001b[0m\u001b[0m\n\u001b[1;32m    278\u001b[0m   \u001b[0mg\u001b[0m \u001b[0;34m=\u001b[0m \u001b[0mops\u001b[0m\u001b[0;34m.\u001b[0m\u001b[0mget_default_graph\u001b[0m\u001b[0;34m(\u001b[0m\u001b[0;34m)\u001b[0m\u001b[0;34m\u001b[0m\u001b[0;34m\u001b[0m\u001b[0m\n",
            "\u001b[0;32m/usr/local/lib/python3.6/dist-packages/tensorflow/python/framework/constant_op.py\u001b[0m in \u001b[0;36m_constant_eager_impl\u001b[0;34m(ctx, value, dtype, shape, verify_shape)\u001b[0m\n\u001b[1;32m    299\u001b[0m \u001b[0;32mdef\u001b[0m \u001b[0m_constant_eager_impl\u001b[0m\u001b[0;34m(\u001b[0m\u001b[0mctx\u001b[0m\u001b[0;34m,\u001b[0m \u001b[0mvalue\u001b[0m\u001b[0;34m,\u001b[0m \u001b[0mdtype\u001b[0m\u001b[0;34m,\u001b[0m \u001b[0mshape\u001b[0m\u001b[0;34m,\u001b[0m \u001b[0mverify_shape\u001b[0m\u001b[0;34m)\u001b[0m\u001b[0;34m:\u001b[0m\u001b[0;34m\u001b[0m\u001b[0;34m\u001b[0m\u001b[0m\n\u001b[1;32m    300\u001b[0m   \u001b[0;34m\"\"\"Implementation of eager constant.\"\"\"\u001b[0m\u001b[0;34m\u001b[0m\u001b[0;34m\u001b[0m\u001b[0m\n\u001b[0;32m--> 301\u001b[0;31m   \u001b[0mt\u001b[0m \u001b[0;34m=\u001b[0m \u001b[0mconvert_to_eager_tensor\u001b[0m\u001b[0;34m(\u001b[0m\u001b[0mvalue\u001b[0m\u001b[0;34m,\u001b[0m \u001b[0mctx\u001b[0m\u001b[0;34m,\u001b[0m \u001b[0mdtype\u001b[0m\u001b[0;34m)\u001b[0m\u001b[0;34m\u001b[0m\u001b[0;34m\u001b[0m\u001b[0m\n\u001b[0m\u001b[1;32m    302\u001b[0m   \u001b[0;32mif\u001b[0m \u001b[0mshape\u001b[0m \u001b[0;32mis\u001b[0m \u001b[0;32mNone\u001b[0m\u001b[0;34m:\u001b[0m\u001b[0;34m\u001b[0m\u001b[0;34m\u001b[0m\u001b[0m\n\u001b[1;32m    303\u001b[0m     \u001b[0;32mreturn\u001b[0m \u001b[0mt\u001b[0m\u001b[0;34m\u001b[0m\u001b[0;34m\u001b[0m\u001b[0m\n",
            "\u001b[0;32m/usr/local/lib/python3.6/dist-packages/tensorflow/python/framework/constant_op.py\u001b[0m in \u001b[0;36mconvert_to_eager_tensor\u001b[0;34m(value, ctx, dtype)\u001b[0m\n\u001b[1;32m     96\u001b[0m       \u001b[0mdtype\u001b[0m \u001b[0;34m=\u001b[0m \u001b[0mdtypes\u001b[0m\u001b[0;34m.\u001b[0m\u001b[0mas_dtype\u001b[0m\u001b[0;34m(\u001b[0m\u001b[0mdtype\u001b[0m\u001b[0;34m)\u001b[0m\u001b[0;34m.\u001b[0m\u001b[0mas_datatype_enum\u001b[0m\u001b[0;34m\u001b[0m\u001b[0;34m\u001b[0m\u001b[0m\n\u001b[1;32m     97\u001b[0m   \u001b[0mctx\u001b[0m\u001b[0;34m.\u001b[0m\u001b[0mensure_initialized\u001b[0m\u001b[0;34m(\u001b[0m\u001b[0;34m)\u001b[0m\u001b[0;34m\u001b[0m\u001b[0;34m\u001b[0m\u001b[0m\n\u001b[0;32m---> 98\u001b[0;31m   \u001b[0;32mreturn\u001b[0m \u001b[0mops\u001b[0m\u001b[0;34m.\u001b[0m\u001b[0mEagerTensor\u001b[0m\u001b[0;34m(\u001b[0m\u001b[0mvalue\u001b[0m\u001b[0;34m,\u001b[0m \u001b[0mctx\u001b[0m\u001b[0;34m.\u001b[0m\u001b[0mdevice_name\u001b[0m\u001b[0;34m,\u001b[0m \u001b[0mdtype\u001b[0m\u001b[0;34m)\u001b[0m\u001b[0;34m\u001b[0m\u001b[0;34m\u001b[0m\u001b[0m\n\u001b[0m\u001b[1;32m     99\u001b[0m \u001b[0;34m\u001b[0m\u001b[0m\n\u001b[1;32m    100\u001b[0m \u001b[0;34m\u001b[0m\u001b[0m\n",
            "\u001b[0;31mValueError\u001b[0m: Failed to convert a NumPy array to a Tensor (Unsupported object type int)."
          ]
        }
      ]
    },
    {
      "cell_type": "code",
      "metadata": {
        "id": "JuFOP1QcWF47"
      },
      "source": [
        "def load_data(Dataframe, )"
      ],
      "execution_count": null,
      "outputs": []
    },
    {
      "cell_type": "code",
      "metadata": {
        "id": "MyX04awoo6k9"
      },
      "source": [
        "def train(inputs, targets, batch_size=100, epochs=20, max_length=1000, model_filepath=\"./model_dir/\", learning_rate=0.001):\r\n",
        "  start = learning_rate\r\n",
        "  stop = learning_rate * 0.01\r\n",
        "  learning_rates = np.linspace(start, stop. epochs)\r\n",
        "\r\n",
        "  model =create_model()"
      ],
      "execution_count": null,
      "outputs": []
    }
  ]
}