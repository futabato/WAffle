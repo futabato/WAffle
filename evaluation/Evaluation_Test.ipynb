{
  "nbformat": 4,
  "nbformat_minor": 0,
  "metadata": {
    "accelerator": "GPU",
    "colab": {
      "name": "Evaluation-Test",
      "provenance": [],
      "collapsed_sections": []
    },
    "kernelspec": {
      "display_name": "Python 3",
      "name": "python3"
    }
  },
  "cells": [
    {
      "cell_type": "code",
      "metadata": {
        "id": "pIdUEPUMc3oB"
      },
      "source": [
        "import numpy as np\r\n",
        "import pandas as pd\r\n",
        "import matplotlib.pyplot as plt\r\n",
        "from sklearn.model_selection import train_test_split\r\n",
        "from sklearn.metrics import roc_curve, auc, accuracy_score\r\n",
        "from tensorflow.keras.metrics import Precision, Recall\r\n",
        "\r\n",
        "import datetime\r\n",
        "import json\r\n",
        "from os import write\r\n",
        "import re\r\n",
        "import subprocess\r\n",
        "import urllib.parse\r\n",
        "\r\n",
        "from flask import (Flask, Response, escape, make_response, render_template,\r\n",
        "                   request)\r\n",
        "from werkzeug.routing import BaseConverter\r\n",
        "import numpy as np\r\n",
        "from keras.models import load_model\r\n",
        "\r\n",
        "from keras import backend as K\r\n",
        "import urllib.parse\r\n",
        "import pprint\r\n",
        "import time\r\n",
        "from sklearn.metrics import confusion_matrix\r\n",
        "from sklearn.metrics import *"
      ],
      "execution_count": 1,
      "outputs": []
    },
    {
      "cell_type": "code",
      "metadata": {
        "colab": {
          "base_uri": "https://localhost:8080/"
        },
        "id": "gccB9DRxdZpq",
        "outputId": "c199a3a7-a08f-4c35-b108-f74b69a39839"
      },
      "source": [
        "%cd /content/drive/MyDrive/WAffle/"
      ],
      "execution_count": 2,
      "outputs": [
        {
          "output_type": "stream",
          "text": [
            "/content/drive/MyDrive/WAffle\n"
          ],
          "name": "stdout"
        }
      ]
    },
    {
      "cell_type": "code",
      "metadata": {
        "colab": {
          "base_uri": "https://localhost:8080/",
          "height": 197
        },
        "id": "HkvgoE0vdRdH",
        "outputId": "ad49851b-4192-40c6-d8be-98eb01e93631"
      },
      "source": [
        "df = pd.read_csv('Dataset/cisc_database/test_data.csv')\r\n",
        "df.head()"
      ],
      "execution_count": 3,
      "outputs": [
        {
          "output_type": "execute_result",
          "data": {
            "text/html": [
              "<div>\n",
              "<style scoped>\n",
              "    .dataframe tbody tr th:only-of-type {\n",
              "        vertical-align: middle;\n",
              "    }\n",
              "\n",
              "    .dataframe tbody tr th {\n",
              "        vertical-align: top;\n",
              "    }\n",
              "\n",
              "    .dataframe thead th {\n",
              "        text-align: right;\n",
              "    }\n",
              "</style>\n",
              "<table border=\"1\" class=\"dataframe\">\n",
              "  <thead>\n",
              "    <tr style=\"text-align: right;\">\n",
              "      <th></th>\n",
              "      <th>URL</th>\n",
              "      <th>Target</th>\n",
              "    </tr>\n",
              "  </thead>\n",
              "  <tbody>\n",
              "    <tr>\n",
              "      <th>0</th>\n",
              "      <td>http://localhost:8080/tienda1/publico/producto...</td>\n",
              "      <td>0</td>\n",
              "    </tr>\n",
              "    <tr>\n",
              "      <th>1</th>\n",
              "      <td>http://localhost:8080/tienda1/publico/miembros...</td>\n",
              "      <td>0</td>\n",
              "    </tr>\n",
              "    <tr>\n",
              "      <th>2</th>\n",
              "      <td>http://localhost:8080/tienda1/global/menum.jsp</td>\n",
              "      <td>0</td>\n",
              "    </tr>\n",
              "    <tr>\n",
              "      <th>3</th>\n",
              "      <td>http://localhost:8080/tienda1/miembros/editar....</td>\n",
              "      <td>0</td>\n",
              "    </tr>\n",
              "    <tr>\n",
              "      <th>4</th>\n",
              "      <td>http://localhost:8080/tienda1/publico/autentic...</td>\n",
              "      <td>0</td>\n",
              "    </tr>\n",
              "  </tbody>\n",
              "</table>\n",
              "</div>"
            ],
            "text/plain": [
              "                                                 URL  Target\n",
              "0  http://localhost:8080/tienda1/publico/producto...       0\n",
              "1  http://localhost:8080/tienda1/publico/miembros...       0\n",
              "2    http://localhost:8080/tienda1/global/menum.jsp        0\n",
              "3  http://localhost:8080/tienda1/miembros/editar....       0\n",
              "4  http://localhost:8080/tienda1/publico/autentic...       0"
            ]
          },
          "metadata": {
            "tags": []
          },
          "execution_count": 3
        }
      ]
    },
    {
      "cell_type": "code",
      "metadata": {
        "colab": {
          "base_uri": "https://localhost:8080/",
          "height": 197
        },
        "id": "-ghjtBAmf7d1",
        "outputId": "89a5c2da-d961-4966-a083-46d43b8e6fcc"
      },
      "source": [
        "evaluation = pd.read_csv('Dataset/cisc_database/test_data.csv')\r\n",
        "evaluation.head()"
      ],
      "execution_count": 4,
      "outputs": [
        {
          "output_type": "execute_result",
          "data": {
            "text/html": [
              "<div>\n",
              "<style scoped>\n",
              "    .dataframe tbody tr th:only-of-type {\n",
              "        vertical-align: middle;\n",
              "    }\n",
              "\n",
              "    .dataframe tbody tr th {\n",
              "        vertical-align: top;\n",
              "    }\n",
              "\n",
              "    .dataframe thead th {\n",
              "        text-align: right;\n",
              "    }\n",
              "</style>\n",
              "<table border=\"1\" class=\"dataframe\">\n",
              "  <thead>\n",
              "    <tr style=\"text-align: right;\">\n",
              "      <th></th>\n",
              "      <th>URL</th>\n",
              "      <th>Target</th>\n",
              "    </tr>\n",
              "  </thead>\n",
              "  <tbody>\n",
              "    <tr>\n",
              "      <th>0</th>\n",
              "      <td>http://localhost:8080/tienda1/publico/producto...</td>\n",
              "      <td>0</td>\n",
              "    </tr>\n",
              "    <tr>\n",
              "      <th>1</th>\n",
              "      <td>http://localhost:8080/tienda1/publico/miembros...</td>\n",
              "      <td>0</td>\n",
              "    </tr>\n",
              "    <tr>\n",
              "      <th>2</th>\n",
              "      <td>http://localhost:8080/tienda1/global/menum.jsp</td>\n",
              "      <td>0</td>\n",
              "    </tr>\n",
              "    <tr>\n",
              "      <th>3</th>\n",
              "      <td>http://localhost:8080/tienda1/miembros/editar....</td>\n",
              "      <td>0</td>\n",
              "    </tr>\n",
              "    <tr>\n",
              "      <th>4</th>\n",
              "      <td>http://localhost:8080/tienda1/publico/autentic...</td>\n",
              "      <td>0</td>\n",
              "    </tr>\n",
              "  </tbody>\n",
              "</table>\n",
              "</div>"
            ],
            "text/plain": [
              "                                                 URL  Target\n",
              "0  http://localhost:8080/tienda1/publico/producto...       0\n",
              "1  http://localhost:8080/tienda1/publico/miembros...       0\n",
              "2    http://localhost:8080/tienda1/global/menum.jsp        0\n",
              "3  http://localhost:8080/tienda1/miembros/editar....       0\n",
              "4  http://localhost:8080/tienda1/publico/autentic...       0"
            ]
          },
          "metadata": {
            "tags": []
          },
          "execution_count": 4
        }
      ]
    },
    {
      "cell_type": "code",
      "metadata": {
        "id": "qUywHfSjAwu9"
      },
      "source": [
        "model = load_model('./model_dir/model.h5')"
      ],
      "execution_count": 5,
      "outputs": []
    },
    {
      "cell_type": "code",
      "metadata": {
        "id": "DWIcwTHsfg6k"
      },
      "source": [
        "with open(\"denylist.txt\") as f:\r\n",
        "  denylist = [s.strip() for s in f.readlines()]"
      ],
      "execution_count": 6,
      "outputs": []
    },
    {
      "cell_type": "code",
      "metadata": {
        "id": "j21MFi3ueAGS"
      },
      "source": [
        "# 定義済みのシグネチャを参照したパターンマッチング\r\n",
        "def signature(url):  \r\n",
        "  path = url.strip()[22:]\r\n",
        "  for val in denylist:\r\n",
        "    m = re.match(val, path, re.IGNORECASE)\r\n",
        "    if m != None :\r\n",
        "      return 1\r\n",
        "  return 0"
      ],
      "execution_count": 7,
      "outputs": []
    },
    {
      "cell_type": "code",
      "metadata": {
        "id": "UzO23VLTiDWg"
      },
      "source": [
        "import urllib.parse\r\n",
        "def url_decode(encoded_URL):\r\n",
        "  return urllib.parse.unquote(encoded_URL)"
      ],
      "execution_count": 8,
      "outputs": []
    },
    {
      "cell_type": "code",
      "metadata": {
        "id": "RCxgBjbqiJ2t"
      },
      "source": [
        "def load_data(urls, max_length=1000):\r\n",
        "    urls = [s.lower() for s in urls]\r\n",
        "    url_list = []\r\n",
        "    for url in urls:\r\n",
        "        # url decode\r\n",
        "        decoded_url = url_decode(url)\r\n",
        "        # unicode encode\r\n",
        "        encoded_url = [ord(x) for x in str(decoded_url).strip()]\r\n",
        "        encoded_url = encoded_url[:max_length]\r\n",
        "        url_len = len(encoded_url)\r\n",
        "        if url_len < max_length:\r\n",
        "            # zero padding\r\n",
        "            encoded_url += ([0] * (max_length - url_len))\r\n",
        "        url_list.append((encoded_url))\r\n",
        "    # convert to numpy array\r\n",
        "    url_list = np.array(url_list)\r\n",
        "    return url_list"
      ],
      "execution_count": 9,
      "outputs": []
    },
    {
      "cell_type": "code",
      "metadata": {
        "id": "M0njIb2KiMrY"
      },
      "source": [
        "def create_label(labels):\r\n",
        "  class_list = [x for x in labels]\r\n",
        "  classes = np.array(class_list)\r\n",
        "  return classes"
      ],
      "execution_count": 10,
      "outputs": []
    },
    {
      "cell_type": "code",
      "metadata": {
        "id": "ZSvKwVlMi2Az"
      },
      "source": [
        "X_test, y_test = df['URL'], df['Target']"
      ],
      "execution_count": 11,
      "outputs": []
    },
    {
      "cell_type": "code",
      "metadata": {
        "id": "zcdmbaPHiO85"
      },
      "source": [
        "test_data = load_data(X_test)"
      ],
      "execution_count": 12,
      "outputs": []
    },
    {
      "cell_type": "code",
      "metadata": {
        "colab": {
          "base_uri": "https://localhost:8080/"
        },
        "id": "B385PrCYiR2p",
        "outputId": "ebc787b8-40cb-4e71-c88a-7b1bb7fe4272"
      },
      "source": [
        "print(test_data)"
      ],
      "execution_count": 13,
      "outputs": [
        {
          "output_type": "stream",
          "text": [
            "[[104 116 116 ...   0   0   0]\n",
            " [104 116 116 ...   0   0   0]\n",
            " [104 116 116 ...   0   0   0]\n",
            " ...\n",
            " [104 116 116 ...   0   0   0]\n",
            " [104 116 116 ...   0   0   0]\n",
            " [104 116 116 ...   0   0   0]]\n"
          ],
          "name": "stdout"
        }
      ]
    },
    {
      "cell_type": "code",
      "metadata": {
        "id": "kANuFRDeiTuo"
      },
      "source": [
        "test_classes = create_label(y_test)"
      ],
      "execution_count": 14,
      "outputs": []
    },
    {
      "cell_type": "code",
      "metadata": {
        "colab": {
          "base_uri": "https://localhost:8080/"
        },
        "id": "TtR6S6kKiVna",
        "outputId": "d471a33e-1f93-40dd-911c-00fccd8993be"
      },
      "source": [
        "print(test_classes)"
      ],
      "execution_count": 15,
      "outputs": [
        {
          "output_type": "stream",
          "text": [
            "[0 0 0 ... 1 0 0]\n"
          ],
          "name": "stdout"
        }
      ]
    },
    {
      "cell_type": "markdown",
      "metadata": {
        "id": "riRaDruyf4jr"
      },
      "source": [
        "# Evaluate"
      ]
    },
    {
      "cell_type": "code",
      "metadata": {
        "colab": {
          "base_uri": "https://localhost:8080/"
        },
        "id": "yBhZsGk3h9Wb",
        "outputId": "be193262-0f18-4f5d-e619-4263e518ef49"
      },
      "source": [
        "test_loss, test_accuracy, test_precision, test_recall = model.evaluate(test_data, test_classes, verbose=2)\r\n",
        "\r\n",
        "print(\"test_loss: \", test_loss)\r\n",
        "print(\"test_accuracy: \", test_accuracy)\r\n",
        "print(\"test_precision: \", test_precision)\r\n",
        "print(\"test_recall: \", test_recall)\r\n",
        "#print(\"binary_accuracy: \", binary_accuracy)\r\n",
        "#print(\"categorical_accuracy:\", categorical_accuracy)"
      ],
      "execution_count": 16,
      "outputs": [
        {
          "output_type": "stream",
          "text": [
            "191/191 - 5s - loss: 0.2423 - accuracy: 0.8636 - precision_1: 0.7573 - recall_1: 0.9934\n",
            "test_loss:  0.2423277050256729\n",
            "test_accuracy:  0.8635991215705872\n",
            "test_precision:  0.757287323474884\n",
            "test_recall:  0.9933671355247498\n"
          ],
          "name": "stdout"
        }
      ]
    },
    {
      "cell_type": "code",
      "metadata": {
        "id": "WKfp3Zu-eIaN"
      },
      "source": [
        "def matching(urls):\r\n",
        "  y_match = []\r\n",
        "  for url in urls:\r\n",
        "    url = url.strip()[22:]\r\n",
        "    y_match.append(signature(url))\r\n",
        "  y_match = pd.Series(y_match)\r\n",
        "  return y_match"
      ],
      "execution_count": 17,
      "outputs": []
    },
    {
      "cell_type": "code",
      "metadata": {
        "colab": {
          "base_uri": "https://localhost:8080/"
        },
        "id": "JvzvgMrg7t0c",
        "outputId": "0e428dd5-e23f-45b4-d424-2487c875716c"
      },
      "source": [
        "urls = evaluation['URL']\r\n",
        "urls"
      ],
      "execution_count": 18,
      "outputs": [
        {
          "output_type": "execute_result",
          "data": {
            "text/plain": [
              "0       http://localhost:8080/tienda1/publico/producto...\n",
              "1       http://localhost:8080/tienda1/publico/miembros...\n",
              "2         http://localhost:8080/tienda1/global/menum.jsp \n",
              "3       http://localhost:8080/tienda1/miembros/editar....\n",
              "4       http://localhost:8080/tienda1/publico/autentic...\n",
              "                              ...                        \n",
              "6102    http://localhost:8080/tienda1/publico/autentic...\n",
              "6103    http://localhost:8080/tienda1/publico/producto...\n",
              "6104    http://localhost:8080/tienda1/publico/caracter...\n",
              "6105    http://localhost:8080/tienda1/publico/autentic...\n",
              "6106    http://localhost:8080/tienda1/publico/producto...\n",
              "Name: URL, Length: 6107, dtype: object"
            ]
          },
          "metadata": {
            "tags": []
          },
          "execution_count": 18
        }
      ]
    },
    {
      "cell_type": "code",
      "metadata": {
        "colab": {
          "base_uri": "https://localhost:8080/"
        },
        "id": "UFoB3uyT72dT",
        "outputId": "5c936f93-230e-4486-db3f-43975420d208"
      },
      "source": [
        "y_match = matching(urls)\r\n",
        "y_match"
      ],
      "execution_count": 19,
      "outputs": [
        {
          "output_type": "execute_result",
          "data": {
            "text/plain": [
              "0       0\n",
              "1       0\n",
              "2       0\n",
              "3       0\n",
              "4       0\n",
              "       ..\n",
              "6102    0\n",
              "6103    0\n",
              "6104    0\n",
              "6105    0\n",
              "6106    0\n",
              "Length: 6107, dtype: int64"
            ]
          },
          "metadata": {
            "tags": []
          },
          "execution_count": 19
        }
      ]
    },
    {
      "cell_type": "code",
      "metadata": {
        "colab": {
          "base_uri": "https://localhost:8080/"
        },
        "id": "-T2pTWfO8Ewf",
        "outputId": "4f8ca29f-22f2-4ea6-8410-232ec52c3011"
      },
      "source": [
        "# denylistで防げた数\r\n",
        "sum(y_match)"
      ],
      "execution_count": 20,
      "outputs": [
        {
          "output_type": "execute_result",
          "data": {
            "text/plain": [
              "35"
            ]
          },
          "metadata": {
            "tags": []
          },
          "execution_count": 20
        }
      ]
    },
    {
      "cell_type": "code",
      "metadata": {
        "id": "TqP3g9h7k8yw",
        "colab": {
          "base_uri": "https://localhost:8080/"
        },
        "outputId": "033ffd1e-6713-4c76-abe8-bc4acc0fc495"
      },
      "source": [
        "y_true = evaluation['Target']\r\n",
        "y_true"
      ],
      "execution_count": 21,
      "outputs": [
        {
          "output_type": "execute_result",
          "data": {
            "text/plain": [
              "0       0\n",
              "1       0\n",
              "2       0\n",
              "3       0\n",
              "4       0\n",
              "       ..\n",
              "6102    1\n",
              "6103    1\n",
              "6104    1\n",
              "6105    0\n",
              "6106    0\n",
              "Name: Target, Length: 6107, dtype: int64"
            ]
          },
          "metadata": {
            "tags": []
          },
          "execution_count": 21
        }
      ]
    },
    {
      "cell_type": "code",
      "metadata": {
        "colab": {
          "base_uri": "https://localhost:8080/",
          "height": 197
        },
        "id": "7zXn-DpG9T29",
        "outputId": "270d5871-fdef-4cc6-f66d-c93ac9f25302"
      },
      "source": [
        "evaluation['y_match'] = y_match\r\n",
        "evaluation.head()"
      ],
      "execution_count": 22,
      "outputs": [
        {
          "output_type": "execute_result",
          "data": {
            "text/html": [
              "<div>\n",
              "<style scoped>\n",
              "    .dataframe tbody tr th:only-of-type {\n",
              "        vertical-align: middle;\n",
              "    }\n",
              "\n",
              "    .dataframe tbody tr th {\n",
              "        vertical-align: top;\n",
              "    }\n",
              "\n",
              "    .dataframe thead th {\n",
              "        text-align: right;\n",
              "    }\n",
              "</style>\n",
              "<table border=\"1\" class=\"dataframe\">\n",
              "  <thead>\n",
              "    <tr style=\"text-align: right;\">\n",
              "      <th></th>\n",
              "      <th>URL</th>\n",
              "      <th>Target</th>\n",
              "      <th>y_match</th>\n",
              "    </tr>\n",
              "  </thead>\n",
              "  <tbody>\n",
              "    <tr>\n",
              "      <th>0</th>\n",
              "      <td>http://localhost:8080/tienda1/publico/producto...</td>\n",
              "      <td>0</td>\n",
              "      <td>0</td>\n",
              "    </tr>\n",
              "    <tr>\n",
              "      <th>1</th>\n",
              "      <td>http://localhost:8080/tienda1/publico/miembros...</td>\n",
              "      <td>0</td>\n",
              "      <td>0</td>\n",
              "    </tr>\n",
              "    <tr>\n",
              "      <th>2</th>\n",
              "      <td>http://localhost:8080/tienda1/global/menum.jsp</td>\n",
              "      <td>0</td>\n",
              "      <td>0</td>\n",
              "    </tr>\n",
              "    <tr>\n",
              "      <th>3</th>\n",
              "      <td>http://localhost:8080/tienda1/miembros/editar....</td>\n",
              "      <td>0</td>\n",
              "      <td>0</td>\n",
              "    </tr>\n",
              "    <tr>\n",
              "      <th>4</th>\n",
              "      <td>http://localhost:8080/tienda1/publico/autentic...</td>\n",
              "      <td>0</td>\n",
              "      <td>0</td>\n",
              "    </tr>\n",
              "  </tbody>\n",
              "</table>\n",
              "</div>"
            ],
            "text/plain": [
              "                                                 URL  Target  y_match\n",
              "0  http://localhost:8080/tienda1/publico/producto...       0        0\n",
              "1  http://localhost:8080/tienda1/publico/miembros...       0        0\n",
              "2    http://localhost:8080/tienda1/global/menum.jsp        0        0\n",
              "3  http://localhost:8080/tienda1/miembros/editar....       0        0\n",
              "4  http://localhost:8080/tienda1/publico/autentic...       0        0"
            ]
          },
          "metadata": {
            "tags": []
          },
          "execution_count": 22
        }
      ]
    },
    {
      "cell_type": "code",
      "metadata": {
        "id": "9hijMgvBAXg9"
      },
      "source": [
        "y_pred = model.predict(test_data)"
      ],
      "execution_count": 23,
      "outputs": []
    },
    {
      "cell_type": "code",
      "metadata": {
        "colab": {
          "base_uri": "https://localhost:8080/",
          "height": 197
        },
        "id": "RgAq6tGMkPCq",
        "outputId": "2cb4981a-9c6a-4c4d-ae21-8e61a3049096"
      },
      "source": [
        "evaluation['y_pred'] = y_pred\r\n",
        "evaluation.head()"
      ],
      "execution_count": 24,
      "outputs": [
        {
          "output_type": "execute_result",
          "data": {
            "text/html": [
              "<div>\n",
              "<style scoped>\n",
              "    .dataframe tbody tr th:only-of-type {\n",
              "        vertical-align: middle;\n",
              "    }\n",
              "\n",
              "    .dataframe tbody tr th {\n",
              "        vertical-align: top;\n",
              "    }\n",
              "\n",
              "    .dataframe thead th {\n",
              "        text-align: right;\n",
              "    }\n",
              "</style>\n",
              "<table border=\"1\" class=\"dataframe\">\n",
              "  <thead>\n",
              "    <tr style=\"text-align: right;\">\n",
              "      <th></th>\n",
              "      <th>URL</th>\n",
              "      <th>Target</th>\n",
              "      <th>y_match</th>\n",
              "      <th>y_pred</th>\n",
              "    </tr>\n",
              "  </thead>\n",
              "  <tbody>\n",
              "    <tr>\n",
              "      <th>0</th>\n",
              "      <td>http://localhost:8080/tienda1/publico/producto...</td>\n",
              "      <td>0</td>\n",
              "      <td>0</td>\n",
              "      <td>0.002663</td>\n",
              "    </tr>\n",
              "    <tr>\n",
              "      <th>1</th>\n",
              "      <td>http://localhost:8080/tienda1/publico/miembros...</td>\n",
              "      <td>0</td>\n",
              "      <td>0</td>\n",
              "      <td>0.002899</td>\n",
              "    </tr>\n",
              "    <tr>\n",
              "      <th>2</th>\n",
              "      <td>http://localhost:8080/tienda1/global/menum.jsp</td>\n",
              "      <td>0</td>\n",
              "      <td>0</td>\n",
              "      <td>0.002620</td>\n",
              "    </tr>\n",
              "    <tr>\n",
              "      <th>3</th>\n",
              "      <td>http://localhost:8080/tienda1/miembros/editar....</td>\n",
              "      <td>0</td>\n",
              "      <td>0</td>\n",
              "      <td>0.764174</td>\n",
              "    </tr>\n",
              "    <tr>\n",
              "      <th>4</th>\n",
              "      <td>http://localhost:8080/tienda1/publico/autentic...</td>\n",
              "      <td>0</td>\n",
              "      <td>0</td>\n",
              "      <td>0.759452</td>\n",
              "    </tr>\n",
              "  </tbody>\n",
              "</table>\n",
              "</div>"
            ],
            "text/plain": [
              "                                                 URL  Target  y_match    y_pred\n",
              "0  http://localhost:8080/tienda1/publico/producto...       0        0  0.002663\n",
              "1  http://localhost:8080/tienda1/publico/miembros...       0        0  0.002899\n",
              "2    http://localhost:8080/tienda1/global/menum.jsp        0        0  0.002620\n",
              "3  http://localhost:8080/tienda1/miembros/editar....       0        0  0.764174\n",
              "4  http://localhost:8080/tienda1/publico/autentic...       0        0  0.759452"
            ]
          },
          "metadata": {
            "tags": []
          },
          "execution_count": 24
        }
      ]
    },
    {
      "cell_type": "code",
      "metadata": {
        "colab": {
          "base_uri": "https://localhost:8080/",
          "height": 197
        },
        "id": "jipsQ1lz-0l0",
        "outputId": "436cba89-4959-48f0-d45b-cd8c3d095206"
      },
      "source": [
        "evaluation['y_pred'] = evaluation['y_pred'].apply(lambda x:1 if x >= 0.5 else 0)\r\n",
        "evaluation.head()"
      ],
      "execution_count": 25,
      "outputs": [
        {
          "output_type": "execute_result",
          "data": {
            "text/html": [
              "<div>\n",
              "<style scoped>\n",
              "    .dataframe tbody tr th:only-of-type {\n",
              "        vertical-align: middle;\n",
              "    }\n",
              "\n",
              "    .dataframe tbody tr th {\n",
              "        vertical-align: top;\n",
              "    }\n",
              "\n",
              "    .dataframe thead th {\n",
              "        text-align: right;\n",
              "    }\n",
              "</style>\n",
              "<table border=\"1\" class=\"dataframe\">\n",
              "  <thead>\n",
              "    <tr style=\"text-align: right;\">\n",
              "      <th></th>\n",
              "      <th>URL</th>\n",
              "      <th>Target</th>\n",
              "      <th>y_match</th>\n",
              "      <th>y_pred</th>\n",
              "    </tr>\n",
              "  </thead>\n",
              "  <tbody>\n",
              "    <tr>\n",
              "      <th>0</th>\n",
              "      <td>http://localhost:8080/tienda1/publico/producto...</td>\n",
              "      <td>0</td>\n",
              "      <td>0</td>\n",
              "      <td>0</td>\n",
              "    </tr>\n",
              "    <tr>\n",
              "      <th>1</th>\n",
              "      <td>http://localhost:8080/tienda1/publico/miembros...</td>\n",
              "      <td>0</td>\n",
              "      <td>0</td>\n",
              "      <td>0</td>\n",
              "    </tr>\n",
              "    <tr>\n",
              "      <th>2</th>\n",
              "      <td>http://localhost:8080/tienda1/global/menum.jsp</td>\n",
              "      <td>0</td>\n",
              "      <td>0</td>\n",
              "      <td>0</td>\n",
              "    </tr>\n",
              "    <tr>\n",
              "      <th>3</th>\n",
              "      <td>http://localhost:8080/tienda1/miembros/editar....</td>\n",
              "      <td>0</td>\n",
              "      <td>0</td>\n",
              "      <td>1</td>\n",
              "    </tr>\n",
              "    <tr>\n",
              "      <th>4</th>\n",
              "      <td>http://localhost:8080/tienda1/publico/autentic...</td>\n",
              "      <td>0</td>\n",
              "      <td>0</td>\n",
              "      <td>1</td>\n",
              "    </tr>\n",
              "  </tbody>\n",
              "</table>\n",
              "</div>"
            ],
            "text/plain": [
              "                                                 URL  Target  y_match  y_pred\n",
              "0  http://localhost:8080/tienda1/publico/producto...       0        0       0\n",
              "1  http://localhost:8080/tienda1/publico/miembros...       0        0       0\n",
              "2    http://localhost:8080/tienda1/global/menum.jsp        0        0       0\n",
              "3  http://localhost:8080/tienda1/miembros/editar....       0        0       1\n",
              "4  http://localhost:8080/tienda1/publico/autentic...       0        0       1"
            ]
          },
          "metadata": {
            "tags": []
          },
          "execution_count": 25
        }
      ]
    },
    {
      "cell_type": "code",
      "metadata": {
        "colab": {
          "base_uri": "https://localhost:8080/"
        },
        "id": "6QW9ZaHOEJ0T",
        "outputId": "3b556f46-b5a5-4183-ab81-c12191c307fe"
      },
      "source": [
        "print(sum(evaluation['Target']))\r\n",
        "print(sum(evaluation['y_pred']))"
      ],
      "execution_count": 26,
      "outputs": [
        {
          "output_type": "stream",
          "text": [
            "2563\n",
            "3362\n"
          ],
          "name": "stdout"
        }
      ]
    },
    {
      "cell_type": "code",
      "metadata": {
        "colab": {
          "base_uri": "https://localhost:8080/",
          "height": 197
        },
        "id": "iebiffvGFVmP",
        "outputId": "07d1bea9-ca94-4c1f-c646-24563f5c4a97"
      },
      "source": [
        "evaluation['WAffle'] = (evaluation['y_pred'] | evaluation['y_match'])\r\n",
        "evaluation.head()"
      ],
      "execution_count": 27,
      "outputs": [
        {
          "output_type": "execute_result",
          "data": {
            "text/html": [
              "<div>\n",
              "<style scoped>\n",
              "    .dataframe tbody tr th:only-of-type {\n",
              "        vertical-align: middle;\n",
              "    }\n",
              "\n",
              "    .dataframe tbody tr th {\n",
              "        vertical-align: top;\n",
              "    }\n",
              "\n",
              "    .dataframe thead th {\n",
              "        text-align: right;\n",
              "    }\n",
              "</style>\n",
              "<table border=\"1\" class=\"dataframe\">\n",
              "  <thead>\n",
              "    <tr style=\"text-align: right;\">\n",
              "      <th></th>\n",
              "      <th>URL</th>\n",
              "      <th>Target</th>\n",
              "      <th>y_match</th>\n",
              "      <th>y_pred</th>\n",
              "      <th>WAffle</th>\n",
              "    </tr>\n",
              "  </thead>\n",
              "  <tbody>\n",
              "    <tr>\n",
              "      <th>0</th>\n",
              "      <td>http://localhost:8080/tienda1/publico/producto...</td>\n",
              "      <td>0</td>\n",
              "      <td>0</td>\n",
              "      <td>0</td>\n",
              "      <td>0</td>\n",
              "    </tr>\n",
              "    <tr>\n",
              "      <th>1</th>\n",
              "      <td>http://localhost:8080/tienda1/publico/miembros...</td>\n",
              "      <td>0</td>\n",
              "      <td>0</td>\n",
              "      <td>0</td>\n",
              "      <td>0</td>\n",
              "    </tr>\n",
              "    <tr>\n",
              "      <th>2</th>\n",
              "      <td>http://localhost:8080/tienda1/global/menum.jsp</td>\n",
              "      <td>0</td>\n",
              "      <td>0</td>\n",
              "      <td>0</td>\n",
              "      <td>0</td>\n",
              "    </tr>\n",
              "    <tr>\n",
              "      <th>3</th>\n",
              "      <td>http://localhost:8080/tienda1/miembros/editar....</td>\n",
              "      <td>0</td>\n",
              "      <td>0</td>\n",
              "      <td>1</td>\n",
              "      <td>1</td>\n",
              "    </tr>\n",
              "    <tr>\n",
              "      <th>4</th>\n",
              "      <td>http://localhost:8080/tienda1/publico/autentic...</td>\n",
              "      <td>0</td>\n",
              "      <td>0</td>\n",
              "      <td>1</td>\n",
              "      <td>1</td>\n",
              "    </tr>\n",
              "  </tbody>\n",
              "</table>\n",
              "</div>"
            ],
            "text/plain": [
              "                                                 URL  Target  ...  y_pred  WAffle\n",
              "0  http://localhost:8080/tienda1/publico/producto...       0  ...       0       0\n",
              "1  http://localhost:8080/tienda1/publico/miembros...       0  ...       0       0\n",
              "2    http://localhost:8080/tienda1/global/menum.jsp        0  ...       0       0\n",
              "3  http://localhost:8080/tienda1/miembros/editar....       0  ...       1       1\n",
              "4  http://localhost:8080/tienda1/publico/autentic...       0  ...       1       1\n",
              "\n",
              "[5 rows x 5 columns]"
            ]
          },
          "metadata": {
            "tags": []
          },
          "execution_count": 27
        }
      ]
    },
    {
      "cell_type": "code",
      "metadata": {
        "colab": {
          "base_uri": "https://localhost:8080/"
        },
        "id": "GNovsX7UIjWF",
        "outputId": "52b79ebb-8faa-4b26-f986-a4a1de8f2493"
      },
      "source": [
        "print(accuracy_score(evaluation['Target'], evaluation['WAffle']))\r\n",
        "print(precision_score(evaluation['Target'], evaluation['WAffle']))\r\n",
        "print(recall_score(evaluation['Target'], evaluation['WAffle']))"
      ],
      "execution_count": 28,
      "outputs": [
        {
          "output_type": "stream",
          "text": [
            "0.8635991485180939\n",
            "0.7572873289708507\n",
            "0.9933671478735856\n"
          ],
          "name": "stdout"
        }
      ]
    },
    {
      "cell_type": "code",
      "metadata": {
        "colab": {
          "base_uri": "https://localhost:8080/"
        },
        "id": "8RL6YNaMl3oX",
        "outputId": "6d78a324-abcb-4c4e-c02c-803f12d21b54"
      },
      "source": [
        "print(classification_report(evaluation['Target'], evaluation['WAffle']))"
      ],
      "execution_count": 29,
      "outputs": [
        {
          "output_type": "stream",
          "text": [
            "              precision    recall  f1-score   support\n",
            "\n",
            "           0       0.99      0.77      0.87      3544\n",
            "           1       0.76      0.99      0.86      2563\n",
            "\n",
            "    accuracy                           0.86      6107\n",
            "   macro avg       0.88      0.88      0.86      6107\n",
            "weighted avg       0.89      0.86      0.86      6107\n",
            "\n"
          ],
          "name": "stdout"
        }
      ]
    },
    {
      "cell_type": "code",
      "metadata": {
        "colab": {
          "base_uri": "https://localhost:8080/"
        },
        "id": "LAQYtmohnhKY",
        "outputId": "5916c32e-f256-430d-fa93-793b8568e0c4"
      },
      "source": [
        "d = classification_report(evaluation['Target'], evaluation['WAffle'], output_dict=True)\r\n",
        "pprint.pprint(d)"
      ],
      "execution_count": 30,
      "outputs": [
        {
          "output_type": "stream",
          "text": [
            "{'0': {'f1-score': 0.8675465097789793,\n",
            "       'precision': 0.9938069216757741,\n",
            "       'recall': 0.7697516930022573,\n",
            "       'support': 3544},\n",
            " '1': {'f1-score': 0.8594092827004219,\n",
            "       'precision': 0.7572873289708507,\n",
            "       'recall': 0.9933671478735856,\n",
            "       'support': 2563},\n",
            " 'accuracy': 0.8635991485180939,\n",
            " 'macro avg': {'f1-score': 0.8634778962397006,\n",
            "               'precision': 0.8755471253233125,\n",
            "               'recall': 0.8815594204379215,\n",
            "               'support': 6107},\n",
            " 'weighted avg': {'f1-score': 0.8641314593446674,\n",
            "                  'precision': 0.8945438275047051,\n",
            "                  'recall': 0.8635991485180939,\n",
            "                  'support': 6107}}\n"
          ],
          "name": "stdout"
        }
      ]
    },
    {
      "cell_type": "code",
      "metadata": {
        "colab": {
          "base_uri": "https://localhost:8080/"
        },
        "id": "79MjwB-rHjCU",
        "outputId": "a447c6ac-8f18-4e25-853f-237afd2c8af1"
      },
      "source": [
        "cm = confusion_matrix(evaluation['Target'], evaluation['WAffle'])\r\n",
        "print(cm)"
      ],
      "execution_count": 31,
      "outputs": [
        {
          "output_type": "stream",
          "text": [
            "[[2728  816]\n",
            " [  17 2546]]\n"
          ],
          "name": "stdout"
        }
      ]
    },
    {
      "cell_type": "code",
      "metadata": {
        "colab": {
          "base_uri": "https://localhost:8080/",
          "height": 282
        },
        "id": "JLmsOGCkHz_X",
        "outputId": "231890b2-9c2b-47b4-fcf5-f78e6a543dd1"
      },
      "source": [
        "from sklearn.metrics import confusion_matrix\r\n",
        "import seaborn as sns\r\n",
        "import matplotlib.pyplot as plt\r\n",
        "sns.heatmap(cm)"
      ],
      "execution_count": 32,
      "outputs": [
        {
          "output_type": "execute_result",
          "data": {
            "text/plain": [
              "<matplotlib.axes._subplots.AxesSubplot at 0x7f0a0efb4128>"
            ]
          },
          "metadata": {
            "tags": []
          },
          "execution_count": 32
        },
        {
          "output_type": "display_data",
          "data": {
            "image/png": "[encoded data removed]",
            "text/plain": [
              "<Figure size 432x288 with 2 Axes>"
            ]
          },
          "metadata": {
            "tags": [],
            "needs_background": "light"
          }
        }
      ]
    },
    {
      "cell_type": "code",
      "metadata": {
        "id": "RsJSpTzIH_V4"
      },
      "source": [
        "evaluation.to_csv('./Dataset/cisc_database/evaluation.csv')"
      ],
      "execution_count": 33,
      "outputs": []
    }
  ]
}